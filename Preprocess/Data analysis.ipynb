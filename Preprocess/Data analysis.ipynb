{
 "cells": [
  {
   "cell_type": "markdown",
   "id": "c95ed5b8-ed32-479b-9637-18cf76209383",
   "metadata": {},
   "source": [
    "## tss, cisa value"
   ]
  },
  {
   "cell_type": "code",
   "execution_count": 58,
   "id": "68c522e1-11f9-42af-bfba-8e1835af8256",
   "metadata": {
    "execution": {
     "iopub.execute_input": "2022-01-15T14:46:48.605411Z",
     "iopub.status.busy": "2022-01-15T14:46:48.604909Z",
     "iopub.status.idle": "2022-01-15T14:46:48.644542Z",
     "shell.execute_reply": "2022-01-15T14:46:48.643850Z",
     "shell.execute_reply.started": "2022-01-15T14:46:48.605360Z"
    },
    "tags": []
   },
   "outputs": [
    {
     "name": "stdout",
     "output_type": "stream",
     "text": [
      "tss_train  mean: 0.10152053087949753, max: 1.5700000524520874, min: 0.0\n",
      "cisa_train  mean: 4.143388271331787, max: 7.0, min: 0.0\n"
     ]
    },
    {
     "data": {
      "text/plain": [
       "8703"
      ]
     },
     "execution_count": 58,
     "metadata": {},
     "output_type": "execute_result"
    }
   ],
   "source": [
    "import pandas as pd\n",
    "import numpy as np\n",
    "\n",
    "tss_train = np.load(input_path+'tss_train.npz')['arr_0']\n",
    "tss_test = np.load(input_path+'tss_test.npz')['arr_0']\n",
    "tss_val = np.load(input_path+'tss_val.npz')['arr_0']\n",
    "cisa_train = np.load(input_path+'cisa_train.npz')['arr_0']\n",
    "cisa_test = np.load(input_path+'cisa_test.npz')['arr_0']\n",
    "cisa_val = np.load(input_path+'cisa_val.npz')['arr_0']\n",
    "\n",
    "\n",
    "print(f'tss_train  mean: {np.mean(tss_train):.3f}, max: {np.max(tss_train):.2f}, min: {np.min(tss_train)}')\n",
    "print(f'cisa_train  mean: {np.mean(cisa_train):.2f}, max: {np.max(cisa_train):.2f}, min: {np.min(cisa_train)}')\n",
    "np.sum(tss_train==0)"
   ]
  },
  {
   "cell_type": "code",
   "execution_count": 69,
   "id": "de760511-2bd3-4277-9a2e-277b119b2151",
   "metadata": {
    "execution": {
     "iopub.execute_input": "2022-01-16T02:50:04.370947Z",
     "iopub.status.busy": "2022-01-16T02:50:04.370452Z",
     "iopub.status.idle": "2022-01-16T02:50:04.401448Z",
     "shell.execute_reply": "2022-01-16T02:50:04.400892Z",
     "shell.execute_reply.started": "2022-01-16T02:50:04.370899Z"
    },
    "tags": []
   },
   "outputs": [
    {
     "data": {
      "text/plain": [
       "(64.4265845873233, 17544)"
      ]
     },
     "execution_count": 69,
     "metadata": {},
     "output_type": "execute_result"
    }
   ],
   "source": [
    "len(cisa[cisa!=0])/len(cisa)*100, len(cisa)"
   ]
  },
  {
   "cell_type": "code",
   "execution_count": 86,
   "id": "00c740c1-cd07-44bc-a1b4-3a1beebfd31f",
   "metadata": {
    "execution": {
     "iopub.execute_input": "2022-01-17T04:27:54.729010Z",
     "iopub.status.busy": "2022-01-17T04:27:54.728524Z",
     "iopub.status.idle": "2022-01-17T04:27:55.012038Z",
     "shell.execute_reply": "2022-01-17T04:27:55.011388Z",
     "shell.execute_reply.started": "2022-01-17T04:27:54.728962Z"
    },
    "tags": []
   },
   "outputs": [
    {
     "name": "stdout",
     "output_type": "stream",
     "text": [
      "event segments(cisa=!0): 11303/17544 (64.4265845873233%)\n"
     ]
    },
    {
     "data": {
      "text/plain": [
       "<seaborn.axisgrid.FacetGrid at 0x7ffb9040a310>"
      ]
     },
     "execution_count": 86,
     "metadata": {},
     "output_type": "execute_result"
    },
    {
     "data": {
      "image/png": "[encoded data removed]",
      "text/plain": [
       "<Figure size 360x360 with 1 Axes>"
      ]
     },
     "metadata": {
      "needs_background": "light"
     },
     "output_type": "display_data"
    }
   ],
   "source": [
    "import seaborn as sns\n",
    "\n",
    "# cisa = 7 - rftn/8\n",
    "cisa = np.concatenate((cisa_train, cisa_val, cisa_test), axis=0)\n",
    "cisa_nz = cisa[cisa!=0]\n",
    "\n",
    "print(f'event segments(cisa=!0): {len(cisa[cisa!=0])}/{len(cisa)} ({len(cisa[cisa!=0])/len(cisa)*100}%)')\n",
    "\n",
    "sns.displot(cisa_nz, bins=20)"
   ]
  },
  {
   "cell_type": "code",
   "execution_count": 72,
   "id": "32013eea-a6ff-4990-9ebc-fe45dde94c82",
   "metadata": {
    "execution": {
     "iopub.execute_input": "2022-01-16T06:34:48.330150Z",
     "iopub.status.busy": "2022-01-16T06:34:48.329652Z",
     "iopub.status.idle": "2022-01-16T06:34:48.602223Z",
     "shell.execute_reply": "2022-01-16T06:34:48.601590Z",
     "shell.execute_reply.started": "2022-01-16T06:34:48.330101Z"
    },
    "tags": []
   },
   "outputs": [
    {
     "data": {
      "text/plain": [
       "<seaborn.axisgrid.FacetGrid at 0x7ffb9291afa0>"
      ]
     },
     "execution_count": 72,
     "metadata": {},
     "output_type": "execute_result"
    },
    {
     "data": {
      "image/png": "[encoded data removed]",
      "text/plain": [
       "<Figure size 360x360 with 1 Axes>"
      ]
     },
     "metadata": {
      "needs_background": "light"
     },
     "output_type": "display_data"
    }
   ],
   "source": [
    "sns.displot(tss_val)"
   ]
  },
  {
   "cell_type": "code",
   "execution_count": 85,
   "id": "f8f86b46-fa1f-4e8b-8ed0-7387233a0f18",
   "metadata": {
    "execution": {
     "iopub.execute_input": "2022-01-17T04:27:26.045741Z",
     "iopub.status.busy": "2022-01-17T04:27:26.045028Z",
     "iopub.status.idle": "2022-01-17T04:27:26.370876Z",
     "shell.execute_reply": "2022-01-17T04:27:26.370408Z",
     "shell.execute_reply.started": "2022-01-17T04:27:26.045663Z"
    },
    "tags": []
   },
   "outputs": [
    {
     "name": "stdout",
     "output_type": "stream",
     "text": [
      "event segments(tss=!0): 6839/17544 (38.98198814409485%)\n"
     ]
    },
    {
     "data": {
      "text/plain": [
       "<seaborn.axisgrid.FacetGrid at 0x7ffb903a67c0>"
      ]
     },
     "execution_count": 85,
     "metadata": {},
     "output_type": "execute_result"
    },
    {
     "data": {
      "image/png": "[encoded data removed]",
      "text/plain": [
       "<Figure size 360x360 with 1 Axes>"
      ]
     },
     "metadata": {
      "needs_background": "light"
     },
     "output_type": "display_data"
    }
   ],
   "source": [
    "import seaborn as sns\n",
    "\n",
    "# tss = 1.57 - rftn/3\n",
    "tss = np.concatenate((tss_train, tss_val, tss_test), axis=0)\n",
    "tss_nz = tss[tss!=0]\n",
    "\n",
    "print(f'event segments(tss=!0): {len(tss[tss!=0])}/{len(tss)} ({len(tss[tss!=0])/len(tss)*100}%)')\n",
    "\n",
    "sns.displot(tss_nz, bins=20)"
   ]
  },
  {
   "cell_type": "code",
   "execution_count": 78,
   "id": "7a9a6013-4831-4cfa-a6a4-a311c3eb8141",
   "metadata": {
    "execution": {
     "iopub.execute_input": "2022-01-16T12:29:10.770741Z",
     "iopub.status.busy": "2022-01-16T12:29:10.770239Z",
     "iopub.status.idle": "2022-01-16T12:29:11.559353Z",
     "shell.execute_reply": "2022-01-16T12:29:11.558714Z",
     "shell.execute_reply.started": "2022-01-16T12:29:10.770692Z"
    },
    "tags": []
   },
   "outputs": [
    {
     "data": {
      "text/plain": [
       "<AxesSubplot:ylabel='Count'>"
      ]
     },
     "execution_count": 78,
     "metadata": {},
     "output_type": "execute_result"
    },
    {
     "data": {
      "image/png": "[encoded data removed]",
      "text/plain": [
       "<Figure size 432x288 with 1 Axes>"
      ]
     },
     "metadata": {
      "needs_background": "light"
     },
     "output_type": "display_data"
    }
   ],
   "source": [
    "sns.histplot(tss_nz)"
   ]
  },
  {
   "cell_type": "markdown",
   "id": "072f95c4-39f9-458e-8812-b843f43734e8",
   "metadata": {},
   "source": [
    "# df_preprocess"
   ]
  },
  {
   "cell_type": "code",
   "execution_count": 87,
   "id": "07500f76-1f00-46c6-86e4-52e66821ee49",
   "metadata": {
    "execution": {
     "iopub.execute_input": "2022-01-17T04:29:37.815402Z",
     "iopub.status.busy": "2022-01-17T04:29:37.814887Z",
     "iopub.status.idle": "2022-01-17T04:29:38.494460Z",
     "shell.execute_reply": "2022-01-17T04:29:38.493774Z",
     "shell.execute_reply.started": "2022-01-17T04:29:37.815339Z"
    },
    "tags": []
   },
   "outputs": [
    {
     "name": "stdout",
     "output_type": "stream",
     "text": [
      "non-event seg pass: 46.51%, event seg pass: 39.16%\n",
      "passed segments : 17802\n"
     ]
    }
   ],
   "source": [
    "df_preprocess = pickle.load(open('cache/preprocess/df_preprocess', 'rb'))\n",
    "\n",
    "# 전처리 통과 비율 출력\n",
    "ne_pass, e_pass = 0, 0\n",
    "\n",
    "for _, row in df_preprocess.iterrows():   \n",
    "    for i in range(n_aug):\n",
    "        if row[str(i+1)][0]:\n",
    "            ne_pass = ne_pass + 1\n",
    "\n",
    "    for i in range(n_aug, n_aug+n_aug2):\n",
    "        if row[str(i+1)][0]:\n",
    "            e_pass = e_pass + 1\n",
    "\n",
    "print(f'non-event seg pass: {ne_pass/n_aug/2684*100:.2f}%, event seg pass: {e_pass/n_aug2/2684*100:.2f}%')\n",
    "print(f'passed segments : {ne_pass+e_pass}')"
   ]
  },
  {
   "cell_type": "code",
   "execution_count": 88,
   "id": "cf84a344-89e0-4ae2-aab4-86ba5dbd1974",
   "metadata": {
    "execution": {
     "iopub.execute_input": "2022-01-18T05:26:58.835145Z",
     "iopub.status.busy": "2022-01-18T05:26:58.834740Z",
     "iopub.status.idle": "2022-01-18T05:26:59.013075Z",
     "shell.execute_reply": "2022-01-18T05:26:59.012483Z",
     "shell.execute_reply.started": "2022-01-18T05:26:58.835107Z"
    },
    "tags": []
   },
   "outputs": [
    {
     "data": {
      "text/html": [
       "<div>\n",
       "<style scoped>\n",
       "    .dataframe tbody tr th:only-of-type {\n",
       "        vertical-align: middle;\n",
       "    }\n",
       "\n",
       "    .dataframe tbody tr th {\n",
       "        vertical-align: top;\n",
       "    }\n",
       "\n",
       "    .dataframe thead th {\n",
       "        text-align: right;\n",
       "    }\n",
       "</style>\n",
       "<table border=\"1\" class=\"dataframe\">\n",
       "  <thead>\n",
       "    <tr style=\"text-align: right;\">\n",
       "      <th></th>\n",
       "      <th>caseid</th>\n",
       "      <th>1</th>\n",
       "      <th>2</th>\n",
       "      <th>3</th>\n",
       "      <th>4</th>\n",
       "      <th>5</th>\n",
       "      <th>6</th>\n",
       "      <th>7</th>\n",
       "      <th>8</th>\n",
       "      <th>9</th>\n",
       "      <th>10</th>\n",
       "      <th>11</th>\n",
       "      <th>12</th>\n",
       "      <th>13</th>\n",
       "      <th>14</th>\n",
       "      <th>15</th>\n",
       "      <th>16</th>\n",
       "      <th>age</th>\n",
       "      <th>gender</th>\n",
       "    </tr>\n",
       "  </thead>\n",
       "  <tbody>\n",
       "    <tr>\n",
       "      <th>0</th>\n",
       "      <td>5974</td>\n",
       "      <td>[True, [0.0, 0.0, 0.0], [0.0, 0.0], 0, 0]</td>\n",
       "      <td>[True, [0.0, 0.0, 0.0], [0.0, 0.0], 0, 0]</td>\n",
       "      <td>[True, [0.0, 0.0, 0.0], [0.0, 0.0], 0, 0]</td>\n",
       "      <td>[True, [0.0, 0.0, 0.0], [0.0, 0.0], 0, 0]</td>\n",
       "      <td>[True, [0.0, 0.0, 0.0], [0.0, 0.0], 0, 0]</td>\n",
       "      <td>[True, [0.0, 0.0, 0.0], [0.0, 0.03846153846153...</td>\n",
       "      <td>[True, [0.0, 0.0, 0.0], [0.0, 0.04], 0.0341666...</td>\n",
       "      <td>[True, [0.0, 0.0, 0.0], [0.0, 0.0], 0.07766674...</td>\n",
       "      <td>[True, [0.0, 0.0, 0.0], [0.038461538461538464,...</td>\n",
       "      <td>[True, [0.0, 0.0, 0.0], [0.0, 0.0], 0.17106674...</td>\n",
       "      <td>[True, [0.0, 0.0, 0.0], [0.0, 0.0], 0.21976660...</td>\n",
       "      <td>[True, [0.0, 0.0, 0.0], [0.0, 0.0], 0.26688328...</td>\n",
       "      <td>[True, [0.0, 0.0, 0.0], [0.0, 0.0], 0.31273339...</td>\n",
       "      <td>[True, [0.0, 0.0, 0.0], [0.0, 0.0], 0.35754997...</td>\n",
       "      <td>[True, [0.0, 0.0, 0.0], [0.0, 0.0], 0.40108329...</td>\n",
       "      <td>[True, [0.0, 0.0, 0.0], [0.0, 0.0], 0.44484844...</td>\n",
       "      <td>49.0</td>\n",
       "      <td>F</td>\n",
       "    </tr>\n",
       "    <tr>\n",
       "      <th>1</th>\n",
       "      <td>801</td>\n",
       "      <td>[True, [0.0, 0.0, 0.0], [0.0, 0.0], 0, 0]</td>\n",
       "      <td>[True, [0.0, 0.0, 0.0], [0.0, 0.0], 0, 0]</td>\n",
       "      <td>[True, [0.0, 0.0, 0.0], [0.0, 0.0], 0, 0]</td>\n",
       "      <td>[True, [0.0, 0.0, 0.0], [0.0, 0.0], 0, 0]</td>\n",
       "      <td>[True, [0.0, 0.0, 0.0], [0.0, 0.0], 0, 0]</td>\n",
       "      <td>[False, [0.0, 0.0, 0.0], [0.03225806451612903,...</td>\n",
       "      <td>[False, [0.0, 0.0, 0.0], [0.03225806451612903,...</td>\n",
       "      <td>[False, [0.0, 0.0, 0.0], [0.09375, 0.892857142...</td>\n",
       "      <td>[False, [0.0, 0.0, 0.0], [0.23333333333333334,...</td>\n",
       "      <td>[False, [0.0, 0.0, 0.0], [0.3103448275862069, ...</td>\n",
       "      <td>[False, [0.0, 0.0, 0.0], [0.06451612903225806,...</td>\n",
       "      <td>[False, [0.0, 0.0, 0.0], [0.0, 0.2916666666666...</td>\n",
       "      <td>[True, [0.0, 0.0, 0.0], [0.0, 0.0], 0.05892434...</td>\n",
       "      <td>[True, [0.0, 0.0, 0.0], [0.0, 0.0], 0.09669445...</td>\n",
       "      <td>[False, [0.0, 0.0, 0.0], [0.15384615384615385,...</td>\n",
       "      <td>[False, [0.0, 0.0, 0.0], [0.24, 0.296296296296...</td>\n",
       "      <td>62.0</td>\n",
       "      <td>F</td>\n",
       "    </tr>\n",
       "    <tr>\n",
       "      <th>2</th>\n",
       "      <td>2790</td>\n",
       "      <td>[True, [0.0, 0.0, 0.0], [0.0, 0.0], 0, 0]</td>\n",
       "      <td>[True, [0.0, 0.0, 0.0], [0.0, 0.0], 0, 0]</td>\n",
       "      <td>[True, [0.0, 0.0, 0.0], [0.0, 0.0], 0, 0]</td>\n",
       "      <td>[True, [0.0, 0.0, 0.0], [0.0, 0.0], 0, 0]</td>\n",
       "      <td>[True, [0.0, 0.0, 0.0], [0.0, 0.0], 0, 0]</td>\n",
       "      <td>[True, [0.0, 0.0, 0.0], [0.0, 0.04], 0.2393665...</td>\n",
       "      <td>[True, [0.0, 0.0, 0.0], [0.0, 0.08], 0.2391282...</td>\n",
       "      <td>[True, [0.0, 0.0, 0.0], [0.0, 0.08], 0.2395554...</td>\n",
       "      <td>[True, [0.0, 0.0, 0.0], [0.0, 0.0], 0.24490474...</td>\n",
       "      <td>[True, [0.0, 0.0, 0.0], [0.0, 0.0], 0.25905552...</td>\n",
       "      <td>[True, [0.0, 0.0, 0.0], [0.0, 0.0], 0.27888876...</td>\n",
       "      <td>[True, [0.0, 0.0, 0.0], [0.0, 0.0], 0.30361118...</td>\n",
       "      <td>[True, [0.0, 0.0, 0.0], [0.0, 0.0], 0.33833335...</td>\n",
       "      <td>[True, [0.0, 0.0, 0.0], [0.0, 0.0], 0.36210003...</td>\n",
       "      <td>[True, [0.0, 0.0, 0.0], [0.0, 0.09523809523809...</td>\n",
       "      <td>[True, [0.0, 0.0, 0.0], [0.0, 0.09523809523809...</td>\n",
       "      <td>60.0</td>\n",
       "      <td>F</td>\n",
       "    </tr>\n",
       "    <tr>\n",
       "      <th>3</th>\n",
       "      <td>1413</td>\n",
       "      <td>[True, [0.0, 0.0, 0.0], [0.0, 0.05], 0, 0]</td>\n",
       "      <td>[True, [0.0, 0.0, 0.0], [0.05, 0.0], 0, 0]</td>\n",
       "      <td>[True, [0.0, 0.0, 0.0], [0.047619047619047616,...</td>\n",
       "      <td>[False, [0.0, 0.0, 0.0], [0.0, 0.1], 0, 0]</td>\n",
       "      <td>[False, [0.0, 0.0, 0.0], [0.0, 0.2], 0, 0]</td>\n",
       "      <td>[False, [0.0, 0.0, 0.0], [0.18181818181818182,...</td>\n",
       "      <td>[False, [0.0, 0.0, 0.0], [0.5, 0.1739130434782...</td>\n",
       "      <td>[False, [0.0, 0.0, 0.0], [0.42857142857142855,...</td>\n",
       "      <td>[False, [0.0, 0.0, 0.0], [0.5882352941176471, ...</td>\n",
       "      <td>(False, [0.0, 0.0, 0.0], [-2, -2])</td>\n",
       "      <td>(False, [0.0, 0.0, 0.0], [-2, -2])</td>\n",
       "      <td>[False, [0.0, 0.0, 0.0], [1.0, 0.0476190476190...</td>\n",
       "      <td>(False, [0.0, 0.0, 0.0], [-2, -2])</td>\n",
       "      <td>(False, [0.0, 0.0, 0.0], [-2, -2])</td>\n",
       "      <td>[False, [0.0, 0.0, 0.0], [1.0, 0.05], 0, 6.374...</td>\n",
       "      <td>[False, [0.0, 0.0, 0.0], [1.0, 0.0], 0, 6.3747...</td>\n",
       "      <td>48.0</td>\n",
       "      <td>M</td>\n",
       "    </tr>\n",
       "    <tr>\n",
       "      <th>4</th>\n",
       "      <td>4057</td>\n",
       "      <td>[True, [0.0, 0.0, 0.0], [0.0, 0.0], 0, 0]</td>\n",
       "      <td>[True, [0.0, 0.0, 0.0], [0.0, 0.0], 0, 0]</td>\n",
       "      <td>[True, [0.0, 0.0, 0.0], [0.0, 0.0], 0, 0]</td>\n",
       "      <td>[True, [0.0, 0.0, 0.0], [0.0, 0.0], 0, 0]</td>\n",
       "      <td>[True, [0.0, 0.0, 0.0], [0.0625, 0.0], 0, 0]</td>\n",
       "      <td>[True, [0.0, 0.0, 0.0], [0.0, 0.0], 0, 6.37558...</td>\n",
       "      <td>[True, [0.0, 0.0, 0.0], [0.0, 0.0], 0, 6.37552...</td>\n",
       "      <td>[True, [0.0, 0.0, 0.0], [0.0, 0.0], 0, 6.37550...</td>\n",
       "      <td>[True, [0.0, 0.0, 0.0], [0.0, 0.0], 0, 6.37545...</td>\n",
       "      <td>[True, [0.0, 0.0, 0.0], [0.0, 0.0], 0, 6.37535...</td>\n",
       "      <td>[True, [0.0, 0.0, 0.0], [0.058823529411764705,...</td>\n",
       "      <td>[True, [0.0, 0.0, 0.0], [0.058823529411764705,...</td>\n",
       "      <td>[False, [0.0, 0.0, 0.0], [0.058823529411764705...</td>\n",
       "      <td>[True, [0.0, 0.0, 0.0], [0.0, 0.05882352941176...</td>\n",
       "      <td>[True, [0.0, 0.0, 0.0], [0.0, 0.0], 0, 6.37508...</td>\n",
       "      <td>[True, [0.0, 0.0, 0.0], [0.0, 0.0], 0, 6.37502...</td>\n",
       "      <td>50.0</td>\n",
       "      <td>F</td>\n",
       "    </tr>\n",
       "    <tr>\n",
       "      <th>...</th>\n",
       "      <td>...</td>\n",
       "      <td>...</td>\n",
       "      <td>...</td>\n",
       "      <td>...</td>\n",
       "      <td>...</td>\n",
       "      <td>...</td>\n",
       "      <td>...</td>\n",
       "      <td>...</td>\n",
       "      <td>...</td>\n",
       "      <td>...</td>\n",
       "      <td>...</td>\n",
       "      <td>...</td>\n",
       "      <td>...</td>\n",
       "      <td>...</td>\n",
       "      <td>...</td>\n",
       "      <td>...</td>\n",
       "      <td>...</td>\n",
       "      <td>...</td>\n",
       "      <td>...</td>\n",
       "    </tr>\n",
       "    <tr>\n",
       "      <th>2679</th>\n",
       "      <td>5882</td>\n",
       "      <td>[False, [0.0, 0.0, 0.0], [0.0, 0.9285714285714...</td>\n",
       "      <td>[False, [0.0, 0.0, 0.0], [0.0, 0.6666666666666...</td>\n",
       "      <td>[False, [0.0, 0.0, 0.0], [0.16666666666666666,...</td>\n",
       "      <td>[False, [0.0, 0.0, 0.0], [0.0, 0.2307692307692...</td>\n",
       "      <td>[True, [0.0, 0.0, 0.0], [0.0, 0.07692307692307...</td>\n",
       "      <td>[False, [0.0, 0.0, 0.0], [0.0, 0.16], 0.254633...</td>\n",
       "      <td>[True, [0.0, 0.0, 0.0], [0.0, 0.08], 0.2714333...</td>\n",
       "      <td>[False, [0.0, 0.0, 0.0], [0.0, 0.1153846153846...</td>\n",
       "      <td>[False, [0.0, 0.0, 0.0], [0.0, 0.52], 0.318633...</td>\n",
       "      <td>[False, [0.0, 0.0, 0.0], [0.045454545454545456...</td>\n",
       "      <td>[False, [0.0, 0.0, 0.0], [0.10526315789473684,...</td>\n",
       "      <td>[False, [0.0, 0.0, 0.0], [0.0, 0.5263157894736...</td>\n",
       "      <td>[False, [0.0, 0.0, 0.0], [0.0, 0.3333333333333...</td>\n",
       "      <td>[False, [0.0, 0.0, 0.0], [0.0, 0.9411764705882...</td>\n",
       "      <td>[False, [0.0, 0.0, 0.0], [0.0, 0.8888888888888...</td>\n",
       "      <td>[False, [0.0, 0.0, 0.0], [0.0, 0.9411764705882...</td>\n",
       "      <td>61.0</td>\n",
       "      <td>M</td>\n",
       "    </tr>\n",
       "    <tr>\n",
       "      <th>2680</th>\n",
       "      <td>927</td>\n",
       "      <td>[False, [0.0, 0.0, 0.0], [0.0, 0.1666666666666...</td>\n",
       "      <td>[True, [0.0, 0.0, 0.0], [0.0, 0.0625], 0, 0]</td>\n",
       "      <td>[True, [0.0, 0.0, 0.0], [0.0, 0.0], 0, 0]</td>\n",
       "      <td>[False, [0.0, 0.0, 0.0], [0.25, 1.0], 0, 0]</td>\n",
       "      <td>[False, [0.0, 0.0, 0.0], [0.7857142857142857, ...</td>\n",
       "      <td>[True, [0.0, 0.0, 0.0], [0.0, 0.0], 0.24526197...</td>\n",
       "      <td>[True, [0.0, 0.0, 0.0], [0.0, 0.0], 0.24460719...</td>\n",
       "      <td>[True, [0.0, 0.0, 0.0], [0.07692307692307693, ...</td>\n",
       "      <td>[True, [0.0, 0.0, 0.0], [0.07692307692307693, ...</td>\n",
       "      <td>[True, [0.0, 0.0, 0.0], [0.08333333333333333, ...</td>\n",
       "      <td>[True, [0.0, 0.0, 0.0], [0.0625, 0.0625], 0.24...</td>\n",
       "      <td>[True, [0.0, 0.0, 0.0], [0.0, 0.0], 0.24195240...</td>\n",
       "      <td>[True, [0.0, 0.0, 0.0], [0.058823529411764705,...</td>\n",
       "      <td>[True, [0.0, 0.0, 0.0], [0.058823529411764705,...</td>\n",
       "      <td>[True, [0.0, 0.0, 0.0], [0.058823529411764705,...</td>\n",
       "      <td>[True, [0.0, 0.0, 0.0], [0.0, 0.0], 0.24022633...</td>\n",
       "      <td>60.0</td>\n",
       "      <td>M</td>\n",
       "    </tr>\n",
       "    <tr>\n",
       "      <th>2681</th>\n",
       "      <td>373</td>\n",
       "      <td>[False, [0.0, 0.0, 0.0], [0.0, 0.8095238095238...</td>\n",
       "      <td>[False, [0.0, 0.0, 0.0], [0.0, 0.7894736842105...</td>\n",
       "      <td>[False, [0.0, 0.0, 0.0], [0.0, 0.2631578947368...</td>\n",
       "      <td>[False, [0.0, 0.0, 0.0], [0.0, 0.3684210526315...</td>\n",
       "      <td>[False, [0.0, 0.0, 0.0], [0.0, 0.4210526315789...</td>\n",
       "      <td>[True, [0.0, 0.0, 0.0], [0.03333333333333333, ...</td>\n",
       "      <td>(False, [0.0, 0.0, 0.0], [-2, -2])</td>\n",
       "      <td>[False, [0.0, 0.0, 0.0], [1.0, 0.24], 0, 6.379...</td>\n",
       "      <td>[False, [0.0, 0.0, 0.0], [0.0, 0.1111111111111...</td>\n",
       "      <td>[False, [0.0, 0.0, 0.0], [0.08, 0.230769230769...</td>\n",
       "      <td>[False, [0.0, 0.0, 0.0], [0.12, 0.869565217391...</td>\n",
       "      <td>[False, [0.0, 0.0, 0.0], [0.0, 0.92], 0.061850...</td>\n",
       "      <td>[False, [0.0, 0.0, 0.0], [0.0, 0.5769230769230...</td>\n",
       "      <td>[False, [0.0, 0.0, 0.0], [0.06666666666666667,...</td>\n",
       "      <td>[False, [0.0, 0.0, 0.0], [0.06666666666666667,...</td>\n",
       "      <td>[False, [0.0, 0.0, 0.0], [0.2962962962962963, ...</td>\n",
       "      <td>42.0</td>\n",
       "      <td>F</td>\n",
       "    </tr>\n",
       "    <tr>\n",
       "      <th>2682</th>\n",
       "      <td>2530</td>\n",
       "      <td>[True, [0.0, 0.0, 0.0], [0.0, 0.0], 0, 0]</td>\n",
       "      <td>[False, [0.0, 0.0, 0.0], [0.11764705882352941,...</td>\n",
       "      <td>[False, [0.0, 0.0, 0.0], [0.25, 0.0], 0, 0]</td>\n",
       "      <td>[False, [0.0, 0.0, 0.0], [0.1111111111111111, ...</td>\n",
       "      <td>[True, [0.0, 0.0, 0.0], [0.0, 0.0], 0, 0]</td>\n",
       "      <td>[False, [0.0, 0.0, 0.0], [0.0, 0.2083333333333...</td>\n",
       "      <td>[True, [0.0, 0.0, 0.0], [0.0, 0.0], 0, 6.07729...</td>\n",
       "      <td>[True, [0.0, 0.0, 0.0], [0.0, 0.0], 0, 6.02660...</td>\n",
       "      <td>[True, [0.0, 0.0, 0.0], [0.0, 0.0], 0, 5.98540...</td>\n",
       "      <td>[True, [0.0, 0.0, 0.0], [0.0, 0.0], 0, 5.94193...</td>\n",
       "      <td>[True, [0.0, 0.0, 0.0], [0.0, 0.0], 0, 5.90925...</td>\n",
       "      <td>[True, [0.0, 0.0, 0.0], [0.0, 0.0], 0, 5.89050...</td>\n",
       "      <td>[True, [0.0, 0.0, 0.0], [0.0, 0.0], 0, 5.88306...</td>\n",
       "      <td>[True, [0.0, 0.0, 0.0], [0.0, 0.0], 0, 5.88481...</td>\n",
       "      <td>[True, [0.0, 0.0, 0.0], [0.0, 0.0], 0, 5.89387...</td>\n",
       "      <td>[True, [0.0, 0.0, 0.0], [0.0, 0.0], 0, 5.90868...</td>\n",
       "      <td>62.0</td>\n",
       "      <td>M</td>\n",
       "    </tr>\n",
       "    <tr>\n",
       "      <th>2683</th>\n",
       "      <td>1354</td>\n",
       "      <td>[True, [0.0, 0.0, 0.0], [0.043478260869565216,...</td>\n",
       "      <td>[True, [0.0, 0.0, 0.0], [0.0, 0.0], 0, 0]</td>\n",
       "      <td>[True, [0.0, 0.0, 0.0], [0.0, 0.09090909090909...</td>\n",
       "      <td>[False, [0.0, 0.0, 0.0], [0.0, 0.2272727272727...</td>\n",
       "      <td>[True, [0.0, 0.0, 0.0], [0.0, 0.0], 0, 0]</td>\n",
       "      <td>[False, [0.0, 0.0, 0.0], [0.0, 0.1111111111111...</td>\n",
       "      <td>[False, [0.0, 0.0, 0.0], [0.0, 0.96], 0, 6.375...</td>\n",
       "      <td>[False, [0.0, 0.0, 0.0], [0.03571428571428571,...</td>\n",
       "      <td>[False, [0.0, 0.0, 0.0], [0.2222222222222222, ...</td>\n",
       "      <td>[False, [0.0, 0.0, 0.0], [0.18518518518518517,...</td>\n",
       "      <td>[True, [0.0, 0.0, 0.0], [0.0, 0.03846153846153...</td>\n",
       "      <td>[False, [0.0, 0.0, 0.0], [0.2, 0.0], 0, 6.4020...</td>\n",
       "      <td>[False, [0.0, 0.0, 0.0], [0.28, 0.0], 0.007472...</td>\n",
       "      <td>[True, [0.0, 0.0, 0.0], [0.08, 0.0], 0.0431666...</td>\n",
       "      <td>[True, [0.0, 0.0, 0.0], [0.0, 0.0], 0.08118055...</td>\n",
       "      <td>[True, [0.0, 0.0, 0.0], [0.0, 0.0], 0.12287504...</td>\n",
       "      <td>61.0</td>\n",
       "      <td>F</td>\n",
       "    </tr>\n",
       "  </tbody>\n",
       "</table>\n",
       "<p>2684 rows × 19 columns</p>\n",
       "</div>"
      ],
      "text/plain": [
       "     caseid                                                  1  \\\n",
       "0      5974          [True, [0.0, 0.0, 0.0], [0.0, 0.0], 0, 0]   \n",
       "1       801          [True, [0.0, 0.0, 0.0], [0.0, 0.0], 0, 0]   \n",
       "2      2790          [True, [0.0, 0.0, 0.0], [0.0, 0.0], 0, 0]   \n",
       "3      1413         [True, [0.0, 0.0, 0.0], [0.0, 0.05], 0, 0]   \n",
       "4      4057          [True, [0.0, 0.0, 0.0], [0.0, 0.0], 0, 0]   \n",
       "...     ...                                                ...   \n",
       "2679   5882  [False, [0.0, 0.0, 0.0], [0.0, 0.9285714285714...   \n",
       "2680    927  [False, [0.0, 0.0, 0.0], [0.0, 0.1666666666666...   \n",
       "2681    373  [False, [0.0, 0.0, 0.0], [0.0, 0.8095238095238...   \n",
       "2682   2530          [True, [0.0, 0.0, 0.0], [0.0, 0.0], 0, 0]   \n",
       "2683   1354  [True, [0.0, 0.0, 0.0], [0.043478260869565216,...   \n",
       "\n",
       "                                                      2  \\\n",
       "0             [True, [0.0, 0.0, 0.0], [0.0, 0.0], 0, 0]   \n",
       "1             [True, [0.0, 0.0, 0.0], [0.0, 0.0], 0, 0]   \n",
       "2             [True, [0.0, 0.0, 0.0], [0.0, 0.0], 0, 0]   \n",
       "3            [True, [0.0, 0.0, 0.0], [0.05, 0.0], 0, 0]   \n",
       "4             [True, [0.0, 0.0, 0.0], [0.0, 0.0], 0, 0]   \n",
       "...                                                 ...   \n",
       "2679  [False, [0.0, 0.0, 0.0], [0.0, 0.6666666666666...   \n",
       "2680       [True, [0.0, 0.0, 0.0], [0.0, 0.0625], 0, 0]   \n",
       "2681  [False, [0.0, 0.0, 0.0], [0.0, 0.7894736842105...   \n",
       "2682  [False, [0.0, 0.0, 0.0], [0.11764705882352941,...   \n",
       "2683          [True, [0.0, 0.0, 0.0], [0.0, 0.0], 0, 0]   \n",
       "\n",
       "                                                      3  \\\n",
       "0             [True, [0.0, 0.0, 0.0], [0.0, 0.0], 0, 0]   \n",
       "1             [True, [0.0, 0.0, 0.0], [0.0, 0.0], 0, 0]   \n",
       "2             [True, [0.0, 0.0, 0.0], [0.0, 0.0], 0, 0]   \n",
       "3     [True, [0.0, 0.0, 0.0], [0.047619047619047616,...   \n",
       "4             [True, [0.0, 0.0, 0.0], [0.0, 0.0], 0, 0]   \n",
       "...                                                 ...   \n",
       "2679  [False, [0.0, 0.0, 0.0], [0.16666666666666666,...   \n",
       "2680          [True, [0.0, 0.0, 0.0], [0.0, 0.0], 0, 0]   \n",
       "2681  [False, [0.0, 0.0, 0.0], [0.0, 0.2631578947368...   \n",
       "2682        [False, [0.0, 0.0, 0.0], [0.25, 0.0], 0, 0]   \n",
       "2683  [True, [0.0, 0.0, 0.0], [0.0, 0.09090909090909...   \n",
       "\n",
       "                                                      4  \\\n",
       "0             [True, [0.0, 0.0, 0.0], [0.0, 0.0], 0, 0]   \n",
       "1             [True, [0.0, 0.0, 0.0], [0.0, 0.0], 0, 0]   \n",
       "2             [True, [0.0, 0.0, 0.0], [0.0, 0.0], 0, 0]   \n",
       "3            [False, [0.0, 0.0, 0.0], [0.0, 0.1], 0, 0]   \n",
       "4             [True, [0.0, 0.0, 0.0], [0.0, 0.0], 0, 0]   \n",
       "...                                                 ...   \n",
       "2679  [False, [0.0, 0.0, 0.0], [0.0, 0.2307692307692...   \n",
       "2680        [False, [0.0, 0.0, 0.0], [0.25, 1.0], 0, 0]   \n",
       "2681  [False, [0.0, 0.0, 0.0], [0.0, 0.3684210526315...   \n",
       "2682  [False, [0.0, 0.0, 0.0], [0.1111111111111111, ...   \n",
       "2683  [False, [0.0, 0.0, 0.0], [0.0, 0.2272727272727...   \n",
       "\n",
       "                                                      5  \\\n",
       "0             [True, [0.0, 0.0, 0.0], [0.0, 0.0], 0, 0]   \n",
       "1             [True, [0.0, 0.0, 0.0], [0.0, 0.0], 0, 0]   \n",
       "2             [True, [0.0, 0.0, 0.0], [0.0, 0.0], 0, 0]   \n",
       "3            [False, [0.0, 0.0, 0.0], [0.0, 0.2], 0, 0]   \n",
       "4          [True, [0.0, 0.0, 0.0], [0.0625, 0.0], 0, 0]   \n",
       "...                                                 ...   \n",
       "2679  [True, [0.0, 0.0, 0.0], [0.0, 0.07692307692307...   \n",
       "2680  [False, [0.0, 0.0, 0.0], [0.7857142857142857, ...   \n",
       "2681  [False, [0.0, 0.0, 0.0], [0.0, 0.4210526315789...   \n",
       "2682          [True, [0.0, 0.0, 0.0], [0.0, 0.0], 0, 0]   \n",
       "2683          [True, [0.0, 0.0, 0.0], [0.0, 0.0], 0, 0]   \n",
       "\n",
       "                                                      6  \\\n",
       "0     [True, [0.0, 0.0, 0.0], [0.0, 0.03846153846153...   \n",
       "1     [False, [0.0, 0.0, 0.0], [0.03225806451612903,...   \n",
       "2     [True, [0.0, 0.0, 0.0], [0.0, 0.04], 0.2393665...   \n",
       "3     [False, [0.0, 0.0, 0.0], [0.18181818181818182,...   \n",
       "4     [True, [0.0, 0.0, 0.0], [0.0, 0.0], 0, 6.37558...   \n",
       "...                                                 ...   \n",
       "2679  [False, [0.0, 0.0, 0.0], [0.0, 0.16], 0.254633...   \n",
       "2680  [True, [0.0, 0.0, 0.0], [0.0, 0.0], 0.24526197...   \n",
       "2681  [True, [0.0, 0.0, 0.0], [0.03333333333333333, ...   \n",
       "2682  [False, [0.0, 0.0, 0.0], [0.0, 0.2083333333333...   \n",
       "2683  [False, [0.0, 0.0, 0.0], [0.0, 0.1111111111111...   \n",
       "\n",
       "                                                      7  \\\n",
       "0     [True, [0.0, 0.0, 0.0], [0.0, 0.04], 0.0341666...   \n",
       "1     [False, [0.0, 0.0, 0.0], [0.03225806451612903,...   \n",
       "2     [True, [0.0, 0.0, 0.0], [0.0, 0.08], 0.2391282...   \n",
       "3     [False, [0.0, 0.0, 0.0], [0.5, 0.1739130434782...   \n",
       "4     [True, [0.0, 0.0, 0.0], [0.0, 0.0], 0, 6.37552...   \n",
       "...                                                 ...   \n",
       "2679  [True, [0.0, 0.0, 0.0], [0.0, 0.08], 0.2714333...   \n",
       "2680  [True, [0.0, 0.0, 0.0], [0.0, 0.0], 0.24460719...   \n",
       "2681                 (False, [0.0, 0.0, 0.0], [-2, -2])   \n",
       "2682  [True, [0.0, 0.0, 0.0], [0.0, 0.0], 0, 6.07729...   \n",
       "2683  [False, [0.0, 0.0, 0.0], [0.0, 0.96], 0, 6.375...   \n",
       "\n",
       "                                                      8  \\\n",
       "0     [True, [0.0, 0.0, 0.0], [0.0, 0.0], 0.07766674...   \n",
       "1     [False, [0.0, 0.0, 0.0], [0.09375, 0.892857142...   \n",
       "2     [True, [0.0, 0.0, 0.0], [0.0, 0.08], 0.2395554...   \n",
       "3     [False, [0.0, 0.0, 0.0], [0.42857142857142855,...   \n",
       "4     [True, [0.0, 0.0, 0.0], [0.0, 0.0], 0, 6.37550...   \n",
       "...                                                 ...   \n",
       "2679  [False, [0.0, 0.0, 0.0], [0.0, 0.1153846153846...   \n",
       "2680  [True, [0.0, 0.0, 0.0], [0.07692307692307693, ...   \n",
       "2681  [False, [0.0, 0.0, 0.0], [1.0, 0.24], 0, 6.379...   \n",
       "2682  [True, [0.0, 0.0, 0.0], [0.0, 0.0], 0, 6.02660...   \n",
       "2683  [False, [0.0, 0.0, 0.0], [0.03571428571428571,...   \n",
       "\n",
       "                                                      9  \\\n",
       "0     [True, [0.0, 0.0, 0.0], [0.038461538461538464,...   \n",
       "1     [False, [0.0, 0.0, 0.0], [0.23333333333333334,...   \n",
       "2     [True, [0.0, 0.0, 0.0], [0.0, 0.0], 0.24490474...   \n",
       "3     [False, [0.0, 0.0, 0.0], [0.5882352941176471, ...   \n",
       "4     [True, [0.0, 0.0, 0.0], [0.0, 0.0], 0, 6.37545...   \n",
       "...                                                 ...   \n",
       "2679  [False, [0.0, 0.0, 0.0], [0.0, 0.52], 0.318633...   \n",
       "2680  [True, [0.0, 0.0, 0.0], [0.07692307692307693, ...   \n",
       "2681  [False, [0.0, 0.0, 0.0], [0.0, 0.1111111111111...   \n",
       "2682  [True, [0.0, 0.0, 0.0], [0.0, 0.0], 0, 5.98540...   \n",
       "2683  [False, [0.0, 0.0, 0.0], [0.2222222222222222, ...   \n",
       "\n",
       "                                                     10  \\\n",
       "0     [True, [0.0, 0.0, 0.0], [0.0, 0.0], 0.17106674...   \n",
       "1     [False, [0.0, 0.0, 0.0], [0.3103448275862069, ...   \n",
       "2     [True, [0.0, 0.0, 0.0], [0.0, 0.0], 0.25905552...   \n",
       "3                    (False, [0.0, 0.0, 0.0], [-2, -2])   \n",
       "4     [True, [0.0, 0.0, 0.0], [0.0, 0.0], 0, 6.37535...   \n",
       "...                                                 ...   \n",
       "2679  [False, [0.0, 0.0, 0.0], [0.045454545454545456...   \n",
       "2680  [True, [0.0, 0.0, 0.0], [0.08333333333333333, ...   \n",
       "2681  [False, [0.0, 0.0, 0.0], [0.08, 0.230769230769...   \n",
       "2682  [True, [0.0, 0.0, 0.0], [0.0, 0.0], 0, 5.94193...   \n",
       "2683  [False, [0.0, 0.0, 0.0], [0.18518518518518517,...   \n",
       "\n",
       "                                                     11  \\\n",
       "0     [True, [0.0, 0.0, 0.0], [0.0, 0.0], 0.21976660...   \n",
       "1     [False, [0.0, 0.0, 0.0], [0.06451612903225806,...   \n",
       "2     [True, [0.0, 0.0, 0.0], [0.0, 0.0], 0.27888876...   \n",
       "3                    (False, [0.0, 0.0, 0.0], [-2, -2])   \n",
       "4     [True, [0.0, 0.0, 0.0], [0.058823529411764705,...   \n",
       "...                                                 ...   \n",
       "2679  [False, [0.0, 0.0, 0.0], [0.10526315789473684,...   \n",
       "2680  [True, [0.0, 0.0, 0.0], [0.0625, 0.0625], 0.24...   \n",
       "2681  [False, [0.0, 0.0, 0.0], [0.12, 0.869565217391...   \n",
       "2682  [True, [0.0, 0.0, 0.0], [0.0, 0.0], 0, 5.90925...   \n",
       "2683  [True, [0.0, 0.0, 0.0], [0.0, 0.03846153846153...   \n",
       "\n",
       "                                                     12  \\\n",
       "0     [True, [0.0, 0.0, 0.0], [0.0, 0.0], 0.26688328...   \n",
       "1     [False, [0.0, 0.0, 0.0], [0.0, 0.2916666666666...   \n",
       "2     [True, [0.0, 0.0, 0.0], [0.0, 0.0], 0.30361118...   \n",
       "3     [False, [0.0, 0.0, 0.0], [1.0, 0.0476190476190...   \n",
       "4     [True, [0.0, 0.0, 0.0], [0.058823529411764705,...   \n",
       "...                                                 ...   \n",
       "2679  [False, [0.0, 0.0, 0.0], [0.0, 0.5263157894736...   \n",
       "2680  [True, [0.0, 0.0, 0.0], [0.0, 0.0], 0.24195240...   \n",
       "2681  [False, [0.0, 0.0, 0.0], [0.0, 0.92], 0.061850...   \n",
       "2682  [True, [0.0, 0.0, 0.0], [0.0, 0.0], 0, 5.89050...   \n",
       "2683  [False, [0.0, 0.0, 0.0], [0.2, 0.0], 0, 6.4020...   \n",
       "\n",
       "                                                     13  \\\n",
       "0     [True, [0.0, 0.0, 0.0], [0.0, 0.0], 0.31273339...   \n",
       "1     [True, [0.0, 0.0, 0.0], [0.0, 0.0], 0.05892434...   \n",
       "2     [True, [0.0, 0.0, 0.0], [0.0, 0.0], 0.33833335...   \n",
       "3                    (False, [0.0, 0.0, 0.0], [-2, -2])   \n",
       "4     [False, [0.0, 0.0, 0.0], [0.058823529411764705...   \n",
       "...                                                 ...   \n",
       "2679  [False, [0.0, 0.0, 0.0], [0.0, 0.3333333333333...   \n",
       "2680  [True, [0.0, 0.0, 0.0], [0.058823529411764705,...   \n",
       "2681  [False, [0.0, 0.0, 0.0], [0.0, 0.5769230769230...   \n",
       "2682  [True, [0.0, 0.0, 0.0], [0.0, 0.0], 0, 5.88306...   \n",
       "2683  [False, [0.0, 0.0, 0.0], [0.28, 0.0], 0.007472...   \n",
       "\n",
       "                                                     14  \\\n",
       "0     [True, [0.0, 0.0, 0.0], [0.0, 0.0], 0.35754997...   \n",
       "1     [True, [0.0, 0.0, 0.0], [0.0, 0.0], 0.09669445...   \n",
       "2     [True, [0.0, 0.0, 0.0], [0.0, 0.0], 0.36210003...   \n",
       "3                    (False, [0.0, 0.0, 0.0], [-2, -2])   \n",
       "4     [True, [0.0, 0.0, 0.0], [0.0, 0.05882352941176...   \n",
       "...                                                 ...   \n",
       "2679  [False, [0.0, 0.0, 0.0], [0.0, 0.9411764705882...   \n",
       "2680  [True, [0.0, 0.0, 0.0], [0.058823529411764705,...   \n",
       "2681  [False, [0.0, 0.0, 0.0], [0.06666666666666667,...   \n",
       "2682  [True, [0.0, 0.0, 0.0], [0.0, 0.0], 0, 5.88481...   \n",
       "2683  [True, [0.0, 0.0, 0.0], [0.08, 0.0], 0.0431666...   \n",
       "\n",
       "                                                     15  \\\n",
       "0     [True, [0.0, 0.0, 0.0], [0.0, 0.0], 0.40108329...   \n",
       "1     [False, [0.0, 0.0, 0.0], [0.15384615384615385,...   \n",
       "2     [True, [0.0, 0.0, 0.0], [0.0, 0.09523809523809...   \n",
       "3     [False, [0.0, 0.0, 0.0], [1.0, 0.05], 0, 6.374...   \n",
       "4     [True, [0.0, 0.0, 0.0], [0.0, 0.0], 0, 6.37508...   \n",
       "...                                                 ...   \n",
       "2679  [False, [0.0, 0.0, 0.0], [0.0, 0.8888888888888...   \n",
       "2680  [True, [0.0, 0.0, 0.0], [0.058823529411764705,...   \n",
       "2681  [False, [0.0, 0.0, 0.0], [0.06666666666666667,...   \n",
       "2682  [True, [0.0, 0.0, 0.0], [0.0, 0.0], 0, 5.89387...   \n",
       "2683  [True, [0.0, 0.0, 0.0], [0.0, 0.0], 0.08118055...   \n",
       "\n",
       "                                                     16   age gender  \n",
       "0     [True, [0.0, 0.0, 0.0], [0.0, 0.0], 0.44484844...  49.0      F  \n",
       "1     [False, [0.0, 0.0, 0.0], [0.24, 0.296296296296...  62.0      F  \n",
       "2     [True, [0.0, 0.0, 0.0], [0.0, 0.09523809523809...  60.0      F  \n",
       "3     [False, [0.0, 0.0, 0.0], [1.0, 0.0], 0, 6.3747...  48.0      M  \n",
       "4     [True, [0.0, 0.0, 0.0], [0.0, 0.0], 0, 6.37502...  50.0      F  \n",
       "...                                                 ...   ...    ...  \n",
       "2679  [False, [0.0, 0.0, 0.0], [0.0, 0.9411764705882...  61.0      M  \n",
       "2680  [True, [0.0, 0.0, 0.0], [0.0, 0.0], 0.24022633...  60.0      M  \n",
       "2681  [False, [0.0, 0.0, 0.0], [0.2962962962962963, ...  42.0      F  \n",
       "2682  [True, [0.0, 0.0, 0.0], [0.0, 0.0], 0, 5.90868...  62.0      M  \n",
       "2683  [True, [0.0, 0.0, 0.0], [0.0, 0.0], 0.12287504...  61.0      F  \n",
       "\n",
       "[2684 rows x 19 columns]"
      ]
     },
     "execution_count": 88,
     "metadata": {},
     "output_type": "execute_result"
    }
   ],
   "source": [
    "df_preprocess"
   ]
  },
  {
   "cell_type": "code",
   "execution_count": 94,
   "id": "7a7d80ff-48eb-4584-9491-1c7371bdbd67",
   "metadata": {
    "execution": {
     "iopub.execute_input": "2022-01-18T05:44:11.527725Z",
     "iopub.status.busy": "2022-01-18T05:44:11.527200Z",
     "iopub.status.idle": "2022-01-18T05:44:11.832702Z",
     "shell.execute_reply": "2022-01-18T05:44:11.832047Z",
     "shell.execute_reply.started": "2022-01-18T05:44:11.527676Z"
    },
    "tags": []
   },
   "outputs": [
    {
     "name": "stdout",
     "output_type": "stream",
     "text": [
      "event seg of first 60s passed: 38.85%\n",
      "event seg of last 60s passed: 39.42%\n"
     ]
    }
   ],
   "source": [
    "f_pass = 0\n",
    "b_pass = 0\n",
    "for _, row in df_preprocess.iterrows():   \n",
    "    for i in range(n_aug, n_aug+5):\n",
    "        if row[str(i+1)][0]:\n",
    "            f_pass = f_pass + 1\n",
    "    for i in range(n_aug+5,n_aug+n_aug2):\n",
    "        if row[str(i+1)][0]:\n",
    "            b_pass = b_pass + 1        \n",
    "            \n",
    "print(f'event seg of first 60s passed: {f_pass/n_aug/2684*100:.2f}%')\n",
    "print(f'event seg of last 60s passed: {b_pass/6/2684*100:.2f}%')"
   ]
  },
  {
   "cell_type": "code",
   "execution_count": null,
   "id": "1701ab2d-27c4-4c44-b11b-e78838ae33ab",
   "metadata": {},
   "outputs": [],
   "source": []
  },
  {
   "cell_type": "code",
   "execution_count": 102,
   "id": "c262d68a-9ce9-406f-8b25-e4deb44c156b",
   "metadata": {
    "execution": {
     "iopub.execute_input": "2022-01-18T06:00:53.464026Z",
     "iopub.status.busy": "2022-01-18T06:00:53.463532Z",
     "iopub.status.idle": "2022-01-18T06:00:53.503887Z",
     "shell.execute_reply": "2022-01-18T06:00:53.503373Z",
     "shell.execute_reply.started": "2022-01-18T06:00:53.463978Z"
    },
    "tags": []
   },
   "outputs": [
    {
     "data": {
      "text/plain": [
       "1.1855040406808257"
      ]
     },
     "execution_count": 102,
     "metadata": {},
     "output_type": "execute_result"
    }
   ],
   "source": [
    "import os\n",
    "\n",
    "def get_dir_size(path='.'):\n",
    "    total = 0\n",
    "    with os.scandir(path) as it:\n",
    "        for entry in it:\n",
    "            if entry.is_file():\n",
    "                total += entry.stat().st_size\n",
    "            elif entry.is_dir():\n",
    "                total += get_dir_size(entry.path)\n",
    "    return total\n",
    "\n",
    "get_dir_size('../DL_model/randomSearch/TSS')/1024/1024/1024\n",
    "\n",
    "\n",
    "hdf5, json"
   ]
  }
 ],
 "metadata": {
  "kernelspec": {
   "display_name": "keras",
   "language": "python",
   "name": "painstudy_keras"
  },
  "language_info": {
   "codemirror_mode": {
    "name": "ipython",
    "version": 3
   },
   "file_extension": ".py",
   "mimetype": "text/x-python",
   "name": "python",
   "nbconvert_exporter": "python",
   "pygments_lexer": "ipython3",
   "version": "3.8.12"
  }
 },
 "nbformat": 4,
 "nbformat_minor": 5
}
