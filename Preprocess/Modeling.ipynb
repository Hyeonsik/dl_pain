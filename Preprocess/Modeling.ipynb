{
 "cells": [
  {
   "cell_type": "code",
   "execution_count": 1,
   "id": "41480b35-7a15-45d2-90c9-928284d6e518",
   "metadata": {
    "execution": {
     "iopub.execute_input": "2022-11-17T03:31:35.908130Z",
     "iopub.status.busy": "2022-11-17T03:31:35.907556Z",
     "iopub.status.idle": "2022-11-17T03:31:37.835939Z",
     "shell.execute_reply": "2022-11-17T03:31:37.835396Z",
     "shell.execute_reply.started": "2022-11-17T03:31:35.907978Z"
    },
    "tags": []
   },
   "outputs": [
    {
     "name": "stdout",
     "output_type": "stream",
     "text": [
      "2022-11-17 12:31:37.833320\n"
     ]
    }
   ],
   "source": [
    "import itertools as it\n",
    "import os, pickle\n",
    "import pandas as pd\n",
    "import numpy as np\n",
    "import random\n",
    "import vitaldb\n",
    "from pyvital.pyvital import arr\n",
    "import matplotlib.pyplot as plt\n",
    "from scipy import stats\n",
    "import statsmodels.api as sm\n",
    "import time, datetime\n",
    "import neurokit2 as nk\n",
    "\n",
    "SRATE = 300\n",
    "LEN_INPUT = 60\n",
    "OVERLAP = 10\n",
    "LEN_PER_PRE = 60\n",
    "LEN_PER_POST = 60\n",
    "\n",
    "\n",
    "print(datetime.datetime.now())"
   ]
  },
  {
   "cell_type": "code",
   "execution_count": 2,
   "id": "575881a3-d63c-4fdb-9f01-dbcc2abd7778",
   "metadata": {
    "execution": {
     "iopub.execute_input": "2022-11-17T03:31:38.285220Z",
     "iopub.status.busy": "2022-11-17T03:31:38.284921Z",
     "iopub.status.idle": "2022-11-17T03:31:39.828453Z",
     "shell.execute_reply": "2022-11-17T03:31:39.827831Z",
     "shell.execute_reply.started": "2022-11-17T03:31:38.285187Z"
    },
    "tags": []
   },
   "outputs": [
    {
     "name": "stdout",
     "output_type": "stream",
     "text": [
      "2022-11-17 12:31:39.826032\n"
     ]
    }
   ],
   "source": [
    "from keras import losses, metrics\n",
    "from keras.models import Sequential\n",
    "from keras.models import Model, load_model\n",
    "from tensorflow.keras.optimizers import Adam\n",
    "from keras.layers import Dense, Conv1D, MaxPooling1D, GlobalMaxPooling1D, BatchNormalization, Dropout, Activation, Input\n",
    "from keras.layers import GlobalAveragePooling1D, Flatten, SeparableConv1D, concatenate\n",
    "from keras.callbacks import ModelCheckpoint, EarlyStopping\n",
    "from sklearn.metrics import auc, classification_report, confusion_matrix, accuracy_score, roc_curve, roc_auc_score, f1_score, precision_recall_curve\n",
    "import tensorflow as tf\n",
    "import os, sys, pickle\n",
    "import pandas as pd\n",
    "import random, datetime, time\n",
    "from sklearn.model_selection import KFold\n",
    "\n",
    "\n",
    "#os.environ[\"CUDA_DEVICE_ORDER\"]=\"PCI_BUS_ID\"\n",
    "os.environ[\"CUDA_VISIBLE_DEVICES\"]= \"3\"\n",
    "\n",
    "print(datetime.datetime.now())"
   ]
  },
  {
   "cell_type": "code",
   "execution_count": 3,
   "id": "27195838-25c5-490e-99ff-63ae500f3d21",
   "metadata": {
    "execution": {
     "iopub.execute_input": "2022-11-17T03:31:41.792128Z",
     "iopub.status.busy": "2022-11-17T03:31:41.791700Z",
     "iopub.status.idle": "2022-11-17T03:31:43.421123Z",
     "shell.execute_reply": "2022-11-17T03:31:43.420456Z",
     "shell.execute_reply.started": "2022-11-17T03:31:41.792087Z"
    },
    "tags": []
   },
   "outputs": [
    {
     "name": "stdout",
     "output_type": "stream",
     "text": [
      "loading train...done\n",
      "input_train shape: (1056, 18000, 3)\n",
      "input_test.shape: (117, 18000, 3)\n",
      "y_train : mean 0.21, max 0.89, min -1.00\n",
      "y_test : mean 0.21, max 0.78, min -0.22\n",
      "2022-11-17 12:31:43.418029\n"
     ]
    }
   ],
   "source": [
    "print('loading train...', flush=True, end='')\n",
    "\n",
    "# x를 loading해서 (batch_size, step, channel)\n",
    "LEN_INPUT = 60\n",
    "SRATE = 300\n",
    "ECG_FILT = 'bandpass'\n",
    "PPG_FILT = 'lowess'\n",
    "CORR_THRES = 0.9\n",
    "input_path = f\"../DL_model/dataset/PD_SRATE{SRATE}-PPG-{PPG_FILT}_ECG-{ECG_FILT}_THRES{CORR_THRES}/\"\n",
    "\n",
    "\n",
    "x_train = np.load(input_path+'x_train.npz', allow_pickle=True)['arr_0']\n",
    "x_test = np.load(input_path+'x_test.npz', allow_pickle=True)['arr_0']\n",
    "rftn_train = np.load(input_path+'rftn_train.npz')['arr_0']\n",
    "rftn_test = np.load(input_path+'rftn_test.npz')['arr_0']\n",
    "y_train = np.load(input_path+'y_train.npz')['arr_0']\n",
    "y_test = np.load(input_path+'y_test.npz')['arr_0']\n",
    "\n",
    "y_train_bin = y_train > 0.25\n",
    "y_test_bin = y_test > 0.25\n",
    "\n",
    "gender_train = np.load(input_path+'gender_train.npz', allow_pickle=True)['arr_0']\n",
    "gender_test = np.load(input_path+'gender_test.npz', allow_pickle=True)['arr_0']\n",
    "age_train = np.load(input_path+'age_train.npz', allow_pickle=True)['arr_0']\n",
    "age_test = np.load(input_path+'age_test.npz', allow_pickle=True)['arr_0']\n",
    "\n",
    "rftn_train = np.reshape(rftn_train, [-1,LEN_INPUT*SRATE,1])\n",
    "input_train = np.concatenate((x_train, rftn_train), axis=2)\n",
    "rftn_test = np.reshape(rftn_test, [-1,LEN_INPUT*SRATE,1])\n",
    "input_test = np.concatenate((x_test, rftn_test), axis=2)\n",
    "\n",
    "\n",
    "print('done', flush=True)\n",
    "\n",
    "print('input_train shape:', input_train.shape)\n",
    "print('input_test.shape:', input_test.shape)\n",
    "\n",
    "print(f'y_train : mean {y_train.mean():.2f}, max {y_train.max():.2f}, min {y_train.min():.2f}')\n",
    "print(f'y_test : mean {y_test.mean():.2f}, max {y_test.max():.2f}, min {y_test.min():.2f}')\n",
    "\n",
    "print(datetime.datetime.now())"
   ]
  },
  {
   "cell_type": "code",
   "execution_count": 74,
   "id": "352f38e5-56c1-4187-9421-4e1a19934634",
   "metadata": {
    "execution": {
     "iopub.execute_input": "2022-11-19T00:11:15.582324Z",
     "iopub.status.busy": "2022-11-19T00:11:15.581753Z",
     "iopub.status.idle": "2022-11-19T00:11:15.610460Z",
     "shell.execute_reply": "2022-11-19T00:11:15.609641Z",
     "shell.execute_reply.started": "2022-11-19T00:11:15.582268Z"
    },
    "tags": []
   },
   "outputs": [
    {
     "name": "stdout",
     "output_type": "stream",
     "text": [
      "start making test settings...done\n",
      "2022-11-19 09:11:15.606973\n"
     ]
    }
   ],
   "source": [
    "train_w_samp = np.ones(shape=(len(y_train),))\n",
    "#val_w_samp = np.ones(shape=(len(y_val),))\n",
    "test_w_samp = np.ones(shape=(len(y_test),))\n",
    "\n",
    "\n",
    "# folder\n",
    "nfold = 5  # 각각의 hyperparameter에 대해 k-fold 를 시행하고 평균을 구한다.\n",
    "ntest = 2000\n",
    "rootdir = f\"../DL_model/randomSearch/HR_PD/CNN_HR0.25_Bin_SRATE{SRATE}-PPG-{PPG_FILT}_ECG-{ECG_FILT}_THRES{CORR_THRES}_{nfold}fold_test{ntest}_w_samp0(train)2\"\n",
    "\n",
    "if not os.path.exists(rootdir):\n",
    "    os.mkdir(rootdir)\n",
    "\n",
    "# 모델에 대한 정보 txt로 저장\n",
    "f = open(f'{rootdir}/README.txt', 'w')\n",
    "f.write(f'model: 1D CNN 4 layers, binary classification')\n",
    "f.write(f'input: ECG,PPG,RFTN of pre-intubation 120~60s, output: del HR 0.25 (post-intubation 0-60s)')\n",
    "f.close()\n",
    "    \n",
    "\n",
    "# test_settings\n",
    "layer_settings, test_settings = [], []\n",
    "\n",
    "\n",
    "# hyperparamters\n",
    "#num_nodes = [64, 64, 64] #, 64, 64, 64]\n",
    "#kernel_size = 10\n",
    "pool_size = 2\n",
    "\n",
    "#dense_node = 32\n",
    "#dropout_rate = 0.2\n",
    "learning_rate = 0.001\n",
    "\n",
    "# hyperparamters pool\n",
    "filt_opts = [16, 32, 64, 128] # num of filters(kernel)\n",
    "#stride_opts = [1,2,3]  # stride = (kernel-1)/2\n",
    "kernel_opts = range(3,17,2) # kernel size\n",
    "dropout_opts  = [0, 0.1, 0.2, 0.3, 0.4, 0.5] # dropout rate\n",
    "dense_opts = [0, 8, 16, 32, 64]\n",
    "globalpool_opts = ['max','ave']\n",
    "BATCH_SIZE = [32, 64, 128, 256, 512]\n",
    "\n",
    "print('start making test settings...', end='', flush=True)\n",
    "# test settings\n",
    "nfilt, kernels, strides = [], [], []\n",
    "for i in range(5):\n",
    "    nfilt.append(0)\n",
    "    kernels.append(0)\n",
    "    strides.append(0)\n",
    "\n",
    "for nfilter in filt_opts:\n",
    "    for kernel in kernel_opts:\n",
    "        #for stride in stride_opts:\n",
    "        layer_settings.append([nfilter, kernel, int((kernel-1)/2)])                \n",
    "    \n",
    "for dense_node in dense_opts:\n",
    "    for dropout_cnn in dropout_opts:\n",
    "        for dropout_fc in dropout_opts:\n",
    "            for globalpool_opt in globalpool_opts:\n",
    "                for batch_size in BATCH_SIZE:\n",
    "                    for conv_double in [True, False]:\n",
    "                        for learning_rate in [0.001, 0.002, 0.0005]:\n",
    "                            test_settings.append([dense_node, dropout_cnn, dropout_fc, globalpool_opt, batch_size, conv_double, learning_rate])                                   \n",
    "\n",
    "                        \n",
    "print('done')\n",
    "print(datetime.datetime.now())"
   ]
  },
  {
   "cell_type": "markdown",
   "id": "21e309fe-a5a9-4bbb-bf94-24493a23b651",
   "metadata": {},
   "source": [
    "ntest"
   ]
  },
  {
   "cell_type": "code",
   "execution_count": null,
   "id": "fea43777-0705-4f89-a440-de93b5c720b4",
   "metadata": {
    "execution": {
     "iopub.execute_input": "2022-11-19T00:11:20.777177Z",
     "iopub.status.busy": "2022-11-19T00:11:20.776617Z"
    },
    "scrolled": true,
    "tags": []
   },
   "outputs": [
    {
     "name": "stdout",
     "output_type": "stream",
     "text": [
      "random search 0/2000\n",
      "Epoch 1/100\n",
      "21/22 [===========================>..] - ETA: 0s - loss: 0.7869 - acc: 0.5580 - auc: 0.5470\n",
      "Epoch 00001: val_loss improved from inf to 0.71765, saving model to ../DL_model/randomSearch/HR_PD/CNN_HR0.25_Bin_SRATE300-PPG-lowess_ECG-bandpass_THRES0.9_5fold_test2000_w_samp0(train)2/batch32,layer1:c128filt15str7,layer2:c64filt13str6,layer3:c32filt11str5,layer4:c32filt15str7,1conv,dropout0.2,dnodes0,dropout0/weights.hdf5\n",
      "22/22 [==============================] - 3s 47ms/step - loss: 0.7873 - acc: 0.5570 - auc: 0.5465 - val_loss: 0.7176 - val_acc: 0.5680 - val_auc: 0.4378\n",
      "Epoch 2/100\n",
      "21/22 [===========================>..] - ETA: 0s - loss: 0.4816 - acc: 0.7902 - auc: 0.8516\n",
      "Epoch 00002: val_loss improved from 0.71765 to 0.71461, saving model to ../DL_model/randomSearch/HR_PD/CNN_HR0.25_Bin_SRATE300-PPG-lowess_ECG-bandpass_THRES0.9_5fold_test2000_w_samp0(train)2/batch32,layer1:c128filt15str7,layer2:c64filt13str6,layer3:c32filt11str5,layer4:c32filt15str7,1conv,dropout0.2,dnodes0,dropout0/weights.hdf5\n",
      "22/22 [==============================] - 0s 22ms/step - loss: 0.4805 - acc: 0.7911 - auc: 0.8526 - val_loss: 0.7146 - val_acc: 0.5680 - val_auc: 0.4309\n",
      "Epoch 3/100\n",
      "21/22 [===========================>..] - ETA: 0s - loss: 0.3062 - acc: 0.8914 - auc: 0.9572\n",
      "Epoch 00003: val_loss improved from 0.71461 to 0.67597, saving model to ../DL_model/randomSearch/HR_PD/CNN_HR0.25_Bin_SRATE300-PPG-lowess_ECG-bandpass_THRES0.9_5fold_test2000_w_samp0(train)2/batch32,layer1:c128filt15str7,layer2:c64filt13str6,layer3:c32filt11str5,layer4:c32filt15str7,1conv,dropout0.2,dnodes0,dropout0/weights.hdf5\n",
      "22/22 [==============================] - 1s 23ms/step - loss: 0.3069 - acc: 0.8919 - auc: 0.9571 - val_loss: 0.6760 - val_acc: 0.5799 - val_auc: 0.5223\n",
      "Epoch 4/100\n",
      "21/22 [===========================>..] - ETA: 0s - loss: 0.2272 - acc: 0.9420 - auc: 0.9804\n",
      "Epoch 00004: val_loss did not improve from 0.67597\n",
      "22/22 [==============================] - 0s 19ms/step - loss: 0.2325 - acc: 0.9393 - auc: 0.9776 - val_loss: 0.6846 - val_acc: 0.5680 - val_auc: 0.5501\n",
      "Epoch 5/100\n",
      "21/22 [===========================>..] - ETA: 0s - loss: 0.2800 - acc: 0.8929 - auc: 0.9541\n",
      "Epoch 00005: val_loss did not improve from 0.67597\n",
      "22/22 [==============================] - 0s 18ms/step - loss: 0.2840 - acc: 0.8889 - auc: 0.9522 - val_loss: 0.7156 - val_acc: 0.5266 - val_auc: 0.5258\n",
      "Epoch 6/100\n",
      "21/22 [===========================>..] - ETA: 0s - loss: 0.2471 - acc: 0.9182 - auc: 0.9738\n",
      "Epoch 00006: val_loss did not improve from 0.67597\n",
      "22/22 [==============================] - 0s 18ms/step - loss: 0.2489 - acc: 0.9170 - auc: 0.9731 - val_loss: 0.7594 - val_acc: 0.5325 - val_auc: 0.5114\n"
     ]
    },
    {
     "name": "stderr",
     "output_type": "stream",
     "text": [
      "/tmp/ipykernel_993142/1012264244.py:92: DeprecationWarning: scipy.interp is deprecated and will be removed in SciPy 2.0.0, use numpy.interp instead\n",
      "  tprs.append(interp(mean_fpr, fpr, tpr))\n",
      "/tmp/ipykernel_993142/1012264244.py:97: DeprecationWarning: scipy.interp is deprecated and will be removed in SciPy 2.0.0, use numpy.interp instead\n",
      "  prs.append(interp(mean_recall, prec, recall))\n"
     ]
    },
    {
     "name": "stdout",
     "output_type": "stream",
     "text": [
      " ###1 fold : val auc 0.564, val prc 0.376###\n",
      "Epoch 1/100\n",
      "21/22 [===========================>..] - ETA: 0s - loss: 0.4539 - acc: 0.8095 - auc_1: 0.8582\n",
      "Epoch 00001: val_loss improved from inf to 0.78434, saving model to ../DL_model/randomSearch/HR_PD/CNN_HR0.25_Bin_SRATE300-PPG-lowess_ECG-bandpass_THRES0.9_5fold_test2000_w_samp0(train)2/batch32,layer1:c128filt15str7,layer2:c64filt13str6,layer3:c32filt11str5,layer4:c32filt15str7,1conv,dropout0.2,dnodes0,dropout0/weights.hdf5\n",
      "22/22 [==============================] - 3s 45ms/step - loss: 0.4549 - acc: 0.8092 - auc_1: 0.8575 - val_loss: 0.7843 - val_acc: 0.5858 - val_auc_1: 0.5248\n",
      "Epoch 2/100\n",
      "21/22 [===========================>..] - ETA: 0s - loss: 0.1744 - acc: 0.9598 - auc_1: 0.9934\n",
      "Epoch 00002: val_loss did not improve from 0.78434\n",
      "22/22 [==============================] - 1s 24ms/step - loss: 0.1740 - acc: 0.9601 - auc_1: 0.9935 - val_loss: 0.8373 - val_acc: 0.5089 - val_auc_1: 0.5070\n",
      "Epoch 3/100\n",
      "21/22 [===========================>..] - ETA: 0s - loss: 0.0903 - acc: 0.9896 - auc_1: 0.9991\n",
      "Epoch 00003: val_loss did not improve from 0.78434\n",
      "22/22 [==============================] - 0s 18ms/step - loss: 0.0900 - acc: 0.9896 - auc_1: 0.9991 - val_loss: 0.8660 - val_acc: 0.5148 - val_auc_1: 0.5119\n",
      "Epoch 4/100\n",
      "21/22 [===========================>..] - ETA: 0s - loss: 0.0405 - acc: 1.0000 - auc_1: 1.0000\n",
      "Epoch 00004: val_loss did not improve from 0.78434\n",
      "22/22 [==============================] - 0s 18ms/step - loss: 0.0411 - acc: 1.0000 - auc_1: 1.0000 - val_loss: 0.9703 - val_acc: 0.4615 - val_auc_1: 0.5039\n"
     ]
    },
    {
     "name": "stderr",
     "output_type": "stream",
     "text": [
      "/tmp/ipykernel_993142/1012264244.py:92: DeprecationWarning: scipy.interp is deprecated and will be removed in SciPy 2.0.0, use numpy.interp instead\n",
      "  tprs.append(interp(mean_fpr, fpr, tpr))\n",
      "/tmp/ipykernel_993142/1012264244.py:97: DeprecationWarning: scipy.interp is deprecated and will be removed in SciPy 2.0.0, use numpy.interp instead\n",
      "  prs.append(interp(mean_recall, prec, recall))\n"
     ]
    },
    {
     "name": "stdout",
     "output_type": "stream",
     "text": [
      " ###2 fold : val auc 0.789, val prc 0.675###\n",
      "Epoch 1/100\n",
      "21/22 [===========================>..] - ETA: 0s - loss: 0.2236 - acc: 0.9152 - auc_2: 0.9656\n",
      "Epoch 00001: val_loss improved from inf to 0.98091, saving model to ../DL_model/randomSearch/HR_PD/CNN_HR0.25_Bin_SRATE300-PPG-lowess_ECG-bandpass_THRES0.9_5fold_test2000_w_samp0(train)2/batch32,layer1:c128filt15str7,layer2:c64filt13str6,layer3:c32filt11str5,layer4:c32filt15str7,1conv,dropout0.2,dnodes0,dropout0/weights.hdf5\n",
      "22/22 [==============================] - 3s 43ms/step - loss: 0.2241 - acc: 0.9142 - auc_2: 0.9654 - val_loss: 0.9809 - val_acc: 0.5444 - val_auc_2: 0.5545\n",
      "Epoch 2/100\n",
      "21/22 [===========================>..] - ETA: 0s - loss: 0.0845 - acc: 0.9836 - auc_2: 0.9981\n",
      "Epoch 00002: val_loss did not improve from 0.98091\n",
      "22/22 [==============================] - 0s 18ms/step - loss: 0.0843 - acc: 0.9837 - auc_2: 0.9981 - val_loss: 1.1699 - val_acc: 0.5444 - val_auc_2: 0.5268\n",
      "Epoch 3/100\n",
      "21/22 [===========================>..] - ETA: 0s - loss: 0.0425 - acc: 0.9940 - auc_2: 0.9998\n",
      "Epoch 00003: val_loss did not improve from 0.98091\n",
      "22/22 [==============================] - 1s 24ms/step - loss: 0.0425 - acc: 0.9941 - auc_2: 0.9998 - val_loss: 1.1366 - val_acc: 0.5680 - val_auc_2: 0.5446\n",
      "Epoch 4/100\n",
      "20/22 [==========================>...] - ETA: 0s - loss: 0.0247 - acc: 1.0000 - auc_2: 1.0000\n",
      "Epoch 00004: val_loss did not improve from 0.98091\n",
      "22/22 [==============================] - 0s 19ms/step - loss: 0.0243 - acc: 1.0000 - auc_2: 1.0000 - val_loss: 1.3685 - val_acc: 0.5740 - val_auc_2: 0.5229\n"
     ]
    },
    {
     "name": "stderr",
     "output_type": "stream",
     "text": [
      "/tmp/ipykernel_993142/1012264244.py:92: DeprecationWarning: scipy.interp is deprecated and will be removed in SciPy 2.0.0, use numpy.interp instead\n",
      "  tprs.append(interp(mean_fpr, fpr, tpr))\n",
      "/tmp/ipykernel_993142/1012264244.py:97: DeprecationWarning: scipy.interp is deprecated and will be removed in SciPy 2.0.0, use numpy.interp instead\n",
      "  prs.append(interp(mean_recall, prec, recall))\n"
     ]
    },
    {
     "name": "stdout",
     "output_type": "stream",
     "text": [
      " ###3 fold : val auc 0.988, val prc 0.989###\n",
      "Epoch 1/100\n",
      "21/22 [===========================>..] - ETA: 0s - loss: 0.0968 - acc: 0.9613 - auc_3: 0.9930\n",
      "Epoch 00001: val_loss improved from inf to 1.47586, saving model to ../DL_model/randomSearch/HR_PD/CNN_HR0.25_Bin_SRATE300-PPG-lowess_ECG-bandpass_THRES0.9_5fold_test2000_w_samp0(train)2/batch32,layer1:c128filt15str7,layer2:c64filt13str6,layer3:c32filt11str5,layer4:c32filt15str7,1conv,dropout0.2,dnodes0,dropout0/weights.hdf5\n",
      "22/22 [==============================] - 3s 43ms/step - loss: 0.0972 - acc: 0.9615 - auc_3: 0.9930 - val_loss: 1.4759 - val_acc: 0.5030 - val_auc_3: 0.5058\n",
      "Epoch 2/100\n",
      "21/22 [===========================>..] - ETA: 0s - loss: 0.0778 - acc: 0.9717 - auc_3: 0.9969\n",
      "Epoch 00002: val_loss did not improve from 1.47586\n",
      "22/22 [==============================] - 0s 18ms/step - loss: 0.0805 - acc: 0.9689 - auc_3: 0.9967 - val_loss: 2.8656 - val_acc: 0.5740 - val_auc_3: 0.4923\n",
      "Epoch 3/100\n",
      "21/22 [===========================>..] - ETA: 0s - loss: 0.0766 - acc: 0.9732 - auc_3: 0.9969\n",
      "Epoch 00003: val_loss did not improve from 1.47586\n",
      "22/22 [==============================] - 0s 18ms/step - loss: 0.0839 - acc: 0.9719 - auc_3: 0.9950 - val_loss: 1.5013 - val_acc: 0.5266 - val_auc_3: 0.5107\n",
      "Epoch 4/100\n",
      "21/22 [===========================>..] - ETA: 0s - loss: 0.0660 - acc: 0.9777 - auc_3: 0.9989\n",
      "Epoch 00004: val_loss did not improve from 1.47586\n",
      "22/22 [==============================] - 0s 18ms/step - loss: 0.0659 - acc: 0.9778 - auc_3: 0.9989 - val_loss: 1.5577 - val_acc: 0.4911 - val_auc_3: 0.4782\n"
     ]
    },
    {
     "name": "stderr",
     "output_type": "stream",
     "text": [
      "/tmp/ipykernel_993142/1012264244.py:92: DeprecationWarning: scipy.interp is deprecated and will be removed in SciPy 2.0.0, use numpy.interp instead\n",
      "  tprs.append(interp(mean_fpr, fpr, tpr))\n",
      "/tmp/ipykernel_993142/1012264244.py:97: DeprecationWarning: scipy.interp is deprecated and will be removed in SciPy 2.0.0, use numpy.interp instead\n",
      "  prs.append(interp(mean_recall, prec, recall))\n"
     ]
    },
    {
     "name": "stdout",
     "output_type": "stream",
     "text": [
      " ###4 fold : val auc 0.971, val prc 0.951###\n",
      "Epoch 1/100\n",
      "21/22 [===========================>..] - ETA: 0s - loss: 0.0708 - acc: 0.9792 - auc_4: 0.9973\n",
      "Epoch 00001: val_loss improved from inf to 0.68559, saving model to ../DL_model/randomSearch/HR_PD/CNN_HR0.25_Bin_SRATE300-PPG-lowess_ECG-bandpass_THRES0.9_5fold_test2000_w_samp0(train)2/batch32,layer1:c128filt15str7,layer2:c64filt13str6,layer3:c32filt11str5,layer4:c32filt15str7,1conv,dropout0.2,dnodes0,dropout0/weights.hdf5\n",
      "22/22 [==============================] - 3s 52ms/step - loss: 0.0705 - acc: 0.9793 - auc_4: 0.9973 - val_loss: 0.6856 - val_acc: 0.7692 - val_auc_4: 0.8963\n",
      "Epoch 2/100\n",
      "21/22 [===========================>..] - ETA: 0s - loss: 0.0465 - acc: 0.9881 - auc_4: 0.9989\n",
      "Epoch 00002: val_loss improved from 0.68559 to 0.25970, saving model to ../DL_model/randomSearch/HR_PD/CNN_HR0.25_Bin_SRATE300-PPG-lowess_ECG-bandpass_THRES0.9_5fold_test2000_w_samp0(train)2/batch32,layer1:c128filt15str7,layer2:c64filt13str6,layer3:c32filt11str5,layer4:c32filt15str7,1conv,dropout0.2,dnodes0,dropout0/weights.hdf5\n",
      "22/22 [==============================] - 0s 21ms/step - loss: 0.0589 - acc: 0.9837 - auc_4: 0.9958 - val_loss: 0.2597 - val_acc: 0.8817 - val_auc_4: 0.9712\n",
      "Epoch 3/100\n",
      "21/22 [===========================>..] - ETA: 0s - loss: 0.0547 - acc: 0.9911 - auc_4: 0.9964\n",
      "Epoch 00003: val_loss did not improve from 0.25970\n",
      "22/22 [==============================] - 0s 19ms/step - loss: 0.0545 - acc: 0.9911 - auc_4: 0.9964 - val_loss: 0.4481 - val_acc: 0.8284 - val_auc_4: 0.9201\n",
      "Epoch 4/100\n",
      "21/22 [===========================>..] - ETA: 0s - loss: 0.0533 - acc: 0.9881 - auc_4: 0.9945\n",
      "Epoch 00004: val_loss did not improve from 0.25970\n",
      "22/22 [==============================] - 0s 19ms/step - loss: 0.0537 - acc: 0.9882 - auc_4: 0.9945 - val_loss: 0.4494 - val_acc: 0.8580 - val_auc_4: 0.9395\n",
      "Epoch 5/100\n",
      "21/22 [===========================>..] - ETA: 0s - loss: 0.0274 - acc: 0.9955 - auc_4: 0.9997\n",
      "Epoch 00005: val_loss did not improve from 0.25970\n",
      "22/22 [==============================] - 0s 18ms/step - loss: 0.0273 - acc: 0.9956 - auc_4: 0.9997 - val_loss: 0.3610 - val_acc: 0.8521 - val_auc_4: 0.9407\n"
     ]
    },
    {
     "name": "stderr",
     "output_type": "stream",
     "text": [
      "/tmp/ipykernel_993142/1012264244.py:92: DeprecationWarning: scipy.interp is deprecated and will be removed in SciPy 2.0.0, use numpy.interp instead\n",
      "  tprs.append(interp(mean_fpr, fpr, tpr))\n",
      "/tmp/ipykernel_993142/1012264244.py:97: DeprecationWarning: scipy.interp is deprecated and will be removed in SciPy 2.0.0, use numpy.interp instead\n",
      "  prs.append(interp(mean_recall, prec, recall))\n"
     ]
    },
    {
     "name": "stdout",
     "output_type": "stream",
     "text": [
      " ###5 fold : val auc 0.618, val prc 0.503###\n",
      "random search 1/2000\n",
      "Epoch 1/100\n",
      "10/11 [==========================>...] - ETA: 0s - loss: 0.8790 - acc: 0.5188 - auc: 0.5392\n",
      "Epoch 00001: val_loss improved from inf to 1.03093, saving model to ../DL_model/randomSearch/HR_PD/CNN_HR0.25_Bin_SRATE300-PPG-lowess_ECG-bandpass_THRES0.9_5fold_test2000_w_samp0(train)2/batch64,layer1:c128filt9str4,layer2:c32filt13str6,1conv,dropout0,dnodes64,dropout0.1/weights.hdf5\n",
      "11/11 [==============================] - 2s 80ms/step - loss: 0.8804 - acc: 0.5156 - auc: 0.5320 - val_loss: 1.0309 - val_acc: 0.5680 - val_auc: 0.4633\n",
      "Epoch 2/100\n",
      " 9/11 [=======================>......] - ETA: 0s - loss: 0.6939 - acc: 0.6233 - auc: 0.6203\n",
      "Epoch 00002: val_loss did not improve from 1.03093\n",
      "11/11 [==============================] - 0s 31ms/step - loss: 0.7075 - acc: 0.6207 - auc: 0.6072 - val_loss: 1.0907 - val_acc: 0.5680 - val_auc: 0.4663\n",
      "Epoch 3/100\n",
      " 9/11 [=======================>......] - ETA: 0s - loss: 0.6127 - acc: 0.6476 - auc: 0.6835\n",
      "Epoch 00003: val_loss improved from 1.03093 to 0.68396, saving model to ../DL_model/randomSearch/HR_PD/CNN_HR0.25_Bin_SRATE300-PPG-lowess_ECG-bandpass_THRES0.9_5fold_test2000_w_samp0(train)2/batch64,layer1:c128filt9str4,layer2:c32filt13str6,1conv,dropout0,dnodes64,dropout0.1/weights.hdf5\n",
      "11/11 [==============================] - 0s 38ms/step - loss: 0.6121 - acc: 0.6489 - auc: 0.6884 - val_loss: 0.6840 - val_acc: 0.5799 - val_auc: 0.5272\n",
      "Epoch 4/100\n",
      " 9/11 [=======================>......] - ETA: 0s - loss: 0.5870 - acc: 0.6944 - auc: 0.7277\n",
      "Epoch 00004: val_loss did not improve from 0.68396\n",
      "11/11 [==============================] - 0s 32ms/step - loss: 0.5801 - acc: 0.6978 - auc: 0.7383 - val_loss: 0.7774 - val_acc: 0.5680 - val_auc: 0.4956\n",
      "Epoch 5/100\n",
      " 9/11 [=======================>......] - ETA: 0s - loss: 0.5145 - acc: 0.7535 - auc: 0.8318\n",
      "Epoch 00005: val_loss did not improve from 0.68396\n",
      "11/11 [==============================] - 0s 31ms/step - loss: 0.5178 - acc: 0.7452 - auc: 0.8224 - val_loss: 0.7732 - val_acc: 0.5680 - val_auc: 0.4713\n",
      "Epoch 6/100\n",
      " 9/11 [=======================>......] - ETA: 0s - loss: 0.4843 - acc: 0.7726 - auc: 0.8512\n",
      "Epoch 00006: val_loss did not improve from 0.68396\n",
      "11/11 [==============================] - 0s 32ms/step - loss: 0.4833 - acc: 0.7748 - auc: 0.8496 - val_loss: 0.7988 - val_acc: 0.5680 - val_auc: 0.4750\n"
     ]
    },
    {
     "name": "stderr",
     "output_type": "stream",
     "text": [
      "/tmp/ipykernel_993142/1012264244.py:92: DeprecationWarning: scipy.interp is deprecated and will be removed in SciPy 2.0.0, use numpy.interp instead\n",
      "  tprs.append(interp(mean_fpr, fpr, tpr))\n",
      "/tmp/ipykernel_993142/1012264244.py:97: DeprecationWarning: scipy.interp is deprecated and will be removed in SciPy 2.0.0, use numpy.interp instead\n",
      "  prs.append(interp(mean_recall, prec, recall))\n"
     ]
    },
    {
     "name": "stdout",
     "output_type": "stream",
     "text": [
      " ###1 fold : val auc 0.498, val prc 0.356###\n",
      "Epoch 1/100\n",
      "11/11 [==============================] - ETA: 0s - loss: 0.5696 - acc: 0.7145 - auc_1: 0.7544\n",
      "Epoch 00001: val_loss improved from inf to 0.68727, saving model to ../DL_model/randomSearch/HR_PD/CNN_HR0.25_Bin_SRATE300-PPG-lowess_ECG-bandpass_THRES0.9_5fold_test2000_w_samp0(train)2/batch64,layer1:c128filt9str4,layer2:c32filt13str6,1conv,dropout0,dnodes64,dropout0.1/weights.hdf5\n",
      "11/11 [==============================] - 2s 83ms/step - loss: 0.5696 - acc: 0.7145 - auc_1: 0.7544 - val_loss: 0.6873 - val_acc: 0.5562 - val_auc_1: 0.5141\n",
      "Epoch 2/100\n",
      " 9/11 [=======================>......] - ETA: 0s - loss: 0.4959 - acc: 0.7604 - auc_1: 0.8223\n",
      "Epoch 00002: val_loss did not improve from 0.68727\n",
      "11/11 [==============================] - 0s 31ms/step - loss: 0.4859 - acc: 0.7648 - auc_1: 0.8317 - val_loss: 0.7482 - val_acc: 0.5385 - val_auc_1: 0.4924\n",
      "Epoch 3/100\n",
      " 9/11 [=======================>......] - ETA: 0s - loss: 0.4183 - acc: 0.8021 - auc_1: 0.8894\n",
      "Epoch 00003: val_loss did not improve from 0.68727\n",
      "11/11 [==============================] - 0s 32ms/step - loss: 0.4244 - acc: 0.7929 - auc_1: 0.8823 - val_loss: 0.8397 - val_acc: 0.5562 - val_auc_1: 0.4738\n",
      "Epoch 4/100\n",
      " 9/11 [=======================>......] - ETA: 0s - loss: 0.3683 - acc: 0.8507 - auc_1: 0.9204\n",
      "Epoch 00004: val_loss did not improve from 0.68727\n",
      "11/11 [==============================] - 0s 46ms/step - loss: 0.3632 - acc: 0.8506 - auc_1: 0.9219 - val_loss: 0.7872 - val_acc: 0.5621 - val_auc_1: 0.4847\n"
     ]
    },
    {
     "name": "stderr",
     "output_type": "stream",
     "text": [
      "/tmp/ipykernel_993142/1012264244.py:92: DeprecationWarning: scipy.interp is deprecated and will be removed in SciPy 2.0.0, use numpy.interp instead\n",
      "  tprs.append(interp(mean_fpr, fpr, tpr))\n",
      "/tmp/ipykernel_993142/1012264244.py:97: DeprecationWarning: scipy.interp is deprecated and will be removed in SciPy 2.0.0, use numpy.interp instead\n",
      "  prs.append(interp(mean_recall, prec, recall))\n"
     ]
    },
    {
     "name": "stdout",
     "output_type": "stream",
     "text": [
      " ###2 fold : val auc 0.695, val prc 0.571###\n",
      "Epoch 1/100\n",
      "10/11 [==========================>...] - ETA: 0s - loss: 0.4358 - acc: 0.8000 - auc_2: 0.8666\n",
      "Epoch 00001: val_loss improved from inf to 0.77173, saving model to ../DL_model/randomSearch/HR_PD/CNN_HR0.25_Bin_SRATE300-PPG-lowess_ECG-bandpass_THRES0.9_5fold_test2000_w_samp0(train)2/batch64,layer1:c128filt9str4,layer2:c32filt13str6,1conv,dropout0,dnodes64,dropout0.1/weights.hdf5\n",
      "11/11 [==============================] - 2s 77ms/step - loss: 0.4395 - acc: 0.8003 - auc_2: 0.8639 - val_loss: 0.7717 - val_acc: 0.5266 - val_auc_2: 0.4915\n",
      "Epoch 2/100\n",
      " 9/11 [=======================>......] - ETA: 0s - loss: 0.3630 - acc: 0.8507 - auc_2: 0.9185\n",
      "Epoch 00002: val_loss did not improve from 0.77173\n",
      "11/11 [==============================] - 0s 31ms/step - loss: 0.3611 - acc: 0.8506 - auc_2: 0.9189 - val_loss: 0.8039 - val_acc: 0.5325 - val_auc_2: 0.4737\n",
      "Epoch 3/100\n",
      " 9/11 [=======================>......] - ETA: 0s - loss: 0.2785 - acc: 0.8889 - auc_2: 0.9556\n",
      "Epoch 00003: val_loss did not improve from 0.77173\n",
      "11/11 [==============================] - 0s 32ms/step - loss: 0.2813 - acc: 0.8876 - auc_2: 0.9543 - val_loss: 0.8884 - val_acc: 0.5562 - val_auc_2: 0.4864\n",
      "Epoch 4/100\n",
      " 9/11 [=======================>......] - ETA: 0s - loss: 0.2361 - acc: 0.9097 - auc_2: 0.9730\n",
      "Epoch 00004: val_loss did not improve from 0.77173\n",
      "11/11 [==============================] - 0s 32ms/step - loss: 0.2290 - acc: 0.9186 - auc_2: 0.9761 - val_loss: 0.8076 - val_acc: 0.5325 - val_auc_2: 0.4849\n"
     ]
    },
    {
     "name": "stderr",
     "output_type": "stream",
     "text": [
      "/tmp/ipykernel_993142/1012264244.py:92: DeprecationWarning: scipy.interp is deprecated and will be removed in SciPy 2.0.0, use numpy.interp instead\n",
      "  tprs.append(interp(mean_fpr, fpr, tpr))\n",
      "/tmp/ipykernel_993142/1012264244.py:97: DeprecationWarning: scipy.interp is deprecated and will be removed in SciPy 2.0.0, use numpy.interp instead\n",
      "  prs.append(interp(mean_recall, prec, recall))\n"
     ]
    },
    {
     "name": "stdout",
     "output_type": "stream",
     "text": [
      " ###3 fold : val auc 0.790, val prc 0.688###\n",
      "Epoch 1/100\n",
      "11/11 [==============================] - ETA: 0s - loss: 0.3331 - acc: 0.8550 - auc_3: 0.9259\n",
      "Epoch 00001: val_loss improved from inf to 0.84572, saving model to ../DL_model/randomSearch/HR_PD/CNN_HR0.25_Bin_SRATE300-PPG-lowess_ECG-bandpass_THRES0.9_5fold_test2000_w_samp0(train)2/batch64,layer1:c128filt9str4,layer2:c32filt13str6,1conv,dropout0,dnodes64,dropout0.1/weights.hdf5\n",
      "11/11 [==============================] - 2s 76ms/step - loss: 0.3331 - acc: 0.8550 - auc_3: 0.9259 - val_loss: 0.8457 - val_acc: 0.5680 - val_auc_3: 0.4814\n",
      "Epoch 2/100\n",
      " 9/11 [=======================>......] - ETA: 0s - loss: 0.2646 - acc: 0.8906 - auc_3: 0.9616\n",
      "Epoch 00002: val_loss improved from 0.84572 to 0.80018, saving model to ../DL_model/randomSearch/HR_PD/CNN_HR0.25_Bin_SRATE300-PPG-lowess_ECG-bandpass_THRES0.9_5fold_test2000_w_samp0(train)2/batch64,layer1:c128filt9str4,layer2:c32filt13str6,1conv,dropout0,dnodes64,dropout0.1/weights.hdf5\n",
      "11/11 [==============================] - 0s 37ms/step - loss: 0.2660 - acc: 0.8876 - auc_3: 0.9609 - val_loss: 0.8002 - val_acc: 0.5503 - val_auc_3: 0.5046\n",
      "Epoch 3/100\n",
      " 9/11 [=======================>......] - ETA: 0s - loss: 0.1992 - acc: 0.9375 - auc_3: 0.9858\n",
      "Epoch 00003: val_loss did not improve from 0.80018\n",
      "11/11 [==============================] - 0s 45ms/step - loss: 0.1946 - acc: 0.9393 - auc_3: 0.9855 - val_loss: 0.8434 - val_acc: 0.5325 - val_auc_3: 0.4912\n",
      "Epoch 4/100\n",
      " 9/11 [=======================>......] - ETA: 0s - loss: 0.1621 - acc: 0.9410 - auc_3: 0.9913\n",
      "Epoch 00004: val_loss did not improve from 0.80018\n",
      "11/11 [==============================] - 0s 32ms/step - loss: 0.1611 - acc: 0.9453 - auc_3: 0.9919 - val_loss: 0.8379 - val_acc: 0.5325 - val_auc_3: 0.5101\n",
      "Epoch 5/100\n",
      " 9/11 [=======================>......] - ETA: 0s - loss: 0.1191 - acc: 0.9722 - auc_3: 0.9949\n",
      "Epoch 00005: val_loss did not improve from 0.80018\n",
      "11/11 [==============================] - 0s 31ms/step - loss: 0.1138 - acc: 0.9749 - auc_3: 0.9956 - val_loss: 0.8767 - val_acc: 0.5089 - val_auc_3: 0.5073\n"
     ]
    },
    {
     "name": "stderr",
     "output_type": "stream",
     "text": [
      "/tmp/ipykernel_993142/1012264244.py:92: DeprecationWarning: scipy.interp is deprecated and will be removed in SciPy 2.0.0, use numpy.interp instead\n",
      "  tprs.append(interp(mean_fpr, fpr, tpr))\n",
      "/tmp/ipykernel_993142/1012264244.py:97: DeprecationWarning: scipy.interp is deprecated and will be removed in SciPy 2.0.0, use numpy.interp instead\n",
      "  prs.append(interp(mean_recall, prec, recall))\n"
     ]
    },
    {
     "name": "stdout",
     "output_type": "stream",
     "text": [
      " ###4 fold : val auc 0.892, val prc 0.842###\n",
      "Epoch 1/100\n",
      " 9/11 [=======================>......] - ETA: 0s - loss: 0.1677 - acc: 0.9375 - auc_4: 0.9837\n",
      "Epoch 00001: val_loss improved from inf to 0.47460, saving model to ../DL_model/randomSearch/HR_PD/CNN_HR0.25_Bin_SRATE300-PPG-lowess_ECG-bandpass_THRES0.9_5fold_test2000_w_samp0(train)2/batch64,layer1:c128filt9str4,layer2:c32filt13str6,1conv,dropout0,dnodes64,dropout0.1/weights.hdf5\n",
      "11/11 [==============================] - 2s 78ms/step - loss: 0.1702 - acc: 0.9379 - auc_4: 0.9823 - val_loss: 0.4746 - val_acc: 0.7751 - val_auc_4: 0.8512\n",
      "Epoch 2/100\n",
      " 9/11 [=======================>......] - ETA: 0s - loss: 0.1359 - acc: 0.9566 - auc_4: 0.9919\n",
      "Epoch 00002: val_loss improved from 0.47460 to 0.44159, saving model to ../DL_model/randomSearch/HR_PD/CNN_HR0.25_Bin_SRATE300-PPG-lowess_ECG-bandpass_THRES0.9_5fold_test2000_w_samp0(train)2/batch64,layer1:c128filt9str4,layer2:c32filt13str6,1conv,dropout0,dnodes64,dropout0.1/weights.hdf5\n",
      "11/11 [==============================] - 0s 37ms/step - loss: 0.1341 - acc: 0.9541 - auc_4: 0.9919 - val_loss: 0.4416 - val_acc: 0.7870 - val_auc_4: 0.8758\n",
      "Epoch 3/100\n",
      " 9/11 [=======================>......] - ETA: 0s - loss: 0.0940 - acc: 0.9757 - auc_4: 0.9976\n",
      "Epoch 00003: val_loss improved from 0.44159 to 0.39146, saving model to ../DL_model/randomSearch/HR_PD/CNN_HR0.25_Bin_SRATE300-PPG-lowess_ECG-bandpass_THRES0.9_5fold_test2000_w_samp0(train)2/batch64,layer1:c128filt9str4,layer2:c32filt13str6,1conv,dropout0,dnodes64,dropout0.1/weights.hdf5\n",
      "11/11 [==============================] - 0s 37ms/step - loss: 0.0944 - acc: 0.9734 - auc_4: 0.9975 - val_loss: 0.3915 - val_acc: 0.8402 - val_auc_4: 0.9051\n",
      "Epoch 4/100\n",
      " 9/11 [=======================>......] - ETA: 0s - loss: 0.0707 - acc: 0.9844 - auc_4: 0.9988\n",
      "Epoch 00004: val_loss did not improve from 0.39146\n",
      "11/11 [==============================] - 0s 32ms/step - loss: 0.0705 - acc: 0.9837 - auc_4: 0.9989 - val_loss: 0.4037 - val_acc: 0.8225 - val_auc_4: 0.8960\n",
      "Epoch 5/100\n",
      " 9/11 [=======================>......] - ETA: 0s - loss: 0.0549 - acc: 0.9948 - auc_4: 0.9998\n",
      "Epoch 00005: val_loss did not improve from 0.39146\n",
      "11/11 [==============================] - 0s 32ms/step - loss: 0.0528 - acc: 0.9956 - auc_4: 0.9998 - val_loss: 0.4297 - val_acc: 0.8166 - val_auc_4: 0.8825\n",
      "Epoch 6/100\n",
      " 9/11 [=======================>......] - ETA: 0s - loss: 0.0484 - acc: 0.9878 - auc_4: 0.9997\n",
      "Epoch 00006: val_loss did not improve from 0.39146\n",
      "11/11 [==============================] - 0s 32ms/step - loss: 0.0496 - acc: 0.9852 - auc_4: 0.9995 - val_loss: 0.4493 - val_acc: 0.8107 - val_auc_4: 0.8727\n"
     ]
    },
    {
     "name": "stderr",
     "output_type": "stream",
     "text": [
      "/tmp/ipykernel_993142/1012264244.py:92: DeprecationWarning: scipy.interp is deprecated and will be removed in SciPy 2.0.0, use numpy.interp instead\n",
      "  tprs.append(interp(mean_fpr, fpr, tpr))\n",
      "/tmp/ipykernel_993142/1012264244.py:97: DeprecationWarning: scipy.interp is deprecated and will be removed in SciPy 2.0.0, use numpy.interp instead\n",
      "  prs.append(interp(mean_recall, prec, recall))\n"
     ]
    },
    {
     "name": "stdout",
     "output_type": "stream",
     "text": [
      " ###5 fold : val auc 0.617, val prc 0.556###\n",
      "random search 2/2000\n",
      "Epoch 1/100\n",
      "3/3 [==============================] - ETA: 0s - loss: 1.0916 - acc: 0.5452 - auc: 0.5150\n",
      "Epoch 00001: val_loss improved from inf to 1.05252, saving model to ../DL_model/randomSearch/HR_PD/CNN_HR0.25_Bin_SRATE300-PPG-lowess_ECG-bandpass_THRES0.9_5fold_test2000_w_samp0(train)2/batch256,layer1:c64filt15str7,layer2:c32filt5str2,layer3:c64filt9str4,1conv,dropout0.5,dnodes16,dropout0.4/weights.hdf5\n",
      "3/3 [==============================] - 3s 335ms/step - loss: 1.0916 - acc: 0.5452 - auc: 0.5150 - val_loss: 1.0525 - val_acc: 0.5680 - val_auc: 0.4842\n",
      "Epoch 2/100\n",
      "3/3 [==============================] - ETA: 0s - loss: 0.9313 - acc: 0.5852 - auc: 0.5691\n",
      "Epoch 00002: val_loss improved from 1.05252 to 0.83284, saving model to ../DL_model/randomSearch/HR_PD/CNN_HR0.25_Bin_SRATE300-PPG-lowess_ECG-bandpass_THRES0.9_5fold_test2000_w_samp0(train)2/batch256,layer1:c64filt15str7,layer2:c32filt5str2,layer3:c64filt9str4,1conv,dropout0.5,dnodes16,dropout0.4/weights.hdf5\n",
      "3/3 [==============================] - 0s 84ms/step - loss: 0.9313 - acc: 0.5852 - auc: 0.5691 - val_loss: 0.8328 - val_acc: 0.5680 - val_auc: 0.5163\n",
      "Epoch 3/100\n",
      "3/3 [==============================] - ETA: 0s - loss: 0.8551 - acc: 0.5719 - auc: 0.5771\n",
      "Epoch 00003: val_loss improved from 0.83284 to 0.77664, saving model to ../DL_model/randomSearch/HR_PD/CNN_HR0.25_Bin_SRATE300-PPG-lowess_ECG-bandpass_THRES0.9_5fold_test2000_w_samp0(train)2/batch256,layer1:c64filt15str7,layer2:c32filt5str2,layer3:c64filt9str4,1conv,dropout0.5,dnodes16,dropout0.4/weights.hdf5\n",
      "3/3 [==============================] - 0s 83ms/step - loss: 0.8551 - acc: 0.5719 - auc: 0.5771 - val_loss: 0.7766 - val_acc: 0.5680 - val_auc: 0.5152\n",
      "Epoch 4/100\n",
      "3/3 [==============================] - ETA: 0s - loss: 0.7892 - acc: 0.5837 - auc: 0.6001\n",
      "Epoch 00004: val_loss did not improve from 0.77664\n",
      "3/3 [==============================] - 0s 59ms/step - loss: 0.7892 - acc: 0.5837 - auc: 0.6001 - val_loss: 0.8535 - val_acc: 0.5621 - val_auc: 0.4903\n",
      "Epoch 5/100\n",
      "3/3 [==============================] - ETA: 0s - loss: 0.7921 - acc: 0.5881 - auc: 0.6005\n",
      "Epoch 00005: val_loss did not improve from 0.77664\n",
      "3/3 [==============================] - 0s 131ms/step - loss: 0.7921 - acc: 0.5881 - auc: 0.6005 - val_loss: 0.7813 - val_acc: 0.5680 - val_auc: 0.4979\n",
      "Epoch 6/100\n",
      "3/3 [==============================] - ETA: 0s - loss: 0.7403 - acc: 0.5926 - auc: 0.6135\n",
      "Epoch 00006: val_loss improved from 0.77664 to 0.70815, saving model to ../DL_model/randomSearch/HR_PD/CNN_HR0.25_Bin_SRATE300-PPG-lowess_ECG-bandpass_THRES0.9_5fold_test2000_w_samp0(train)2/batch256,layer1:c64filt15str7,layer2:c32filt5str2,layer3:c64filt9str4,1conv,dropout0.5,dnodes16,dropout0.4/weights.hdf5\n",
      "3/3 [==============================] - 0s 100ms/step - loss: 0.7403 - acc: 0.5926 - auc: 0.6135 - val_loss: 0.7081 - val_acc: 0.5621 - val_auc: 0.5067\n",
      "Epoch 7/100\n",
      "3/3 [==============================] - ETA: 0s - loss: 0.7260 - acc: 0.5985 - auc: 0.6062\n",
      "Epoch 00007: val_loss did not improve from 0.70815\n",
      "3/3 [==============================] - 0s 67ms/step - loss: 0.7260 - acc: 0.5985 - auc: 0.6062 - val_loss: 0.7105 - val_acc: 0.5621 - val_auc: 0.4874\n",
      "Epoch 8/100\n",
      "3/3 [==============================] - ETA: 0s - loss: 0.6968 - acc: 0.6044 - auc: 0.6353\n",
      "Epoch 00008: val_loss did not improve from 0.70815\n",
      "3/3 [==============================] - 0s 59ms/step - loss: 0.6968 - acc: 0.6044 - auc: 0.6353 - val_loss: 0.7710 - val_acc: 0.5621 - val_auc: 0.4692\n",
      "Epoch 9/100\n",
      "3/3 [==============================] - ETA: 0s - loss: 0.6651 - acc: 0.6163 - auc: 0.6504\n",
      "Epoch 00009: val_loss did not improve from 0.70815\n",
      "3/3 [==============================] - 0s 66ms/step - loss: 0.6651 - acc: 0.6163 - auc: 0.6504 - val_loss: 0.7422 - val_acc: 0.5621 - val_auc: 0.4715\n"
     ]
    },
    {
     "name": "stderr",
     "output_type": "stream",
     "text": [
      "/tmp/ipykernel_993142/1012264244.py:92: DeprecationWarning: scipy.interp is deprecated and will be removed in SciPy 2.0.0, use numpy.interp instead\n",
      "  tprs.append(interp(mean_fpr, fpr, tpr))\n",
      "/tmp/ipykernel_993142/1012264244.py:97: DeprecationWarning: scipy.interp is deprecated and will be removed in SciPy 2.0.0, use numpy.interp instead\n",
      "  prs.append(interp(mean_recall, prec, recall))\n"
     ]
    },
    {
     "name": "stdout",
     "output_type": "stream",
     "text": [
      " ###1 fold : val auc 0.470, val prc 0.318###\n"
     ]
    }
   ],
   "source": [
    "from keras import metrics\n",
    "from scipy import interp\n",
    "from sklearn.metrics import roc_curve,auc\n",
    "\n",
    "# random search for hyperparameter\n",
    "ntrial = ntest\n",
    "train_errs, val_errs = [] ,[]\n",
    "test_acc, test_roc, test_prc = [], [], []\n",
    "#test_rmse, test_mae, test_auc = [], [], []\n",
    "random_settings = []\n",
    "\n",
    "\n",
    "for itrial in range(ntrial):\n",
    "    # grid search\n",
    "    # test_setting = test_settings[itrial]\n",
    "\n",
    "    # random search\n",
    "    print('random search {}/{}'.format(itrial, ntrial))\n",
    "    \n",
    "    # total conv layers of the model\n",
    "    n_conv = random.choice([2,3,4]) \n",
    "    # test settings\n",
    "    for i in range(n_conv):\n",
    "        nfilt[i], kernels[i], strides[i] = random.choice(layer_settings)\n",
    "    dense_node, dropout_cnn, dropout_fc, globalpool_opt, batch_size, conv_double, learning_rate = random.choice(test_settings)\n",
    "    \n",
    "\n",
    "    # 이번 옵션에 대한 결과 디렉토리\n",
    "    odir_f = f'batch{batch_size},'\n",
    "    for i in range(n_conv):\n",
    "        odir_f += f'layer{i+1}:c{nfilt[i]}filt{kernels[i]}str{strides[i]},'\n",
    "    odir_f += f'1conv,dropout{dropout_cnn},dnodes{dense_node},dropout{dropout_fc}'#,lr{learning_rate}'\n",
    "    random_settings.append(odir_f)\n",
    "    \n",
    "    odir = rootdir + '/' + odir_f\n",
    "    if not os.path.exists(odir):\n",
    "        os.mkdir(odir)\n",
    "\n",
    "    weightcache = f\"{odir}/weights.hdf5\"    \n",
    "\n",
    "    \n",
    "    # build a model\n",
    "    act='relu'\n",
    "\n",
    "    inp = Input(shape=(x_train.shape[1],3))\n",
    "    out = inp\n",
    "\n",
    "    for i in range(n_conv):\n",
    "        out = Conv1D(filters=nfilt[i], kernel_size=kernels[i], strides=strides[i], padding='same', activation='relu')(out)\n",
    "        out = BatchNormalization()(out)\n",
    "        out = MaxPooling1D(pool_size)(out)\n",
    "\n",
    "\n",
    "\n",
    "    # globalpooling vs flattening vs 1x1 convolution\n",
    "    #if globalpool_opt == 'max':\n",
    "    #    out = GlobalMaxPooling1D()(out)\n",
    "    #elif globalpool_opt == 'ave':\n",
    "    #    out = GlobalAveragePooling1D()(out)\n",
    "    out = Conv1D(filters=1, kernel_size=1)(out)\n",
    "    out = Flatten() (out)\n",
    "\n",
    "\n",
    "    if dense_node != 0:\n",
    "        out = Dropout(dropout_cnn)(out)\n",
    "        out = Dense(dense_node, activation='relu')(out)\n",
    "    out = Dropout(dropout_fc)(out)\n",
    "    out = Dense(1, activation='sigmoid')(out)\n",
    "\n",
    "\n",
    "    model = Model(inputs=[inp], outputs=[out])\n",
    "\n",
    "    # model 학습 설정\n",
    "\n",
    "    kfold = KFold()\n",
    "    cv_scores = []\n",
    "    tprs, aucs, prs = [], [], []\n",
    "    pr_aucs, roc_aucs = [], []\n",
    "    mean_fpr = np.linspace(0,1,100)\n",
    "    mean_recall = np.linspace(0,1,100)\n",
    "    idx = 1\n",
    "    for cv_train_mask, cv_test_mask in kfold.split(input_train, y_train_bin):\n",
    "        try:\n",
    "            model.compile(loss='binary_crossentropy', optimizer='adam', metrics=[\"acc\", tf.keras.metrics.AUC()])\n",
    "            hist = model.fit(input_train[cv_train_mask], y_train_bin[cv_train_mask], sample_weight=train_w_samp[cv_train_mask], validation_split=0.2, epochs=100, batch_size=batch_size, #class_weight={0:1, 1:3}, \n",
    "                                    callbacks=[ModelCheckpoint(monitor='val_loss', filepath=weightcache, verbose=1, save_best_only=True),\n",
    "                                                EarlyStopping(monitor='val_loss', patience=3, verbose=0, mode='auto')])\n",
    "            #_, cv_score = model.evaluate(input_train[cv_test_mask], y_train_bin[cv_test_mask], batch_size=batch_size, verbose=0)\n",
    "\n",
    "            # ROC analysis\n",
    "            fpr, tpr, t = roc_curve(y_train_bin[cv_test_mask], model.predict(input_train[cv_test_mask]))\n",
    "            tprs.append(interp(mean_fpr, fpr, tpr))\n",
    "            roc_auc = auc(fpr, tpr)\n",
    "            roc_aucs.append(roc_auc)\n",
    "            # PR analysis\n",
    "            prec, recall, th = precision_recall_curve(y_train_bin[cv_test_mask], model.predict(input_train[cv_test_mask]))\n",
    "            prs.append(interp(mean_recall, prec, recall))\n",
    "            pr_auc = auc(recall, prec)\n",
    "            pr_aucs.append(pr_auc)\n",
    "\n",
    "            print(f' ###{idx} fold : val auc {roc_auc:.3f}, val prc {pr_auc:.3f}###')\n",
    "            idx += 1\n",
    "            #cv_scores.append(cv_score)\n",
    "\n",
    "        except Exception as e:\n",
    "            print(e)\n",
    "            os.rmdir(odir)\n",
    "            #os.rename(odir,rootdir+'/error_{}'.format(odir_f))\n",
    "            itrial -= 1\n",
    "            test_roc.append(0)\n",
    "            test_acc.append(0)\n",
    "            test_prc.append(0)\n",
    "            train_errs.append(-1)\n",
    "            val_errs.append(-1)\n",
    "            continue\n",
    "\n",
    "    # mean ROC\n",
    "    mean_tpr = np.mean(tprs, axis = 0)\n",
    "    mean_auc = auc(mean_fpr, mean_tpr)\n",
    "    std_roc = np.std(roc_aucs)\n",
    "    # mean PRC\n",
    "    mean_precision = np.mean(prs, axis = 0)\n",
    "    mean_prc = auc(mean_recall, mean_precision)\n",
    "    std_prc = np.std(pr_aucs)\n",
    "    \n",
    "                     \n",
    "    # 모델의 아키텍처 및 구조 저장\n",
    "    open(odir+\"/model.json\", \"wt\").write(model.to_json())\n",
    "\n",
    "\n",
    "\n",
    "    # rename\n",
    "    os.rename(odir, rootdir+f'/roc{mean_auc:.3f}+-{std_roc:.3f}_prc{mean_prc:.3f}+-{std_prc:.3f}_{odir_f}')\n",
    "\n",
    "\n",
    "\n",
    "    tf.keras.backend.clear_session()\n",
    "\n",
    "\n"
   ]
  },
  {
   "cell_type": "code",
   "execution_count": null,
   "id": "5f1cb70f-467f-4bb0-941a-c996d927c35a",
   "metadata": {},
   "outputs": [],
   "source": [
    "    # 모델의 아키텍처 및 구조 저장\n",
    "    open(odir+\"/model.json\", \"wt\").write(model.to_json())\n",
    "\n",
    "    # test set에 대한 y_pred 계산\n",
    "    model.load_weights(weightcache)  # fit 함수는 마지막 epoch의 결과를 리턴하기 때문에 best 결과를 다시 읽어들어야함\n",
    "    y_pred = model.predict(input_test).flatten()\n",
    "\n",
    "    \n",
    "    # acc 계산\n",
    "    acc = metrics.Accuracy()\n",
    "    acc.update_state(y_pred>=0.5, y_test_bin, sample_weight=test_w_samp)\n",
    "    acc_val = acc.result().numpy()\n",
    "    test_acc.append(acc_val)\n",
    "    \n",
    "    # auroc 계산\n",
    "    false_positive_rate, true_positive_rate, threshold = roc_curve(y_test_bin, y_pred, sample_weight=test_w_samp)\n",
    "    roc_auc = auc(false_positive_rate, true_positive_rate)\n",
    "    test_roc.append(roc_auc)\n",
    "\n",
    "    # auprc \n",
    "    precision, recall, _ = precision_recall_curve(y_test_bin, y_pred, sample_weight=test_w_samp)\n",
    "    prc_auc = auc(recall, precision)\n",
    "    test_prc.append(prc_auc)\n",
    "\n",
    "    \n",
    "    # rename\n",
    "    os.rename(odir, rootdir+'/roc{:.4f}_prc{:.4f}_{}_acc{:.2f}'.format(roc_auc, prc_auc, odir_f, acc_val))\n",
    "\n",
    "    # train 과정에서의 err\n",
    "    train_err = min(hist.history['loss'])\n",
    "    val_err = min(hist.history['val_loss'])\n",
    "\n",
    "    val_errs.append(val_err)\n",
    "    train_errs.append(train_err)\n",
    "\n",
    "\n",
    "    tf.keras.backend.clear_session()\n",
    "\n",
    "\n",
    "max_idx = test_roc.index(max(test_roc))\n",
    "print('\\nBest Model roc:{:.4f}, info: {}'.format(test_roc[max_idx], random_settings[max_idx]))\n"
   ]
  },
  {
   "cell_type": "markdown",
   "id": "f9c2f1e1-a5f3-43d6-b7ac-dcdc038f5a7c",
   "metadata": {},
   "source": [
    "## Manual fitting"
   ]
  },
  {
   "cell_type": "code",
   "execution_count": 52,
   "id": "de042ef4-3863-4547-928f-bd867fe4e4ab",
   "metadata": {
    "execution": {
     "iopub.execute_input": "2022-11-18T14:20:32.012666Z",
     "iopub.status.busy": "2022-11-18T14:20:32.012098Z",
     "iopub.status.idle": "2022-11-18T14:20:44.899177Z",
     "shell.execute_reply": "2022-11-18T14:20:44.898306Z",
     "shell.execute_reply.started": "2022-11-18T14:20:32.012611Z"
    },
    "tags": []
   },
   "outputs": [
    {
     "name": "stdout",
     "output_type": "stream",
     "text": [
      "64-16-8\n",
      "Epoch 1/100\n",
      "15/17 [=========================>....] - ETA: 0s - loss: 0.7875 - auc: 0.5049\n",
      "Epoch 00001: val_loss improved from inf to 0.68099, saving model to ../DL_model/output/CNN_PD_HR0.25_Bin_SRATE300-PPG-lowess_ECG-bandpass_THRES0.9/EEG+PPG+RFTN_bin_conv64_conv16_conv8_filter7_stride3_relu_bn_maxpool2_1conv_dropout0.3_dense32_dropout0.3_batch64_lr_0.001/weights.hdf5\n",
      "17/17 [==============================] - 2s 51ms/step - loss: 0.7885 - auc: 0.5003 - val_loss: 0.6810 - val_auc: 0.5607\n",
      "Epoch 2/100\n",
      "16/17 [===========================>..] - ETA: 0s - loss: 0.7099 - auc: 0.5625\n",
      "Epoch 00002: val_loss improved from 0.68099 to 0.67387, saving model to ../DL_model/output/CNN_PD_HR0.25_Bin_SRATE300-PPG-lowess_ECG-bandpass_THRES0.9/EEG+PPG+RFTN_bin_conv64_conv16_conv8_filter7_stride3_relu_bn_maxpool2_1conv_dropout0.3_dense32_dropout0.3_batch64_lr_0.001/weights.hdf5\n",
      "17/17 [==============================] - 1s 37ms/step - loss: 0.7118 - auc: 0.5602 - val_loss: 0.6739 - val_auc: 0.5475\n",
      "Epoch 3/100\n",
      "16/17 [===========================>..] - ETA: 0s - loss: 0.6880 - auc: 0.5698\n",
      "Epoch 00003: val_loss did not improve from 0.67387\n",
      "17/17 [==============================] - 0s 26ms/step - loss: 0.6884 - auc: 0.5697 - val_loss: 0.6751 - val_auc: 0.5207\n",
      "Epoch 4/100\n",
      "15/17 [=========================>....] - ETA: 0s - loss: 0.6715 - auc: 0.5802\n",
      "Epoch 00004: val_loss improved from 0.67387 to 0.66035, saving model to ../DL_model/output/CNN_PD_HR0.25_Bin_SRATE300-PPG-lowess_ECG-bandpass_THRES0.9/EEG+PPG+RFTN_bin_conv64_conv16_conv8_filter7_stride3_relu_bn_maxpool2_1conv_dropout0.3_dense32_dropout0.3_batch64_lr_0.001/weights.hdf5\n",
      "17/17 [==============================] - 1s 30ms/step - loss: 0.6689 - auc: 0.5847 - val_loss: 0.6604 - val_auc: 0.5613\n",
      "Epoch 5/100\n",
      "16/17 [===========================>..] - ETA: 0s - loss: 0.6552 - auc: 0.6066\n",
      "Epoch 00005: val_loss did not improve from 0.66035\n",
      "17/17 [==============================] - 0s 26ms/step - loss: 0.6588 - auc: 0.6011 - val_loss: 0.6629 - val_auc: 0.5585\n",
      "Epoch 6/100\n",
      "15/17 [=========================>....] - ETA: 0s - loss: 0.6390 - auc: 0.6394\n",
      "Epoch 00006: val_loss did not improve from 0.66035\n",
      "17/17 [==============================] - 0s 27ms/step - loss: 0.6445 - auc: 0.6319 - val_loss: 0.6768 - val_auc: 0.6122\n",
      "Epoch 7/100\n",
      "16/17 [===========================>..] - ETA: 0s - loss: 0.6325 - auc: 0.6539\n",
      "Epoch 00007: val_loss improved from 0.66035 to 0.65807, saving model to ../DL_model/output/CNN_PD_HR0.25_Bin_SRATE300-PPG-lowess_ECG-bandpass_THRES0.9/EEG+PPG+RFTN_bin_conv64_conv16_conv8_filter7_stride3_relu_bn_maxpool2_1conv_dropout0.3_dense32_dropout0.3_batch64_lr_0.001/weights.hdf5\n",
      "17/17 [==============================] - 1s 30ms/step - loss: 0.6327 - auc: 0.6530 - val_loss: 0.6581 - val_auc: 0.5917\n",
      "Epoch 8/100\n",
      "15/17 [=========================>....] - ETA: 0s - loss: 0.6352 - auc: 0.6559\n",
      "Epoch 00008: val_loss improved from 0.65807 to 0.62146, saving model to ../DL_model/output/CNN_PD_HR0.25_Bin_SRATE300-PPG-lowess_ECG-bandpass_THRES0.9/EEG+PPG+RFTN_bin_conv64_conv16_conv8_filter7_stride3_relu_bn_maxpool2_1conv_dropout0.3_dense32_dropout0.3_batch64_lr_0.001/weights.hdf5\n",
      "17/17 [==============================] - 1s 30ms/step - loss: 0.6314 - auc: 0.6588 - val_loss: 0.6215 - val_auc: 0.7119\n",
      "Epoch 9/100\n",
      "15/17 [=========================>....] - ETA: 0s - loss: 0.6234 - auc: 0.6703\n",
      "Epoch 00009: val_loss improved from 0.62146 to 0.61071, saving model to ../DL_model/output/CNN_PD_HR0.25_Bin_SRATE300-PPG-lowess_ECG-bandpass_THRES0.9/EEG+PPG+RFTN_bin_conv64_conv16_conv8_filter7_stride3_relu_bn_maxpool2_1conv_dropout0.3_dense32_dropout0.3_batch64_lr_0.001/weights.hdf5\n",
      "17/17 [==============================] - 1s 31ms/step - loss: 0.6252 - auc: 0.6684 - val_loss: 0.6107 - val_auc: 0.7836\n",
      "Epoch 10/100\n",
      "16/17 [===========================>..] - ETA: 0s - loss: 0.6237 - auc: 0.6691\n",
      "Epoch 00010: val_loss did not improve from 0.61071\n",
      "17/17 [==============================] - 1s 31ms/step - loss: 0.6250 - auc: 0.6638 - val_loss: 0.6660 - val_auc: 0.5757\n",
      "Epoch 11/100\n",
      "16/17 [===========================>..] - ETA: 0s - loss: 0.6159 - auc: 0.6830\n",
      "Epoch 00011: val_loss improved from 0.61071 to 0.59473, saving model to ../DL_model/output/CNN_PD_HR0.25_Bin_SRATE300-PPG-lowess_ECG-bandpass_THRES0.9/EEG+PPG+RFTN_bin_conv64_conv16_conv8_filter7_stride3_relu_bn_maxpool2_1conv_dropout0.3_dense32_dropout0.3_batch64_lr_0.001/weights.hdf5\n",
      "17/17 [==============================] - 0s 30ms/step - loss: 0.6144 - auc: 0.6838 - val_loss: 0.5947 - val_auc: 0.7517\n",
      "Epoch 12/100\n",
      "16/17 [===========================>..] - ETA: 0s - loss: 0.5970 - auc: 0.7196\n",
      "Epoch 00012: val_loss did not improve from 0.59473\n",
      "17/17 [==============================] - 0s 26ms/step - loss: 0.5974 - auc: 0.7179 - val_loss: 0.6103 - val_auc: 0.7316\n",
      "Epoch 13/100\n",
      "16/17 [===========================>..] - ETA: 0s - loss: 0.5911 - auc: 0.7292\n",
      "Epoch 00013: val_loss did not improve from 0.59473\n",
      "17/17 [==============================] - 0s 26ms/step - loss: 0.5890 - auc: 0.7305 - val_loss: 0.6099 - val_auc: 0.7327\n",
      "Epoch 14/100\n",
      "17/17 [==============================] - ETA: 0s - loss: 0.5944 - auc: 0.7138\n",
      "Epoch 00014: val_loss did not improve from 0.59473\n",
      "17/17 [==============================] - 0s 27ms/step - loss: 0.5944 - auc: 0.7138 - val_loss: 0.6122 - val_auc: 0.7089\n",
      "Epoch 15/100\n",
      "15/17 [=========================>....] - ETA: 0s - loss: 0.5816 - auc: 0.7371\n",
      "Epoch 00015: val_loss did not improve from 0.59473\n",
      "17/17 [==============================] - 0s 27ms/step - loss: 0.5777 - auc: 0.7389 - val_loss: 0.6016 - val_auc: 0.7273\n",
      "Epoch 16/100\n",
      "16/17 [===========================>..] - ETA: 0s - loss: 0.5864 - auc: 0.7252\n",
      "Epoch 00016: val_loss improved from 0.59473 to 0.57554, saving model to ../DL_model/output/CNN_PD_HR0.25_Bin_SRATE300-PPG-lowess_ECG-bandpass_THRES0.9/EEG+PPG+RFTN_bin_conv64_conv16_conv8_filter7_stride3_relu_bn_maxpool2_1conv_dropout0.3_dense32_dropout0.3_batch64_lr_0.001/weights.hdf5\n",
      "17/17 [==============================] - 1s 30ms/step - loss: 0.5879 - auc: 0.7225 - val_loss: 0.5755 - val_auc: 0.7609\n",
      "Epoch 17/100\n",
      "16/17 [===========================>..] - ETA: 0s - loss: 0.5694 - auc: 0.7410\n",
      "Epoch 00017: val_loss did not improve from 0.57554\n",
      "17/17 [==============================] - 0s 26ms/step - loss: 0.5710 - auc: 0.7387 - val_loss: 0.6133 - val_auc: 0.7011\n",
      "Epoch 18/100\n",
      "15/17 [=========================>....] - ETA: 0s - loss: 0.5696 - auc: 0.7409\n",
      "Epoch 00018: val_loss did not improve from 0.57554\n",
      "17/17 [==============================] - 0s 26ms/step - loss: 0.5715 - auc: 0.7422 - val_loss: 0.6046 - val_auc: 0.7218\n",
      "Epoch 19/100\n",
      "15/17 [=========================>....] - ETA: 0s - loss: 0.5537 - auc: 0.7661\n",
      "Epoch 00019: val_loss did not improve from 0.57554\n",
      "17/17 [==============================] - 0s 26ms/step - loss: 0.5567 - auc: 0.7632 - val_loss: 0.5914 - val_auc: 0.7200\n",
      "Epoch 20/100\n",
      "16/17 [===========================>..] - ETA: 0s - loss: 0.5466 - auc: 0.7761\n",
      "Epoch 00020: val_loss did not improve from 0.57554\n",
      "17/17 [==============================] - 0s 26ms/step - loss: 0.5485 - auc: 0.7740 - val_loss: 0.5920 - val_auc: 0.7270\n",
      "Epoch 21/100\n",
      "16/17 [===========================>..] - ETA: 0s - loss: 0.5480 - auc: 0.7659\n",
      "Epoch 00021: val_loss did not improve from 0.57554\n",
      "17/17 [==============================] - 0s 28ms/step - loss: 0.5525 - auc: 0.7620 - val_loss: 0.5911 - val_auc: 0.7377\n",
      "4/4 [==============================] - 0s 6ms/step - loss: 0.5755 - auc: 0.7609\n"
     ]
    },
    {
     "ename": "TypeError",
     "evalue": "'float' object is not subscriptable",
     "output_type": "error",
     "traceback": [
      "\u001b[0;31m---------------------------------------------------------------------------\u001b[0m",
      "\u001b[0;31mTypeError\u001b[0m                                 Traceback (most recent call last)",
      "\u001b[0;32m/tmp/ipykernel_993142/3650995080.py\u001b[0m in \u001b[0;36m<module>\u001b[0;34m\u001b[0m\n\u001b[1;32m     94\u001b[0m \u001b[0mmodel\u001b[0m\u001b[0;34m.\u001b[0m\u001b[0mload_weights\u001b[0m\u001b[0;34m(\u001b[0m\u001b[0mweight_path\u001b[0m\u001b[0;34m)\u001b[0m\u001b[0;34m\u001b[0m\u001b[0;34m\u001b[0m\u001b[0m\n\u001b[1;32m     95\u001b[0m \u001b[0mresult\u001b[0m \u001b[0;34m=\u001b[0m \u001b[0mmodel\u001b[0m\u001b[0;34m.\u001b[0m\u001b[0mevaluate\u001b[0m\u001b[0;34m(\u001b[0m\u001b[0minput_test\u001b[0m\u001b[0;34m,\u001b[0m \u001b[0my_test_bin\u001b[0m\u001b[0;34m)\u001b[0m\u001b[0;34m[\u001b[0m\u001b[0;36m1\u001b[0m\u001b[0;34m]\u001b[0m\u001b[0;34m\u001b[0m\u001b[0;34m\u001b[0m\u001b[0m\n\u001b[0;32m---> 96\u001b[0;31m \u001b[0mos\u001b[0m\u001b[0;34m.\u001b[0m\u001b[0mrename\u001b[0m\u001b[0;34m(\u001b[0m\u001b[0msave_path\u001b[0m\u001b[0;34m,\u001b[0m \u001b[0;34mf'{root_path}/roc{result[1]:.3f}_{model_name}'\u001b[0m\u001b[0;34m)\u001b[0m\u001b[0;34m\u001b[0m\u001b[0;34m\u001b[0m\u001b[0m\n\u001b[0m\u001b[1;32m     97\u001b[0m \u001b[0;34m\u001b[0m\u001b[0m\n",
      "\u001b[0;31mTypeError\u001b[0m: 'float' object is not subscriptable"
     ]
    }
   ],
   "source": [
    "from keras import regularizers\n",
    "from keras.initializers import he_normal, GlorotNormal\n",
    "\n",
    "\n",
    "# hyperparamters\n",
    "num_nodes = [64, 16, 8] #, 64, 64, 64]\n",
    "kernel_size = 7\n",
    "stride = 3\n",
    "pool_size = 2\n",
    "BATCH_SIZE = 64\n",
    "dense_node = 32\n",
    "#dropout_rate = 0.3\n",
    "dropout_cnn = 0.3\n",
    "dropout_fc = 0.3\n",
    "learning_rate = 0.001\n",
    "\n",
    "\n",
    "# initializer & regularizer\n",
    "k_init = he_normal(seed=None)\n",
    "#k_init = GlorotNormal(seed=None) # Xavier normal initializer\n",
    "#k_init = None\n",
    "b_init = None\n",
    "k_l2 = 0\n",
    "#k_reg = regularizers.l2(l2=k_l2)\n",
    "k_reg = None\n",
    "b_reg = None\n",
    "\n",
    "\n",
    "testname = '-'.join([str(num_node) for num_node in num_nodes])\n",
    "print(testname)\n",
    "\n",
    "\n",
    "# 출력 폴더를 생성\n",
    "model_name = 'EEG+PPG+RFTN_bin_'\n",
    "for num_node in num_nodes:\n",
    "    model_name += 'conv{}_'.format(num_node)\n",
    "model_name += f'filter{kernel_size}_stride{stride}_relu_bn_maxpool{pool_size}_1conv_dropout{dropout_cnn}_dense{dense_node}_dropout{dropout_fc}_batch{BATCH_SIZE}_lr_{learning_rate}'\n",
    "\n",
    "#model_name = 'model_reg_{}_{}_{}_size{}_relu_bn_maxpool{}_globalmaxpool_dense32_dropout{}_batch{}_learning_rate{}'.format(num_nodes[0], num_nodes[1], num_nodes[2], kernel_size, pool_size, dropout_rate, BATCH_SIZE, learning_rate)\n",
    "root_path = f\"../DL_model/output/CNN_PD_HR0.25_Bin_SRATE{SRATE}-PPG-{PPG_FILT}_ECG-{ECG_FILT}_THRES{CORR_THRES}\"\n",
    "save_path = f\"{root_path}/{model_name}\"\n",
    "\n",
    "if not os.path.exists(root_path):\n",
    "    os.mkdir(root_path)\n",
    "\n",
    "if not os.path.exists(save_path):\n",
    "    os.mkdir(save_path)\n",
    "weight_path = save_path + \"/weights.hdf5\"\n",
    "\n",
    "\n",
    "# GPU 설정\n",
    "\n",
    "# build a model\n",
    "model = Sequential()\n",
    "for num_node in num_nodes:\n",
    "    model.add(Conv1D(filters=num_node, kernel_size=kernel_size, padding='same', strides = stride, activation='relu'))\n",
    "    #model.add(Conv1D(filters=num_node, kernel_size=kernel_size, padding='same', kernel_initializer=k_init,bias_initializer =b_init , kernel_regularizer=k_reg, bias_regularizer=b_reg))\n",
    "    #model.add(LeakyReLU(alpha=0.1))\n",
    "    #model.add(Activation('relu'))\n",
    "    model.add(BatchNormalization())\n",
    "    model.add(MaxPooling1D(pool_size=pool_size))\n",
    "\n",
    "#model.add(BatchNormalization())\n",
    "model.add(Conv1D(filters=1, kernel_size=1))\n",
    "model.add(Flatten())\n",
    "#model.add(GlobalMaxPooling1D())\n",
    "model.add(Dropout(dropout_cnn))\n",
    "\n",
    "if dense_node != 0:\n",
    "    model.add(Dense(dense_node, activation='relu')) #, kernel_initializer=k_init, kernel_regularizer=k_reg))\n",
    "    model.add(Dropout(dropout_fc))\n",
    "model.add(Dense(1, activation='sigmoid')) #kernel_initializer=k_init, kernel_regularizer=k_reg, activation='relu'))\n",
    "\n",
    "\n",
    "# model 학습 설정\n",
    "model.compile(loss='binary_crossentropy', optimizer=Adam(lr=learning_rate), metrics=[tf.keras.metrics.AUC()])\n",
    "hist = model.fit(input_train, y_train_bin, sample_weight = None, validation_data = (input_test, y_test_bin), epochs=100, batch_size=BATCH_SIZE, #class_weight={0:1, 1:3}, \n",
    "                        callbacks=[ModelCheckpoint(monitor='val_loss', filepath=weight_path, verbose=1, save_best_only=True),\n",
    "                                    EarlyStopping(monitor='val_loss', patience=5, verbose=0, mode='auto')])\n",
    "\n",
    "tf.keras.backend.clear_session()\n",
    "\n",
    "\n",
    "# 모델의 아키텍처 및 구조 저장\n",
    "open(save_path + \"/model.json\", \"wt\").write(model.to_json())\n",
    "\n",
    "# 모델의 history log 저장 - binary classification\n",
    "history_list = []\n",
    "for key in hist.history.keys():\n",
    "    history_list.append({key:hist.history[key]})\n",
    "pickle.dump(history_list, open(save_path+'/history','wb'))\n",
    "          \n",
    "# rename\n",
    "model.load_weights(weight_path)\n",
    "result = model.evaluate(input_test, y_test_bin)\n",
    "os.rename(save_path, f'{root_path}/roc{result[1]:.3f}_{model_name}')\n",
    "          "
   ]
  },
  {
   "cell_type": "code",
   "execution_count": 51,
   "id": "ae105391-d9bc-4ff5-80bf-d9425ba99199",
   "metadata": {
    "execution": {
     "iopub.execute_input": "2022-11-18T14:19:37.601228Z",
     "iopub.status.busy": "2022-11-18T14:19:37.600737Z",
     "iopub.status.idle": "2022-11-18T14:19:37.739606Z",
     "shell.execute_reply": "2022-11-18T14:19:37.738806Z",
     "shell.execute_reply.started": "2022-11-18T14:19:37.601178Z"
    },
    "tags": []
   },
   "outputs": [
    {
     "name": "stdout",
     "output_type": "stream",
     "text": [
      "4/4 [==============================] - 0s 6ms/step - loss: 0.6750 - auc_1: 0.5232\n"
     ]
    },
    {
     "data": {
      "text/plain": [
       "0.5231942534446716"
      ]
     },
     "execution_count": 51,
     "metadata": {},
     "output_type": "execute_result"
    }
   ],
   "source": []
  },
  {
   "cell_type": "code",
   "execution_count": null,
   "id": "bdd5cec9-2ab5-437a-91d0-0eebed5c732a",
   "metadata": {},
   "outputs": [],
   "source": []
  },
  {
   "cell_type": "code",
   "execution_count": 31,
   "id": "f4d248a2-b6c8-4c56-966f-4e1bfc9a10d2",
   "metadata": {
    "execution": {
     "iopub.execute_input": "2022-11-18T14:11:02.968018Z",
     "iopub.status.busy": "2022-11-18T14:11:02.967452Z",
     "iopub.status.idle": "2022-11-18T14:11:02.977360Z",
     "shell.execute_reply": "2022-11-18T14:11:02.975899Z",
     "shell.execute_reply.started": "2022-11-18T14:11:02.967961Z"
    },
    "tags": []
   },
   "outputs": [
    {
     "data": {
      "text/plain": [
       "((1056, 18000, 3), (1056,))"
      ]
     },
     "execution_count": 31,
     "metadata": {},
     "output_type": "execute_result"
    }
   ],
   "source": [
    "input_train.shape, y_train_bin.shape"
   ]
  },
  {
   "cell_type": "code",
   "execution_count": 36,
   "id": "971e8607-2920-42e7-b6f1-5bf9002dac4e",
   "metadata": {
    "execution": {
     "iopub.execute_input": "2022-11-18T14:12:40.088581Z",
     "iopub.status.busy": "2022-11-18T14:12:40.088020Z",
     "iopub.status.idle": "2022-11-18T14:12:40.096584Z",
     "shell.execute_reply": "2022-11-18T14:12:40.095550Z",
     "shell.execute_reply.started": "2022-11-18T14:12:40.088527Z"
    },
    "tags": []
   },
   "outputs": [
    {
     "data": {
      "text/plain": [
       "dict_keys(['loss', 'auc_1', 'val_loss', 'val_auc_1'])"
      ]
     },
     "execution_count": 36,
     "metadata": {},
     "output_type": "execute_result"
    }
   ],
   "source": [
    "hist.history.keys()"
   ]
  },
  {
   "cell_type": "code",
   "execution_count": 55,
   "id": "f3520435-4b89-47df-8906-e3875ba94fde",
   "metadata": {
    "execution": {
     "iopub.execute_input": "2022-11-18T14:22:29.212026Z",
     "iopub.status.busy": "2022-11-18T14:22:29.211473Z",
     "iopub.status.idle": "2022-11-18T14:22:29.228405Z",
     "shell.execute_reply": "2022-11-18T14:22:29.227668Z",
     "shell.execute_reply.started": "2022-11-18T14:22:29.211972Z"
    },
    "tags": []
   },
   "outputs": [
    {
     "name": "stdout",
     "output_type": "stream",
     "text": [
      "Model: \"sequential\"\n",
      "_________________________________________________________________\n",
      " Layer (type)                Output Shape              Param #   \n",
      "=================================================================\n",
      " conv1d (Conv1D)             (None, 6000, 64)          1408      \n",
      "                                                                 \n",
      " batch_normalization (BatchN  (None, 6000, 64)         256       \n",
      " ormalization)                                                   \n",
      "                                                                 \n",
      " max_pooling1d (MaxPooling1D  (None, 3000, 64)         0         \n",
      " )                                                               \n",
      "                                                                 \n",
      " conv1d_1 (Conv1D)           (None, 1000, 16)          7184      \n",
      "                                                                 \n",
      " batch_normalization_1 (Batc  (None, 1000, 16)         64        \n",
      " hNormalization)                                                 \n",
      "                                                                 \n",
      " max_pooling1d_1 (MaxPooling  (None, 500, 16)          0         \n",
      " 1D)                                                             \n",
      "                                                                 \n",
      " conv1d_2 (Conv1D)           (None, 167, 8)            904       \n",
      "                                                                 \n",
      " batch_normalization_2 (Batc  (None, 167, 8)           32        \n",
      " hNormalization)                                                 \n",
      "                                                                 \n",
      " max_pooling1d_2 (MaxPooling  (None, 83, 8)            0         \n",
      " 1D)                                                             \n",
      "                                                                 \n",
      " conv1d_3 (Conv1D)           (None, 83, 1)             9         \n",
      "                                                                 \n",
      " flatten (Flatten)           (None, 83)                0         \n",
      "                                                                 \n",
      " dropout (Dropout)           (None, 83)                0         \n",
      "                                                                 \n",
      " dense (Dense)               (None, 32)                2688      \n",
      "                                                                 \n",
      " dropout_1 (Dropout)         (None, 32)                0         \n",
      "                                                                 \n",
      " dense_1 (Dense)             (None, 1)                 33        \n",
      "                                                                 \n",
      "=================================================================\n",
      "Total params: 12,578\n",
      "Trainable params: 12,402\n",
      "Non-trainable params: 176\n",
      "_________________________________________________________________\n"
     ]
    }
   ],
   "source": [
    "model.summary()"
   ]
  },
  {
   "cell_type": "code",
   "execution_count": 56,
   "id": "83f88795-ac9a-4820-99f3-e42857db59c0",
   "metadata": {
    "execution": {
     "iopub.execute_input": "2022-11-18T14:22:34.243180Z",
     "iopub.status.busy": "2022-11-18T14:22:34.242619Z",
     "iopub.status.idle": "2022-11-18T14:22:34.545362Z",
     "shell.execute_reply": "2022-11-18T14:22:34.544374Z",
     "shell.execute_reply.started": "2022-11-18T14:22:34.243125Z"
    },
    "tags": []
   },
   "outputs": [
    {
     "data": {
      "image/png": "[encoded data removed]",
      "text/plain": [
       "<Figure size 1440x720 with 2 Axes>"
      ]
     },
     "metadata": {
      "needs_background": "light"
     },
     "output_type": "display_data"
    }
   ],
   "source": [
    "# model auroc 0.719짜리\n",
    "%matplotlib inline\n",
    "import matplotlib.pyplot as plt\n",
    "\n",
    "fig, loss_ax = plt.subplots(figsize=(20,10))\n",
    "\n",
    "#x-axis는 공유하지만 y-axis는 공유x\n",
    "auc_ax = loss_ax.twinx()\n",
    "\n",
    "loss_ax.plot(hist.history['loss'], 'y', linestyle='dashed', label='train loss')\n",
    "loss_ax.plot(hist.history['val_loss'], 'r', label='val loss')\n",
    "\n",
    "#acc_ax.plot(hist.history['mean_absolute_error'], 'b', linestyle='dashed',label='train mae')\n",
    "#acc_ax.plot(hist.history['val_mean_absolute_error'], 'g', label='val mae')\n",
    "#auc_ax.plot(hist.history['auc'], 'b', linestyle='dashed',label='train auc')\n",
    "auc_ax.plot(hist.history[list(hist.history.keys())[1]], 'b', linestyle='dashed',label='train auc')\n",
    "auc_ax.plot(hist.history[list(hist.history.keys())[3]], 'g', label='val auc')\n",
    "\n",
    "loss_ax.set_xlabel('epoch')\n",
    "loss_ax.set_ylabel('loss')\n",
    "#acc_ax.set_ylim(0.2,1.0)\n",
    "acc_ax.set_ylabel('accuray')\n",
    "\n",
    "loss_ax.legend(loc='upper left')\n",
    "auc_ax.legend(loc='lower left')\n",
    "\n",
    "plt.show()"
   ]
  }
 ],
 "metadata": {
  "kernelspec": {
   "display_name": "keras",
   "language": "python",
   "name": "painstudy_keras"
  },
  "language_info": {
   "codemirror_mode": {
    "name": "ipython",
    "version": 3
   },
   "file_extension": ".py",
   "mimetype": "text/x-python",
   "name": "python",
   "nbconvert_exporter": "python",
   "pygments_lexer": "ipython3",
   "version": "3.8.12"
  }
 },
 "nbformat": 4,
 "nbformat_minor": 5
}
