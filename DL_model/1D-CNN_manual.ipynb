{
 "cells": [
  {
   "cell_type": "code",
   "execution_count": 1,
   "id": "9b9674e9-4cbc-4add-8c5d-4fe80090ff02",
   "metadata": {
    "execution": {
     "iopub.execute_input": "2022-09-07T11:54:27.511192Z",
     "iopub.status.busy": "2022-09-07T11:54:27.510704Z",
     "iopub.status.idle": "2022-09-07T11:54:29.942079Z",
     "shell.execute_reply": "2022-09-07T11:54:29.941504Z",
     "shell.execute_reply.started": "2022-09-07T11:54:27.511071Z"
    },
    "tags": []
   },
   "outputs": [],
   "source": [
    "from keras import losses, metrics\n",
    "from keras.models import Sequential\n",
    "from keras.models import Model, load_model\n",
    "#from keras.optimizers import Adam\n",
    "from keras.layers import Dense, Conv1D, MaxPooling1D, GlobalMaxPool1D, BatchNormalization, Dropout, Activation\n",
    "from keras.layers import GlobalAveragePooling1D, Flatten, SeparableConv1D\n",
    "from keras.callbacks import ModelCheckpoint, EarlyStopping\n",
    "from sklearn.metrics import auc, classification_report, confusion_matrix, accuracy_score, roc_curve, roc_auc_score, f1_score, precision_recall_curve\n",
    "import tensorflow as tf\n",
    "import os, sys, pickle\n",
    "import pandas as pd\n",
    "import random\n",
    "import datetime"
   ]
  },
  {
   "cell_type": "markdown",
   "id": "95c1648c-889e-4e8e-994a-4f94004cd3e6",
   "metadata": {},
   "source": [
    "# 0. GPU setting"
   ]
  },
  {
   "cell_type": "code",
   "execution_count": 6,
   "id": "f28ca3a7-b731-4a36-b71c-9bfb52a6a507",
   "metadata": {
    "execution": {
     "iopub.execute_input": "2022-09-07T15:26:50.414854Z",
     "iopub.status.busy": "2022-09-07T15:26:50.414360Z",
     "iopub.status.idle": "2022-09-07T15:26:50.421467Z",
     "shell.execute_reply": "2022-09-07T15:26:50.420531Z",
     "shell.execute_reply.started": "2022-09-07T15:26:50.414806Z"
    },
    "tags": []
   },
   "outputs": [
    {
     "name": "stdout",
     "output_type": "stream",
     "text": [
      "2022-09-08 00:26:50.417303\n"
     ]
    }
   ],
   "source": [
    "n_gpu = 3\n",
    "os.environ[\"CUDA_DEVICE_ORDER\"]=\"PCI_BUS_ID\"  \n",
    "os.environ[\"CUDA_VISIBLE_DEVICES\"]= f\"{n_gpu}\"  \n",
    "print(datetime.datetime.now())"
   ]
  },
  {
   "cell_type": "code",
   "execution_count": 19,
   "id": "a4b165bb-ad7b-4e19-840e-f314458556b8",
   "metadata": {
    "collapsed": true,
    "execution": {
     "iopub.execute_input": "2022-01-15T14:21:33.328067Z",
     "iopub.status.busy": "2022-01-15T14:21:33.327682Z",
     "iopub.status.idle": "2022-01-15T14:21:36.724014Z",
     "shell.execute_reply": "2022-01-15T14:21:36.723246Z",
     "shell.execute_reply.started": "2022-01-15T14:21:33.328036Z"
    },
    "jupyter": {
     "outputs_hidden": true
    },
    "tags": []
   },
   "outputs": [
    {
     "name": "stdout",
     "output_type": "stream",
     "text": [
      "4 Physical GPUs, 4 Logical GPUs\n"
     ]
    },
    {
     "name": "stderr",
     "output_type": "stream",
     "text": [
      "2022-01-15 23:21:33.400468: I tensorflow/core/platform/cpu_feature_guard.cc:151] This TensorFlow binary is optimized with oneAPI Deep Neural Network Library (oneDNN) to use the following CPU instructions in performance-critical operations:  AVX2 FMA\n",
      "To enable them in other operations, rebuild TensorFlow with the appropriate compiler flags.\n",
      "2022-01-15 23:21:36.711660: I tensorflow/core/common_runtime/gpu/gpu_device.cc:1525] Created device /job:localhost/replica:0/task:0/device:GPU:0 with 6 MB memory:  -> device: 0, name: Tesla V100-DGXS-32GB, pci bus id: 0000:07:00.0, compute capability: 7.0\n",
      "2022-01-15 23:21:36.714741: I tensorflow/core/common_runtime/gpu/gpu_device.cc:1525] Created device /job:localhost/replica:0/task:0/device:GPU:1 with 30982 MB memory:  -> device: 1, name: Tesla V100-DGXS-32GB, pci bus id: 0000:08:00.0, compute capability: 7.0\n",
      "2022-01-15 23:21:36.715454: I tensorflow/core/common_runtime/gpu/gpu_device.cc:1525] Created device /job:localhost/replica:0/task:0/device:GPU:2 with 177 MB memory:  -> device: 2, name: Tesla V100-DGXS-32GB, pci bus id: 0000:0e:00.0, compute capability: 7.0\n",
      "2022-01-15 23:21:36.716125: I tensorflow/core/common_runtime/gpu/gpu_device.cc:1525] Created device /job:localhost/replica:0/task:0/device:GPU:3 with 30982 MB memory:  -> device: 3, name: Tesla V100-DGXS-32GB, pci bus id: 0000:0f:00.0, compute capability: 7.0\n"
     ]
    }
   ],
   "source": [
    "import tensorflow as tf\n",
    "\n",
    "gpus = tf.config.experimental.list_physical_devices('GPU')\n",
    "if gpus:\n",
    "    try:\n",
    "        # Currently, memory growth needs to be the same across GPUs\n",
    "        for gpu in gpus:\n",
    "            tf.config.experimental.set_memory_growth(gpu, True)\n",
    "        logical_gpus = tf.config.experimental.list_logical_devices('GPU')\n",
    "        print(len(gpus), \"Physical GPUs,\", len(logical_gpus), \"Logical GPUs\")\n",
    "    except RuntimeError as e:\n",
    "        # Memory growth must be set before GPUs have been initialized\n",
    "        print(e)"
   ]
  },
  {
   "cell_type": "markdown",
   "id": "e9993ca4-5802-4326-88d6-12c593658b90",
   "metadata": {},
   "source": [
    "# 1. Input loading"
   ]
  },
  {
   "cell_type": "code",
   "execution_count": 7,
   "id": "a2cfae2e-f0f2-43b8-987c-ed4b40a81440",
   "metadata": {
    "execution": {
     "iopub.execute_input": "2022-09-07T15:36:22.729876Z",
     "iopub.status.busy": "2022-09-07T15:36:22.729377Z",
     "iopub.status.idle": "2022-09-07T15:36:23.230581Z",
     "shell.execute_reply": "2022-09-07T15:36:23.229024Z",
     "shell.execute_reply.started": "2022-09-07T15:36:22.729827Z"
    },
    "tags": []
   },
   "outputs": [
    {
     "name": "stdout",
     "output_type": "stream",
     "text": [
      "loading train...done\n",
      "input_train shape: (796, 6000, 3)\n",
      "input_test.shape: (98, 6000, 3)\n",
      "input_val.shape: (87, 6000, 3)\n",
      "\n",
      "hr_train : mean 0.21, max 0.89, min -0.29\n",
      "hr_val : mean 0.24, max 0.88, min -0.22\n",
      "hr_test : mean 0.21, max 0.88, min -0.19\n",
      "2022-09-08 00:36:23.227219\n"
     ]
    }
   ],
   "source": [
    "import pandas as pd\n",
    "import numpy as np\n",
    "\n",
    "BATCH_SIZE = 1024\n",
    "MAX_CASES = 2000\n",
    "SRATE = 100\n",
    "LEN_INPUT = 60\n",
    "OVERLAP = 0\n",
    "LEN_PER_PRE = 60\n",
    "LEN_PER_POST = 60\n",
    "MODE = 'HR_mean'\n",
    "\n",
    "print('loading train...', flush=True, end='')\n",
    "\n",
    "# x를 loading해서 (batch_size, step, channel)\n",
    "input_path = f\"../DL_model/dataset/ne{LEN_PER_PRE}s-e{LEN_PER_POST}s-len{LEN_INPUT}-{OVERLAP}/\"\n",
    "x_train = np.load(input_path+'x_train.npz', allow_pickle=True)['arr_0']\n",
    "x_test = np.load(input_path+'x_test.npz', allow_pickle=True)['arr_0']\n",
    "x_val = np.load(input_path+'x_val.npz', allow_pickle=True)['arr_0']\n",
    "\n",
    "rftn_train = np.load(input_path+'rftn_train.npz')['arr_0']\n",
    "rftn_test = np.load(input_path+'rftn_test.npz')['arr_0']\n",
    "rftn_val = np.load(input_path+'rftn_val.npz')['arr_0']\n",
    "\n",
    "hr_train = np.load(input_path+'hr_train.npz')['arr_0']\n",
    "hr_test = np.load(input_path+'hr_test.npz')['arr_0']\n",
    "hr_val = np.load(input_path+'hr_val.npz')['arr_0']\n",
    "\n",
    "hr_train_bin = hr_train > 0.25\n",
    "hr_test_bin = hr_test > 0.25\n",
    "hr_val_bin = hr_val > 0.25\n",
    "\n",
    "gender_train = np.load(input_path+'gender_train.npz', allow_pickle=True)['arr_0']\n",
    "gender_test = np.load(input_path+'gender_test.npz', allow_pickle=True)['arr_0']\n",
    "gender_val = np.load(input_path+'gender_val.npz', allow_pickle=True)['arr_0']\n",
    "\n",
    "age_train = np.load(input_path+'age_train.npz', allow_pickle=True)['arr_0']\n",
    "age_test = np.load(input_path+'age_test.npz', allow_pickle=True)['arr_0']\n",
    "age_val = np.load(input_path+'age_val.npz', allow_pickle=True)['arr_0']\n",
    "\n",
    "rftn_train = np.reshape(rftn_train, [-1,6000,1])\n",
    "input_train = np.concatenate((x_train, rftn_train), axis=2)\n",
    "rftn_test = np.reshape(rftn_test, [-1,6000,1])\n",
    "input_test = np.concatenate((x_test, rftn_test), axis=2)\n",
    "rftn_val = np.reshape(rftn_val, [-1,6000,1])\n",
    "input_val = np.concatenate((x_val, rftn_val), axis=2)\n",
    "\n",
    "print('done', flush=True)\n",
    "\n",
    "print('input_train shape:', input_train.shape)\n",
    "print('input_test.shape:', input_test.shape)\n",
    "print(f'input_val.shape: {input_val.shape}\\n')\n",
    "\n",
    "print(f'hr_train : mean {hr_train.mean():.2f}, max {hr_train.max():.2f}, min {hr_train.min():.2f}')\n",
    "print(f'hr_val : mean {hr_val.mean():.2f}, max {hr_val.max():.2f}, min {hr_val.min():.2f}')\n",
    "print(f'hr_test : mean {hr_test.mean():.2f}, max {hr_test.max():.2f}, min {hr_test.min():.2f}')\n",
    "\n",
    "print(datetime.datetime.now())"
   ]
  },
  {
   "cell_type": "markdown",
   "id": "703c76ea-988b-4aa4-ac1c-d8ff82ddb3d9",
   "metadata": {
    "jp-MarkdownHeadingCollapsed": true,
    "tags": []
   },
   "source": [
    "### Validation"
   ]
  },
  {
   "cell_type": "code",
   "execution_count": 24,
   "id": "b2e14b0c-5b4e-4b3b-870a-603196dc821b",
   "metadata": {
    "execution": {
     "iopub.execute_input": "2022-09-06T03:01:01.692352Z",
     "iopub.status.busy": "2022-09-06T03:01:01.691854Z",
     "iopub.status.idle": "2022-09-06T03:01:01.837406Z",
     "shell.execute_reply": "2022-09-06T03:01:01.836752Z",
     "shell.execute_reply.started": "2022-09-06T03:01:01.692303Z"
    },
    "tags": []
   },
   "outputs": [
    {
     "data": {
      "image/png": "[encoded data removed]",
      "text/plain": [
       "<Figure size 432x288 with 1 Axes>"
      ]
     },
     "metadata": {
      "needs_background": "light"
     },
     "output_type": "display_data"
    },
    {
     "name": "stdout",
     "output_type": "stream",
     "text": [
      "0.21101776\n"
     ]
    }
   ],
   "source": [
    "import matplotlib.pyplot as plt\n",
    "\n",
    "plt.hist(hr_test)\n",
    "plt.show()\n",
    "\n",
    "print(hr_test.mean())"
   ]
  },
  {
   "cell_type": "code",
   "execution_count": 15,
   "id": "a42510c6-5386-4cb0-ae69-8d98e0aeb879",
   "metadata": {
    "execution": {
     "iopub.execute_input": "2022-09-05T06:37:41.132523Z",
     "iopub.status.busy": "2022-09-05T06:37:41.132130Z",
     "iopub.status.idle": "2022-09-05T06:37:41.274952Z",
     "shell.execute_reply": "2022-09-05T06:37:41.274397Z",
     "shell.execute_reply.started": "2022-09-05T06:37:41.132489Z"
    },
    "tags": []
   },
   "outputs": [
    {
     "data": {
      "text/plain": [
       "[<matplotlib.lines.Line2D at 0x7f048b6eb760>]"
      ]
     },
     "execution_count": 15,
     "metadata": {},
     "output_type": "execute_result"
    },
    {
     "data": {
      "image/png": "[encoded data removed]",
      "text/plain": [
       "<Figure size 432x288 with 1 Axes>"
      ]
     },
     "metadata": {
      "needs_background": "light"
     },
     "output_type": "display_data"
    }
   ],
   "source": [
    "import matplotlib.pyplot as plt\n",
    "plt.plot(x_test[57,:,0])\n",
    "plt.plot(rftn_test[47,:])\n",
    "#np.mean(x_val[2,:,1])"
   ]
  },
  {
   "cell_type": "markdown",
   "id": "56b36626-81fd-4131-8ffc-fab897c06fb3",
   "metadata": {},
   "source": [
    "## Sample weight"
   ]
  },
  {
   "cell_type": "code",
   "execution_count": 14,
   "id": "1df425d4-98a6-44f8-b782-c44a6fb33c06",
   "metadata": {
    "execution": {
     "iopub.execute_input": "2022-09-07T15:43:14.912527Z",
     "iopub.status.busy": "2022-09-07T15:43:14.912021Z",
     "iopub.status.idle": "2022-09-07T15:43:14.919709Z",
     "shell.execute_reply": "2022-09-07T15:43:14.918709Z",
     "shell.execute_reply.started": "2022-09-07T15:43:14.912479Z"
    },
    "tags": []
   },
   "outputs": [
    {
     "name": "stdout",
     "output_type": "stream",
     "text": [
      "2022-09-08 00:43:14.915726\n"
     ]
    }
   ],
   "source": [
    "train_w_samp = np.ones(shape=(len(hr_train),))\n",
    "val_w_samp = np.ones(shape=(len(hr_val),))\n",
    "test_w_samp = np.ones(shape=(len(hr_test),))\n",
    "print(datetime.datetime.now())"
   ]
  },
  {
   "cell_type": "code",
   "execution_count": 9,
   "id": "4c981f7a-190c-4d95-a314-b5304b04de95",
   "metadata": {
    "execution": {
     "iopub.execute_input": "2022-09-07T15:36:31.910402Z",
     "iopub.status.busy": "2022-09-07T15:36:31.909921Z",
     "iopub.status.idle": "2022-09-07T15:36:31.954415Z",
     "shell.execute_reply": "2022-09-07T15:36:31.953710Z",
     "shell.execute_reply.started": "2022-09-07T15:36:31.910354Z"
    },
    "tags": []
   },
   "outputs": [
    {
     "name": "stdout",
     "output_type": "stream",
     "text": [
      "0\n",
      "0\n",
      "0\n"
     ]
    }
   ],
   "source": [
    "print(np.sum(np.isnan(input_train)))\n",
    "print(np.sum(np.isnan(input_test)))\n",
    "print(np.sum(np.isnan(input_val)))"
   ]
  },
  {
   "cell_type": "code",
   "execution_count": 10,
   "id": "ac09a56d-9de1-411d-bebb-e702874b654f",
   "metadata": {
    "execution": {
     "iopub.execute_input": "2022-09-07T15:36:37.430252Z",
     "iopub.status.busy": "2022-09-07T15:36:37.429770Z",
     "iopub.status.idle": "2022-09-07T15:36:37.466218Z",
     "shell.execute_reply": "2022-09-07T15:36:37.465511Z",
     "shell.execute_reply.started": "2022-09-07T15:36:37.430205Z"
    },
    "tags": []
   },
   "outputs": [
    {
     "name": "stdout",
     "output_type": "stream",
     "text": [
      "0 0 0\n"
     ]
    }
   ],
   "source": [
    "print(np.sum(np.isnan(x_train)), np.sum(np.isnan(rftn_train)), np.sum(np.isnan(hr_train)))"
   ]
  },
  {
   "cell_type": "markdown",
   "id": "2a86fc49-1640-49e4-9e04-fedfcfc916f5",
   "metadata": {
    "tags": []
   },
   "source": [
    "# 2. Model Training"
   ]
  },
  {
   "cell_type": "code",
   "execution_count": 22,
   "id": "424cf838-5e33-49f5-82c5-86f3a9380d3c",
   "metadata": {
    "execution": {
     "iopub.execute_input": "2022-09-07T15:48:29.842723Z",
     "iopub.status.busy": "2022-09-07T15:48:29.841946Z",
     "iopub.status.idle": "2022-09-07T15:48:39.176621Z",
     "shell.execute_reply": "2022-09-07T15:48:39.176081Z",
     "shell.execute_reply.started": "2022-09-07T15:48:29.842672Z"
    },
    "scrolled": true,
    "tags": []
   },
   "outputs": [
    {
     "name": "stdout",
     "output_type": "stream",
     "text": [
      "128-64\n"
     ]
    },
    {
     "name": "stderr",
     "output_type": "stream",
     "text": [
      "/home/painstudy/anaconda3/envs/keras/lib/python3.8/site-packages/keras/optimizer_v2/adam.py:105: UserWarning: The `lr` argument is deprecated, use `learning_rate` instead.\n",
      "  super(Adam, self).__init__(name, **kwargs)\n"
     ]
    },
    {
     "name": "stdout",
     "output_type": "stream",
     "text": [
      "Epoch 1/100\n",
      "2/2 [==============================] - ETA: 0s - loss: 1.0533 - acc: 0.4460 - auc: 0.5043\n",
      "Epoch 00001: val_loss improved from inf to 1.26491, saving model to output/CNN_HR_mean_ne60s-e60s-len60-0/EEG+PPG+RFTN_bin_conv128_conv64_filter3x2_tanh_bn_maxpool2_globalmaxpool_dropout0.3_dense32_dropout0.3_batch512_lr_0.002_kinit_kreg0/weights.hdf5\n",
      "2/2 [==============================] - 4s 1s/step - loss: 1.0533 - acc: 0.4460 - auc: 0.5043 - val_loss: 1.2649 - val_acc: 0.4598 - val_auc: 0.4442\n",
      "Epoch 2/100\n",
      "2/2 [==============================] - ETA: 0s - loss: 0.8183 - acc: 0.5302 - auc: 0.5024\n",
      "Epoch 00002: val_loss improved from 1.26491 to 0.73947, saving model to output/CNN_HR_mean_ne60s-e60s-len60-0/EEG+PPG+RFTN_bin_conv128_conv64_filter3x2_tanh_bn_maxpool2_globalmaxpool_dropout0.3_dense32_dropout0.3_batch512_lr_0.002_kinit_kreg0/weights.hdf5\n",
      "2/2 [==============================] - 1s 291ms/step - loss: 0.8183 - acc: 0.5302 - auc: 0.5024 - val_loss: 0.7395 - val_acc: 0.4943 - val_auc: 0.5075\n",
      "Epoch 3/100\n",
      "2/2 [==============================] - ETA: 0s - loss: 0.7652 - acc: 0.5729 - auc: 0.5448\n",
      "Epoch 00003: val_loss improved from 0.73947 to 0.71340, saving model to output/CNN_HR_mean_ne60s-e60s-len60-0/EEG+PPG+RFTN_bin_conv128_conv64_filter3x2_tanh_bn_maxpool2_globalmaxpool_dropout0.3_dense32_dropout0.3_batch512_lr_0.002_kinit_kreg0/weights.hdf5\n",
      "2/2 [==============================] - 1s 432ms/step - loss: 0.7652 - acc: 0.5729 - auc: 0.5448 - val_loss: 0.7134 - val_acc: 0.5172 - val_auc: 0.4407\n",
      "Epoch 4/100\n",
      "2/2 [==============================] - ETA: 0s - loss: 0.7834 - acc: 0.5716 - auc: 0.5208\n",
      "Epoch 00004: val_loss did not improve from 0.71340\n",
      "2/2 [==============================] - 1s 226ms/step - loss: 0.7834 - acc: 0.5716 - auc: 0.5208 - val_loss: 0.7196 - val_acc: 0.5632 - val_auc: 0.5387\n",
      "Epoch 5/100\n",
      "2/2 [==============================] - ETA: 0s - loss: 0.8048 - acc: 0.5704 - auc: 0.5138\n",
      "Epoch 00005: val_loss did not improve from 0.71340\n",
      "2/2 [==============================] - 1s 324ms/step - loss: 0.8048 - acc: 0.5704 - auc: 0.5138 - val_loss: 0.7245 - val_acc: 0.5517 - val_auc: 0.5053\n",
      "Epoch 6/100\n",
      "2/2 [==============================] - ETA: 0s - loss: 0.7787 - acc: 0.5716 - auc: 0.5204\n",
      "Epoch 00006: val_loss did not improve from 0.71340\n",
      "2/2 [==============================] - 1s 222ms/step - loss: 0.7787 - acc: 0.5716 - auc: 0.5204 - val_loss: 0.7258 - val_acc: 0.5517 - val_auc: 0.5155\n",
      "Epoch 7/100\n",
      "2/2 [==============================] - ETA: 0s - loss: 0.7832 - acc: 0.5842 - auc: 0.5033\n",
      "Epoch 00007: val_loss did not improve from 0.71340\n",
      "2/2 [==============================] - 1s 350ms/step - loss: 0.7832 - acc: 0.5842 - auc: 0.5033 - val_loss: 0.7267 - val_acc: 0.5517 - val_auc: 0.5288\n",
      "Epoch 8/100\n",
      "2/2 [==============================] - ETA: 0s - loss: 0.7420 - acc: 0.5766 - auc: 0.5397\n",
      "Epoch 00008: val_loss did not improve from 0.71340\n",
      "2/2 [==============================] - 1s 222ms/step - loss: 0.7420 - acc: 0.5766 - auc: 0.5397 - val_loss: 0.7186 - val_acc: 0.5517 - val_auc: 0.5601\n",
      "test set acc 0.0, roc 0.39813519813519815, prc 0.2712944929708589\n",
      "2022-09-08 00:48:39.174291\n"
     ]
    }
   ],
   "source": [
    "from keras.models import Sequential\n",
    "from keras.models import Model, load_model\n",
    "from tensorflow.keras.optimizers import Adam\n",
    "from keras.layers import Dense, Conv1D, MaxPooling1D, GlobalMaxPool1D, BatchNormalization, Dropout, Activation\n",
    "from keras.layers import GlobalAveragePooling1D, Flatten, SeparableConv1D, LeakyReLU\n",
    "from keras.callbacks import ModelCheckpoint, EarlyStopping\n",
    "from sklearn.metrics import auc, classification_report, confusion_matrix, accuracy_score, roc_curve, roc_auc_score, f1_score, precision_recall_curve\n",
    "import tensorflow as tf\n",
    "import os, pickle\n",
    "from keras import backend as K\n",
    "from keras import regularizers\n",
    "from keras.initializers import he_normal, GlorotNormal\n",
    "\n",
    "\n",
    "# hyperparamters\n",
    "num_nodes = [128, 64] #, 64, 64, 64]\n",
    "kernel_size = 3\n",
    "pool_size = 2\n",
    "BATCH_SIZE = 512\n",
    "dense_node = 32\n",
    "#dropout_rate = 0.3\n",
    "dropout_cnn = 0.3\n",
    "dropout_fc = 0.3\n",
    "learning_rate = 0.002\n",
    "\n",
    "\n",
    "# initializer & regularizer\n",
    "k_init = he_normal(seed=None)\n",
    "#k_init = GlorotNormal(seed=None) # Xavier normal initializer\n",
    "#k_init = None\n",
    "b_init = None\n",
    "k_l2 = 0\n",
    "#k_reg = regularizers.l2(l2=k_l2)\n",
    "k_reg = None\n",
    "b_reg = None\n",
    "\n",
    "\n",
    "testname = '-'.join([str(num_node) for num_node in num_nodes])\n",
    "print(testname)\n",
    "\n",
    "\n",
    "# 출력 폴더를 생성\n",
    "model_name = 'EEG+PPG+RFTN_bin_'\n",
    "for num_node in num_nodes:\n",
    "    model_name += 'conv{}_'.format(num_node)\n",
    "model_name += 'filter{}x2_tanh_bn_maxpool{}_globalmaxpool_dropout{}_dense{}_dropout{}_batch{}_lr_{}_kinit_kreg{}'.format(kernel_size, pool_size, dropout_cnn, dense_node, dropout_fc, BATCH_SIZE, learning_rate, k_l2)\n",
    "\n",
    "#model_name = 'model_reg_{}_{}_{}_size{}_relu_bn_maxpool{}_globalmaxpool_dense32_dropout{}_batch{}_learning_rate{}'.format(num_nodes[0], num_nodes[1], num_nodes[2], kernel_size, pool_size, dropout_rate, BATCH_SIZE, learning_rate)\n",
    "root_path = f\"output/CNN_{MODE}_ne{LEN_PER_PRE}s-e{LEN_PER_POST}s-len{LEN_INPUT}-{OVERLAP}\"\n",
    "save_path = f\"{root_path}/{model_name}\"\n",
    "\n",
    "if not os.path.exists(root_path):\n",
    "    os.mkdir(root_path)\n",
    "\n",
    "if not os.path.exists(save_path):\n",
    "    os.mkdir(save_path)\n",
    "weight_path = save_path + \"/weights.hdf5\"\n",
    "\n",
    "\n",
    "# GPU 설정\n",
    "#strategy = tf.distribute.MirroredStrategy(devices=[\"/gpu:1\"])\n",
    "#with strategy.scope():\n",
    "with tf.device(f'/gpu:{n_gpu}'):\n",
    "    \n",
    "    # build a model\n",
    "    model = Sequential()\n",
    "    for num_node in num_nodes:\n",
    "        model.add(Conv1D(filters=num_node, kernel_size=kernel_size, padding='same', kernel_initializer=k_init,bias_initializer =b_init , kernel_regularizer=k_reg, bias_regularizer=b_reg))\n",
    "        model.add(Conv1D(filters=num_node, kernel_size=kernel_size, padding='same', kernel_initializer=k_init,bias_initializer =b_init , kernel_regularizer=k_reg, bias_regularizer=b_reg))\n",
    "        #model.add(LeakyReLU(alpha=0.1))\n",
    "        model.add(Activation('relu'))\n",
    "        model.add(BatchNormalization())\n",
    "        model.add(MaxPooling1D(pool_size=pool_size))\n",
    "        \n",
    "    #model.add(BatchNormalization())    \n",
    "    model.add(GlobalMaxPool1D())\n",
    "    model.add(Dropout(dropout_cnn))\n",
    "\n",
    "    if dense_node != 0:\n",
    "        model.add(Dense(dense_node, activation='tanh')) #, kernel_initializer=k_init, kernel_regularizer=k_reg))\n",
    "        model.add(Dropout(dropout_fc))\n",
    "    model.add(Dense(1, activation='sigmoid')) #kernel_initializer=k_init, kernel_regularizer=k_reg, activation='relu'))\n",
    "\n",
    "    \n",
    "    # model 학습 설정\n",
    "    model.compile(loss='binary_crossentropy', optimizer=Adam(lr=learning_rate), metrics=[\"acc\", tf.keras.metrics.AUC()])\n",
    "    hist = model.fit(input_train, hr_train_bin, sample_weight = train_w_samp, validation_data = (input_val, hr_val_bin, val_w_samp), epochs=100, batch_size=BATCH_SIZE, #class_weight={0:1, 1:3}, \n",
    "                            callbacks=[ModelCheckpoint(monitor='val_loss', filepath=weight_path, verbose=1, save_best_only=True),\n",
    "                                        EarlyStopping(monitor='val_loss', patience=5, verbose=0, mode='auto')])\n",
    "\n",
    "    tf.keras.backend.clear_session()\n",
    "\n",
    "\n",
    "    # 모델의 아키텍처 및 구조 저장\n",
    "open(save_path + \"/model.json\", \"wt\").write(model.to_json())\n",
    "\n",
    "# 모델의 history log 저장 - binary classification\n",
    "history_list = []\n",
    "for key in hist.history.keys():\n",
    "    history_list.append({key:hist.history[key]})\n",
    "\n",
    "# 모델의 history log 저장 - regression\n",
    "pickle.dump(history_list, open(save_path+'/history','wb'))\n",
    "#pickle.dump((hist.history['loss'], hist.history['val_loss'], hist.history['mean_absolute_error'], hist.history['val_mean_absolute_error']), open(save_path+'/history', 'wb'))\n",
    "\n",
    "\n",
    "'''\n",
    "# 전체 test 샘플을 한번에 예측\n",
    "y_pred = model.predict(x_test) # binary는 flatten\n",
    "\n",
    "# RMSE 계산\n",
    "model_err = metrics.RootMeanSquaredError()\n",
    "model_err.update_state(y_test, y_pred)\n",
    "rmse_val = model_err.result().numpy()\n",
    "\n",
    "# MAE 계산\n",
    "model_err = metrics.MeanAbsoluteError()\n",
    "model_err.update_state(y_test, y_pred)\n",
    "mae_val = model_err.result().numpy()\n",
    "\n",
    "print(f'test set RMSE: {rmse_val:.3f}, MAE: {mae_val:.3f}')\n",
    "'''\n",
    "\n",
    "model.load_weights(weight_path)\n",
    "y_pred = model.predict(input_test).flatten()\n",
    "# acc 계산\n",
    "acc = metrics.Accuracy()\n",
    "acc.update_state(y_pred, hr_test_bin, sample_weight=test_w_samp)\n",
    "acc_val = acc.result().numpy()\n",
    "\n",
    "# auroc 계산\n",
    "false_positive_rate, true_positive_rate, threshold = roc_curve(hr_test_bin, y_pred, sample_weight=test_w_samp)\n",
    "roc_auc = auc(false_positive_rate, true_positive_rate)\n",
    "\n",
    "# auprc \n",
    "precision, recall, _ = precision_recall_curve(hr_test_bin, y_pred, sample_weight=test_w_samp)\n",
    "prc_auc = auc(recall, precision)\n",
    "\n",
    "# rename\n",
    "os.rename(save_path, f'{root_path}/roc{roc_auc:.4f}_prc{prc_auc:.4f}_{model_name}_acc{acc_val:.2f}')\n",
    "\n",
    "print(f'\\ntest set acc {acc_val}, roc {roc_auc}, prc {prc_auc}')\n",
    "\n",
    "print(datetime.datetime.now())"
   ]
  },
  {
   "cell_type": "code",
   "execution_count": 19,
   "id": "44df19ae-2a1d-4dbd-b014-438ca7b5f748",
   "metadata": {
    "execution": {
     "iopub.execute_input": "2022-09-07T15:46:40.372065Z",
     "iopub.status.busy": "2022-09-07T15:46:40.371190Z",
     "iopub.status.idle": "2022-09-07T15:46:40.388046Z",
     "shell.execute_reply": "2022-09-07T15:46:40.386948Z",
     "shell.execute_reply.started": "2022-09-07T15:46:40.372014Z"
    },
    "tags": []
   },
   "outputs": [
    {
     "name": "stdout",
     "output_type": "stream",
     "text": [
      "Model: \"sequential\"\n",
      "_________________________________________________________________\n",
      " Layer (type)                Output Shape              Param #   \n",
      "=================================================================\n",
      " conv1d (Conv1D)             (None, 6000, 64)          640       \n",
      "                                                                 \n",
      " conv1d_1 (Conv1D)           (None, 6000, 64)          12352     \n",
      "                                                                 \n",
      " activation (Activation)     (None, 6000, 64)          0         \n",
      "                                                                 \n",
      " batch_normalization (BatchN  (None, 6000, 64)         256       \n",
      " ormalization)                                                   \n",
      "                                                                 \n",
      " max_pooling1d (MaxPooling1D  (None, 3000, 64)         0         \n",
      " )                                                               \n",
      "                                                                 \n",
      " conv1d_2 (Conv1D)           (None, 3000, 64)          12352     \n",
      "                                                                 \n",
      " conv1d_3 (Conv1D)           (None, 3000, 64)          12352     \n",
      "                                                                 \n",
      " activation_1 (Activation)   (None, 3000, 64)          0         \n",
      "                                                                 \n",
      " batch_normalization_1 (Batc  (None, 3000, 64)         256       \n",
      " hNormalization)                                                 \n",
      "                                                                 \n",
      " max_pooling1d_1 (MaxPooling  (None, 1500, 64)         0         \n",
      " 1D)                                                             \n",
      "                                                                 \n",
      " global_max_pooling1d (Globa  (None, 64)               0         \n",
      " lMaxPooling1D)                                                  \n",
      "                                                                 \n",
      " dropout (Dropout)           (None, 64)                0         \n",
      "                                                                 \n",
      " dense (Dense)               (None, 64)                4160      \n",
      "                                                                 \n",
      " dropout_1 (Dropout)         (None, 64)                0         \n",
      "                                                                 \n",
      " dense_1 (Dense)             (None, 1)                 65        \n",
      "                                                                 \n",
      "=================================================================\n",
      "Total params: 42,433\n",
      "Trainable params: 42,177\n",
      "Non-trainable params: 256\n",
      "_________________________________________________________________\n"
     ]
    }
   ],
   "source": [
    "model.summary()"
   ]
  },
  {
   "cell_type": "code",
   "execution_count": 22,
   "id": "f2efee45-7add-4ae8-9eef-aafc81ae6895",
   "metadata": {
    "execution": {
     "iopub.execute_input": "2022-01-16T07:04:16.466512Z",
     "iopub.status.busy": "2022-01-16T07:04:16.466014Z",
     "iopub.status.idle": "2022-01-16T07:04:16.473426Z",
     "shell.execute_reply": "2022-01-16T07:04:16.472527Z",
     "shell.execute_reply.started": "2022-01-16T07:04:16.466463Z"
    },
    "tags": []
   },
   "outputs": [
    {
     "data": {
      "text/plain": [
       "dict_keys(['loss', 'mean_absolute_error', 'val_loss', 'val_mean_absolute_error'])"
      ]
     },
     "execution_count": 22,
     "metadata": {},
     "output_type": "execute_result"
    }
   ],
   "source": [
    "hist.history.keys()"
   ]
  },
  {
   "cell_type": "markdown",
   "id": "7515613d-ceec-4326-b4d4-a3b9467be3bf",
   "metadata": {},
   "source": [
    "### regression"
   ]
  },
  {
   "cell_type": "code",
   "execution_count": null,
   "id": "07e5f96f-ada1-4471-81f2-1bf2f49f5d35",
   "metadata": {},
   "outputs": [],
   "source": [
    "        model.compile(loss='mse', optimizer=Adam(lr=learning_rate), metrics=[\"mean_absolute_error\", tf.keras.metrics.AUC()])\n",
    "        hist = model.fit(x_train, y_train, validation_data=(x_val, y_val), epochs=100, batch_size=batch_size, #class_weight={0:1, 1:3}, \n",
    "                                callbacks=[ModelCheckpoint(monitor='val_loss', filepath=weightcache, verbose=1, save_best_only=True),\n",
    "                                            EarlyStopping(monitor='val_loss', patience=5, verbose=0, mode='auto')])"
   ]
  },
  {
   "cell_type": "markdown",
   "id": "a4b4999f-93cb-4bc2-b5b4-89bed3b9f0a2",
   "metadata": {},
   "source": [
    "### binary classification"
   ]
  },
  {
   "cell_type": "code",
   "execution_count": null,
   "id": "a9e46940-4be0-42d7-b55a-504f2c4911e5",
   "metadata": {},
   "outputs": [],
   "source": [
    "    model.compile(loss='binary_crossentropy', optimizer=Adam(lr=learning_rate), metrics=[\"acc\", tf.keras.metrics.AUC()])\n",
    "    hist = model.fit(x_train, y_train_class, sample_weight = train_w_samp, validation_data = (x_val, y_val_class, val_w_samp), epochs=100, batch_size=BATCH_SIZE, #class_weight={0:1, 1:3}, \n",
    "                            callbacks=[ModelCheckpoint(monitor='val_loss', filepath=weight_path, verbose=1, save_best_only=True),\n",
    "                                        EarlyStopping(monitor='val_loss', patience=5, verbose=0, mode='auto')])"
   ]
  },
  {
   "cell_type": "code",
   "execution_count": null,
   "id": "4c1cda28-d305-42d3-a22c-15fcf31b28c6",
   "metadata": {},
   "outputs": [],
   "source": []
  },
  {
   "cell_type": "markdown",
   "id": "107e9932-d304-486a-a6b0-129ab43e65c5",
   "metadata": {},
   "source": [
    "## Model history plot"
   ]
  },
  {
   "cell_type": "code",
   "execution_count": 25,
   "id": "152d640e-825a-4ca9-b330-a7cc98b3b297",
   "metadata": {
    "execution": {
     "iopub.execute_input": "2022-09-07T15:49:32.714131Z",
     "iopub.status.busy": "2022-09-07T15:49:32.713627Z",
     "iopub.status.idle": "2022-09-07T15:49:33.021994Z",
     "shell.execute_reply": "2022-09-07T15:49:33.021434Z",
     "shell.execute_reply.started": "2022-09-07T15:49:32.714081Z"
    },
    "tags": []
   },
   "outputs": [
    {
     "data": {
      "image/png": "[encoded data removed]",
      "text/plain": [
       "<Figure size 1440x720 with 2 Axes>"
      ]
     },
     "metadata": {
      "needs_background": "light"
     },
     "output_type": "display_data"
    }
   ],
   "source": [
    "# model auroc 0.719짜리\n",
    "%matplotlib inline\n",
    "import matplotlib.pyplot as plt\n",
    "\n",
    "fig, loss_ax = plt.subplots(figsize=(20,10))\n",
    "\n",
    "#x-axis는 공유하지만 y-axis는 공유x\n",
    "acc_ax = loss_ax.twinx()\n",
    "\n",
    "loss_ax.plot(hist.history['loss'], 'y', linestyle='dashed', label='train loss')\n",
    "loss_ax.plot(hist.history['val_loss'], 'r', label='val loss')\n",
    "\n",
    "#acc_ax.plot(hist.history['mean_absolute_error'], 'b', linestyle='dashed',label='train mae')\n",
    "#acc_ax.plot(hist.history['val_mean_absolute_error'], 'g', label='val mae')\n",
    "acc_ax.plot(hist.history['acc'], 'b', linestyle='dashed',label='train acc')\n",
    "acc_ax.plot(hist.history['val_acc'], 'g', label='val acc')\n",
    "\n",
    "loss_ax.set_xlabel('epoch')\n",
    "loss_ax.set_ylabel('loss')\n",
    "#acc_ax.set_ylim(0.2,1.0)\n",
    "acc_ax.set_ylabel('accuray')\n",
    "\n",
    "loss_ax.legend(loc='upper left')\n",
    "acc_ax.legend(loc='lower left')\n",
    "\n",
    "plt.show()"
   ]
  }
 ],
 "metadata": {
  "kernelspec": {
   "display_name": "keras",
   "language": "python",
   "name": "painstudy_keras"
  },
  "language_info": {
   "codemirror_mode": {
    "name": "ipython",
    "version": 3
   },
   "file_extension": ".py",
   "mimetype": "text/x-python",
   "name": "python",
   "nbconvert_exporter": "python",
   "pygments_lexer": "ipython3",
   "version": "3.8.12"
  }
 },
 "nbformat": 4,
 "nbformat_minor": 5
}
