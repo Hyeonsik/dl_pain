{
 "cells": [
  {
   "cell_type": "code",
   "execution_count": 1,
   "id": "9b9674e9-4cbc-4add-8c5d-4fe80090ff02",
   "metadata": {
    "execution": {
     "iopub.execute_input": "2022-01-17T02:37:39.766372Z",
     "iopub.status.busy": "2022-01-17T02:37:39.765646Z",
     "iopub.status.idle": "2022-01-17T02:37:41.984594Z",
     "shell.execute_reply": "2022-01-17T02:37:41.984031Z",
     "shell.execute_reply.started": "2022-01-17T02:37:39.766225Z"
    },
    "tags": []
   },
   "outputs": [],
   "source": [
    "from keras import losses, metrics\n",
    "from keras.models import Sequential\n",
    "from keras.models import Model, load_model\n",
    "#from keras.optimizers import Adam\n",
    "from keras.layers import Dense, Conv1D, MaxPooling1D, GlobalMaxPool1D, BatchNormalization, Dropout, Activation\n",
    "from keras.layers import GlobalAveragePooling1D, Flatten, SeparableConv1D\n",
    "from keras.callbacks import ModelCheckpoint, EarlyStopping\n",
    "from sklearn.metrics import auc, classification_report, confusion_matrix, accuracy_score, roc_curve, roc_auc_score, f1_score, precision_recall_curve\n",
    "import tensorflow as tf\n",
    "import os, sys, pickle\n",
    "import pandas as pd\n",
    "import random"
   ]
  },
  {
   "cell_type": "markdown",
   "id": "95c1648c-889e-4e8e-994a-4f94004cd3e6",
   "metadata": {},
   "source": [
    "# 0. GPU setting"
   ]
  },
  {
   "cell_type": "code",
   "execution_count": 2,
   "id": "f28ca3a7-b731-4a36-b71c-9bfb52a6a507",
   "metadata": {
    "execution": {
     "iopub.execute_input": "2022-01-17T02:37:43.290915Z",
     "iopub.status.busy": "2022-01-17T02:37:43.290491Z",
     "iopub.status.idle": "2022-01-17T02:37:43.295614Z",
     "shell.execute_reply": "2022-01-17T02:37:43.294651Z",
     "shell.execute_reply.started": "2022-01-17T02:37:43.290872Z"
    },
    "tags": []
   },
   "outputs": [],
   "source": [
    "os.environ[\"CUDA_DEVICE_ORDER\"]=\"PCI_BUS_ID\"  \n",
    "os.environ[\"CUDA_VISIBLE_DEVICES\"]= \"1\"  "
   ]
  },
  {
   "cell_type": "code",
   "execution_count": 19,
   "id": "a4b165bb-ad7b-4e19-840e-f314458556b8",
   "metadata": {
    "collapsed": true,
    "execution": {
     "iopub.execute_input": "2022-01-15T14:21:33.328067Z",
     "iopub.status.busy": "2022-01-15T14:21:33.327682Z",
     "iopub.status.idle": "2022-01-15T14:21:36.724014Z",
     "shell.execute_reply": "2022-01-15T14:21:36.723246Z",
     "shell.execute_reply.started": "2022-01-15T14:21:33.328036Z"
    },
    "jupyter": {
     "outputs_hidden": true,
     "source_hidden": true
    },
    "tags": []
   },
   "outputs": [
    {
     "name": "stdout",
     "output_type": "stream",
     "text": [
      "4 Physical GPUs, 4 Logical GPUs\n"
     ]
    },
    {
     "name": "stderr",
     "output_type": "stream",
     "text": [
      "2022-01-15 23:21:33.400468: I tensorflow/core/platform/cpu_feature_guard.cc:151] This TensorFlow binary is optimized with oneAPI Deep Neural Network Library (oneDNN) to use the following CPU instructions in performance-critical operations:  AVX2 FMA\n",
      "To enable them in other operations, rebuild TensorFlow with the appropriate compiler flags.\n",
      "2022-01-15 23:21:36.711660: I tensorflow/core/common_runtime/gpu/gpu_device.cc:1525] Created device /job:localhost/replica:0/task:0/device:GPU:0 with 6 MB memory:  -> device: 0, name: Tesla V100-DGXS-32GB, pci bus id: 0000:07:00.0, compute capability: 7.0\n",
      "2022-01-15 23:21:36.714741: I tensorflow/core/common_runtime/gpu/gpu_device.cc:1525] Created device /job:localhost/replica:0/task:0/device:GPU:1 with 30982 MB memory:  -> device: 1, name: Tesla V100-DGXS-32GB, pci bus id: 0000:08:00.0, compute capability: 7.0\n",
      "2022-01-15 23:21:36.715454: I tensorflow/core/common_runtime/gpu/gpu_device.cc:1525] Created device /job:localhost/replica:0/task:0/device:GPU:2 with 177 MB memory:  -> device: 2, name: Tesla V100-DGXS-32GB, pci bus id: 0000:0e:00.0, compute capability: 7.0\n",
      "2022-01-15 23:21:36.716125: I tensorflow/core/common_runtime/gpu/gpu_device.cc:1525] Created device /job:localhost/replica:0/task:0/device:GPU:3 with 30982 MB memory:  -> device: 3, name: Tesla V100-DGXS-32GB, pci bus id: 0000:0f:00.0, compute capability: 7.0\n"
     ]
    }
   ],
   "source": [
    "import tensorflow as tf\n",
    "\n",
    "gpus = tf.config.experimental.list_physical_devices('GPU')\n",
    "if gpus:\n",
    "    try:\n",
    "        # Currently, memory growth needs to be the same across GPUs\n",
    "        for gpu in gpus:\n",
    "            tf.config.experimental.set_memory_growth(gpu, True)\n",
    "        logical_gpus = tf.config.experimental.list_logical_devices('GPU')\n",
    "        print(len(gpus), \"Physical GPUs,\", len(logical_gpus), \"Logical GPUs\")\n",
    "    except RuntimeError as e:\n",
    "        # Memory growth must be set before GPUs have been initialized\n",
    "        print(e)"
   ]
  },
  {
   "cell_type": "markdown",
   "id": "e9993ca4-5802-4326-88d6-12c593658b90",
   "metadata": {},
   "source": [
    "# 1. Input loading"
   ]
  },
  {
   "cell_type": "code",
   "execution_count": 3,
   "id": "a2cfae2e-f0f2-43b8-987c-ed4b40a81440",
   "metadata": {
    "execution": {
     "iopub.execute_input": "2022-01-17T02:37:47.114579Z",
     "iopub.status.busy": "2022-01-17T02:37:47.114089Z",
     "iopub.status.idle": "2022-01-17T02:37:49.152965Z",
     "shell.execute_reply": "2022-01-17T02:37:49.152471Z",
     "shell.execute_reply.started": "2022-01-17T02:37:47.114530Z"
    },
    "tags": []
   },
   "outputs": [
    {
     "name": "stdout",
     "output_type": "stream",
     "text": [
      "loading train...done\n",
      "x_train shape: (14182, 2000, 2)\n",
      "x_test.shape: (1791, 2000, 2)\n",
      "x_val.shape: (1571, 2000, 2)\n"
     ]
    }
   ],
   "source": [
    "import pandas as pd\n",
    "import numpy as np\n",
    "\n",
    "BATCH_SIZE = 1024\n",
    "MAX_CASES = 2000\n",
    "SEGLEN_IN_SEC = 20\n",
    "SRATE = 100\n",
    "LEN_INPUT = 20\n",
    "OVERLAP = 10\n",
    "LEN_PER_PRE = 60\n",
    "LEN_PER_POST = 120\n",
    "\n",
    "\n",
    "print('loading train...', flush=True, end='')\n",
    "\n",
    "# x를 loading해서 (batch_size, step, channel)\n",
    "input_path = f\"../DL_model/dataset/ne{LEN_PER_PRE}s-e{LEN_PER_POST}s-len{LEN_INPUT}-{OVERLAP}/\"\n",
    "x_train = np.load(input_path+'x_train.npz', allow_pickle=True)['arr_0']\n",
    "x_test = np.load(input_path+'x_test.npz', allow_pickle=True)['arr_0']\n",
    "x_val = np.load(input_path+'x_val.npz', allow_pickle=True)['arr_0']\n",
    "\n",
    "tss_train = np.load(input_path+'tss_train.npz')['arr_0']\n",
    "tss_test = np.load(input_path+'tss_test.npz')['arr_0']\n",
    "tss_val = np.load(input_path+'tss_val.npz')['arr_0']\n",
    "cisa_train = np.load(input_path+'cisa_train.npz')['arr_0']\n",
    "cisa_test = np.load(input_path+'cisa_test.npz')['arr_0']\n",
    "cisa_val = np.load(input_path+'cisa_val.npz')['arr_0']\n",
    "\n",
    "gender_train = np.load(input_path+'gender_train.npz', allow_pickle=True)['arr_0']\n",
    "gender_test = np.load(input_path+'gender_test.npz', allow_pickle=True)['arr_0']\n",
    "gender_val = np.load(input_path+'gender_val.npz', allow_pickle=True)['arr_0']\n",
    "\n",
    "age_train = np.load(input_path+'age_train.npz', allow_pickle=True)['arr_0']\n",
    "age_test = np.load(input_path+'age_test.npz', allow_pickle=True)['arr_0']\n",
    "age_val = np.load(input_path+'age_val.npz', allow_pickle=True)['arr_0']\n",
    "\n",
    "\n",
    "print('done', flush=True)\n",
    "\n",
    "\n",
    "print('x_train shape:', x_train.shape)\n",
    "print('x_test.shape:', x_test.shape)\n",
    "print('x_val.shape:', x_val.shape)"
   ]
  },
  {
   "cell_type": "code",
   "execution_count": 13,
   "id": "f50a3fcc-61cb-445a-87a3-257b0794cfe3",
   "metadata": {
    "collapsed": true,
    "execution": {
     "iopub.execute_input": "2022-01-15T14:10:07.614087Z",
     "iopub.status.busy": "2022-01-15T14:10:07.613564Z",
     "iopub.status.idle": "2022-01-15T14:10:07.887531Z",
     "shell.execute_reply": "2022-01-15T14:10:07.886918Z",
     "shell.execute_reply.started": "2022-01-15T14:10:07.614036Z"
    },
    "jupyter": {
     "outputs_hidden": true
    },
    "tags": []
   },
   "outputs": [
    {
     "data": {
      "text/plain": [
       "(array([8.835e+03, 9.400e+01, 9.100e+01, 2.390e+02, 1.050e+02, 8.700e+01,\n",
       "        7.600e+01, 5.800e+01, 7.500e+01, 5.600e+01, 8.400e+01, 1.340e+02,\n",
       "        2.571e+03, 2.380e+02, 1.520e+02, 1.220e+02, 1.250e+02, 1.120e+02,\n",
       "        1.100e+02, 1.320e+02, 1.180e+02, 6.400e+01, 6.000e+01, 5.600e+01,\n",
       "        5.100e+01, 3.300e+01, 3.500e+01, 2.200e+01, 3.700e+01, 4.700e+01,\n",
       "        1.300e+01, 6.000e+00, 2.000e+00, 5.000e+00, 7.000e+00, 3.000e+00,\n",
       "        1.400e+01, 2.200e+01, 8.000e+00, 5.000e+00, 5.000e+00, 0.000e+00,\n",
       "        1.000e+00, 1.000e+00, 3.000e+00, 3.000e+00, 2.200e+01, 0.000e+00,\n",
       "        2.000e+00, 2.000e+00, 1.000e+00, 2.000e+00, 1.000e+00, 1.000e+00,\n",
       "        1.000e+00, 1.000e+00, 1.000e+00, 0.000e+00, 0.000e+00, 2.000e+00,\n",
       "        1.000e+00, 3.000e+00, 2.000e+00, 0.000e+00, 0.000e+00, 0.000e+00,\n",
       "        1.000e+00, 0.000e+00, 0.000e+00, 0.000e+00, 1.000e+00, 0.000e+00,\n",
       "        1.000e+01, 0.000e+00, 1.000e+00, 1.000e+00, 0.000e+00, 1.000e+00,\n",
       "        1.000e+00, 0.000e+00, 7.000e+00]),\n",
       " array([0.        , 0.01938272, 0.03876543, 0.05814815, 0.07753087,\n",
       "        0.09691358, 0.1162963 , 0.13567902, 0.15506174, 0.17444445,\n",
       "        0.19382717, 0.21320988, 0.2325926 , 0.25197533, 0.27135804,\n",
       "        0.29074076, 0.31012347, 0.3295062 , 0.3488889 , 0.36827162,\n",
       "        0.38765433, 0.40703705, 0.42641976, 0.44580248, 0.4651852 ,\n",
       "        0.4845679 , 0.50395066, 0.5233334 , 0.5427161 , 0.5620988 ,\n",
       "        0.5814815 , 0.60086423, 0.62024695, 0.63962966, 0.6590124 ,\n",
       "        0.6783951 , 0.6977778 , 0.7171605 , 0.73654324, 0.75592595,\n",
       "        0.77530867, 0.7946914 , 0.8140741 , 0.8334568 , 0.8528395 ,\n",
       "        0.87222224, 0.89160496, 0.9109877 , 0.9303704 , 0.9497531 ,\n",
       "        0.9691358 , 0.98851854, 1.0079013 , 1.027284  , 1.0466667 ,\n",
       "        1.0660495 , 1.0854322 , 1.1048149 , 1.1241976 , 1.1435803 ,\n",
       "        1.162963  , 1.1823457 , 1.2017285 , 1.2211112 , 1.2404939 ,\n",
       "        1.2598766 , 1.2792593 , 1.298642  , 1.3180248 , 1.3374075 ,\n",
       "        1.3567902 , 1.3761729 , 1.3955556 , 1.4149383 , 1.434321  ,\n",
       "        1.4537038 , 1.4730865 , 1.4924692 , 1.5118519 , 1.5312346 ,\n",
       "        1.5506173 , 1.57      ], dtype=float32),\n",
       " <BarContainer object of 81 artists>)"
      ]
     },
     "execution_count": 13,
     "metadata": {},
     "output_type": "execute_result"
    },
    {
     "data": {
      "image/png": "[encoded data removed]",
      "text/plain": [
       "<Figure size 432x288 with 1 Axes>"
      ]
     },
     "metadata": {
      "needs_background": "light"
     },
     "output_type": "display_data"
    }
   ],
   "source": [
    "plt.hist(tss_train, bins='auto')"
   ]
  },
  {
   "cell_type": "code",
   "execution_count": 4,
   "id": "21782233-cf3f-4168-966d-894a20da1b65",
   "metadata": {
    "execution": {
     "iopub.execute_input": "2022-01-17T02:37:52.811295Z",
     "iopub.status.busy": "2022-01-17T02:37:52.810869Z",
     "iopub.status.idle": "2022-01-17T02:37:52.817348Z",
     "shell.execute_reply": "2022-01-17T02:37:52.816363Z",
     "shell.execute_reply.started": "2022-01-17T02:37:52.811255Z"
    },
    "tags": []
   },
   "outputs": [],
   "source": [
    "mode = 'TSS'\n",
    "\n",
    "if mode == 'TSS':\n",
    "    # tss를 output으로 할 경우\n",
    "    y_train = tss_train\n",
    "    y_val = tss_val\n",
    "    y_test = tss_test\n",
    "\n",
    "elif mode == 'CISA':\n",
    "    # cisa를 output으로 할 경우\n",
    "    y_train = cisa_train/10\n",
    "    y_val = cisa_val/10\n",
    "    y_test = cisa_test/10"
   ]
  },
  {
   "cell_type": "code",
   "execution_count": 29,
   "id": "a42510c6-5386-4cb0-ae69-8d98e0aeb879",
   "metadata": {
    "execution": {
     "iopub.execute_input": "2022-01-16T07:06:15.455933Z",
     "iopub.status.busy": "2022-01-16T07:06:15.455412Z",
     "iopub.status.idle": "2022-01-16T07:06:15.616883Z",
     "shell.execute_reply": "2022-01-16T07:06:15.616243Z",
     "shell.execute_reply.started": "2022-01-16T07:06:15.455882Z"
    },
    "tags": []
   },
   "outputs": [
    {
     "data": {
      "text/plain": [
       "[<matplotlib.lines.Line2D at 0x7fbea41ccac0>]"
      ]
     },
     "execution_count": 29,
     "metadata": {},
     "output_type": "execute_result"
    },
    {
     "data": {
      "image/png": "[encoded data removed]",
      "text/plain": [
       "<Figure size 432x288 with 1 Axes>"
      ]
     },
     "metadata": {
      "needs_background": "light"
     },
     "output_type": "display_data"
    }
   ],
   "source": [
    "plt.plot(x_val[4,:,0])\n",
    "#np.mean(x_val[2,:,1])"
   ]
  },
  {
   "cell_type": "markdown",
   "id": "2a86fc49-1640-49e4-9e04-fedfcfc916f5",
   "metadata": {},
   "source": [
    "# 2. Model Training"
   ]
  },
  {
   "cell_type": "code",
   "execution_count": 8,
   "id": "424cf838-5e33-49f5-82c5-86f3a9380d3c",
   "metadata": {
    "execution": {
     "iopub.execute_input": "2022-01-17T02:48:18.820804Z",
     "iopub.status.busy": "2022-01-17T02:48:18.820277Z",
     "iopub.status.idle": "2022-01-17T02:49:04.290836Z",
     "shell.execute_reply": "2022-01-17T02:49:04.290129Z",
     "shell.execute_reply.started": "2022-01-17T02:48:18.820754Z"
    },
    "scrolled": true,
    "tags": []
   },
   "outputs": [
    {
     "name": "stdout",
     "output_type": "stream",
     "text": [
      "64-64-128\n"
     ]
    },
    {
     "name": "stderr",
     "output_type": "stream",
     "text": [
      "/home/painstudy/anaconda3/envs/keras/lib/python3.8/site-packages/keras/optimizer_v2/adam.py:105: UserWarning: The `lr` argument is deprecated, use `learning_rate` instead.\n",
      "  super(Adam, self).__init__(name, **kwargs)\n"
     ]
    },
    {
     "name": "stdout",
     "output_type": "stream",
     "text": [
      "Epoch 1/100\n",
      "28/28 [==============================] - ETA: 0s - loss: 1.6322 - mean_absolute_error: 0.9971\n",
      "Epoch 00001: val_loss improved from inf to 0.13276, saving model to output/CNN_TSS_ne60s-e120s-len20-10/EEG+PPG_reg_conv64_conv64_conv128_filter3x2_tanh_bn_maxpool2_globalmaxpool_dropout0.3_dense64_dropout0.3_batch512_lr_0.002_kinit_kreg0/weights.hdf5\n",
      "28/28 [==============================] - 4s 104ms/step - loss: 1.6322 - mean_absolute_error: 0.9971 - val_loss: 0.1328 - val_mean_absolute_error: 0.3131\n",
      "Epoch 2/100\n",
      "28/28 [==============================] - ETA: 0s - loss: 0.9431 - mean_absolute_error: 0.7770\n",
      "Epoch 00002: val_loss did not improve from 0.13276\n",
      "28/28 [==============================] - 2s 84ms/step - loss: 0.9431 - mean_absolute_error: 0.7770 - val_loss: 0.2183 - val_mean_absolute_error: 0.4132\n",
      "Epoch 3/100\n",
      "28/28 [==============================] - ETA: 0s - loss: 0.7331 - mean_absolute_error: 0.6839\n",
      "Epoch 00003: val_loss improved from 0.13276 to 0.03087, saving model to output/CNN_TSS_ne60s-e120s-len20-10/EEG+PPG_reg_conv64_conv64_conv128_filter3x2_tanh_bn_maxpool2_globalmaxpool_dropout0.3_dense64_dropout0.3_batch512_lr_0.002_kinit_kreg0/weights.hdf5\n",
      "28/28 [==============================] - 3s 91ms/step - loss: 0.7331 - mean_absolute_error: 0.6839 - val_loss: 0.0309 - val_mean_absolute_error: 0.1345\n",
      "Epoch 4/100\n",
      "28/28 [==============================] - ETA: 0s - loss: 0.5657 - mean_absolute_error: 0.5985\n",
      "Epoch 00004: val_loss did not improve from 0.03087\n",
      "28/28 [==============================] - 3s 90ms/step - loss: 0.5657 - mean_absolute_error: 0.5985 - val_loss: 0.0378 - val_mean_absolute_error: 0.1374\n",
      "Epoch 5/100\n",
      "28/28 [==============================] - ETA: 0s - loss: 0.4313 - mean_absolute_error: 0.5233\n",
      "Epoch 00005: val_loss improved from 0.03087 to 0.02448, saving model to output/CNN_TSS_ne60s-e120s-len20-10/EEG+PPG_reg_conv64_conv64_conv128_filter3x2_tanh_bn_maxpool2_globalmaxpool_dropout0.3_dense64_dropout0.3_batch512_lr_0.002_kinit_kreg0/weights.hdf5\n",
      "28/28 [==============================] - 3s 90ms/step - loss: 0.4313 - mean_absolute_error: 0.5233 - val_loss: 0.0245 - val_mean_absolute_error: 0.1294\n",
      "Epoch 6/100\n",
      "28/28 [==============================] - ETA: 0s - loss: 0.3223 - mean_absolute_error: 0.4515\n",
      "Epoch 00006: val_loss improved from 0.02448 to 0.02405, saving model to output/CNN_TSS_ne60s-e120s-len20-10/EEG+PPG_reg_conv64_conv64_conv128_filter3x2_tanh_bn_maxpool2_globalmaxpool_dropout0.3_dense64_dropout0.3_batch512_lr_0.002_kinit_kreg0/weights.hdf5\n",
      "28/28 [==============================] - 2s 89ms/step - loss: 0.3223 - mean_absolute_error: 0.4515 - val_loss: 0.0241 - val_mean_absolute_error: 0.1160\n",
      "Epoch 7/100\n",
      "28/28 [==============================] - ETA: 0s - loss: 0.2537 - mean_absolute_error: 0.4012\n",
      "Epoch 00007: val_loss did not improve from 0.02405\n",
      "28/28 [==============================] - 2s 89ms/step - loss: 0.2537 - mean_absolute_error: 0.4012 - val_loss: 0.0246 - val_mean_absolute_error: 0.1157\n",
      "Epoch 8/100\n",
      "28/28 [==============================] - ETA: 0s - loss: 0.1847 - mean_absolute_error: 0.3408\n",
      "Epoch 00008: val_loss improved from 0.02405 to 0.02177, saving model to output/CNN_TSS_ne60s-e120s-len20-10/EEG+PPG_reg_conv64_conv64_conv128_filter3x2_tanh_bn_maxpool2_globalmaxpool_dropout0.3_dense64_dropout0.3_batch512_lr_0.002_kinit_kreg0/weights.hdf5\n",
      "28/28 [==============================] - 3s 94ms/step - loss: 0.1847 - mean_absolute_error: 0.3408 - val_loss: 0.0218 - val_mean_absolute_error: 0.1171\n",
      "Epoch 9/100\n",
      "28/28 [==============================] - ETA: 0s - loss: 0.1412 - mean_absolute_error: 0.2979\n",
      "Epoch 00009: val_loss improved from 0.02177 to 0.02002, saving model to output/CNN_TSS_ne60s-e120s-len20-10/EEG+PPG_reg_conv64_conv64_conv128_filter3x2_tanh_bn_maxpool2_globalmaxpool_dropout0.3_dense64_dropout0.3_batch512_lr_0.002_kinit_kreg0/weights.hdf5\n",
      "28/28 [==============================] - 3s 91ms/step - loss: 0.1412 - mean_absolute_error: 0.2979 - val_loss: 0.0200 - val_mean_absolute_error: 0.1197\n",
      "Epoch 10/100\n",
      "28/28 [==============================] - ETA: 0s - loss: 0.1062 - mean_absolute_error: 0.2572\n",
      "Epoch 00010: val_loss did not improve from 0.02002\n",
      "28/28 [==============================] - 2s 86ms/step - loss: 0.1062 - mean_absolute_error: 0.2572 - val_loss: 0.0202 - val_mean_absolute_error: 0.1184\n",
      "Epoch 11/100\n",
      "28/28 [==============================] - ETA: 0s - loss: 0.0839 - mean_absolute_error: 0.2278\n",
      "Epoch 00011: val_loss did not improve from 0.02002\n",
      "28/28 [==============================] - 3s 92ms/step - loss: 0.0839 - mean_absolute_error: 0.2278 - val_loss: 0.0205 - val_mean_absolute_error: 0.1302\n",
      "Epoch 12/100\n",
      "28/28 [==============================] - ETA: 0s - loss: 0.0647 - mean_absolute_error: 0.1985\n",
      "Epoch 00012: val_loss improved from 0.02002 to 0.01970, saving model to output/CNN_TSS_ne60s-e120s-len20-10/EEG+PPG_reg_conv64_conv64_conv128_filter3x2_tanh_bn_maxpool2_globalmaxpool_dropout0.3_dense64_dropout0.3_batch512_lr_0.002_kinit_kreg0/weights.hdf5\n",
      "28/28 [==============================] - 3s 94ms/step - loss: 0.0647 - mean_absolute_error: 0.1985 - val_loss: 0.0197 - val_mean_absolute_error: 0.1214\n",
      "Epoch 13/100\n",
      "28/28 [==============================] - ETA: 0s - loss: 0.0528 - mean_absolute_error: 0.1772\n",
      "Epoch 00013: val_loss did not improve from 0.01970\n",
      "28/28 [==============================] - 2s 88ms/step - loss: 0.0528 - mean_absolute_error: 0.1772 - val_loss: 0.0197 - val_mean_absolute_error: 0.1259\n",
      "Epoch 14/100\n",
      "28/28 [==============================] - ETA: 0s - loss: 0.0437 - mean_absolute_error: 0.1595\n",
      "Epoch 00014: val_loss did not improve from 0.01970\n",
      "28/28 [==============================] - 3s 91ms/step - loss: 0.0437 - mean_absolute_error: 0.1595 - val_loss: 0.0198 - val_mean_absolute_error: 0.1265\n",
      "Epoch 15/100\n",
      "28/28 [==============================] - ETA: 0s - loss: 0.0377 - mean_absolute_error: 0.1472\n",
      "Epoch 00015: val_loss did not improve from 0.01970\n",
      "28/28 [==============================] - 3s 92ms/step - loss: 0.0377 - mean_absolute_error: 0.1472 - val_loss: 0.0197 - val_mean_absolute_error: 0.1248\n",
      "Epoch 16/100\n",
      "28/28 [==============================] - ETA: 0s - loss: 0.0333 - mean_absolute_error: 0.1376\n",
      "Epoch 00016: val_loss did not improve from 0.01970\n",
      "28/28 [==============================] - 3s 90ms/step - loss: 0.0333 - mean_absolute_error: 0.1376 - val_loss: 0.0199 - val_mean_absolute_error: 0.1272\n",
      "Epoch 17/100\n",
      "28/28 [==============================] - ETA: 0s - loss: 0.0308 - mean_absolute_error: 0.1327\n",
      "Epoch 00017: val_loss did not improve from 0.01970\n",
      "28/28 [==============================] - 2s 84ms/step - loss: 0.0308 - mean_absolute_error: 0.1327 - val_loss: 0.0197 - val_mean_absolute_error: 0.1244\n",
      "test set RMSE: 0.157, MAE: 0.128\n"
     ]
    }
   ],
   "source": [
    "from keras.models import Sequential\n",
    "from keras.models import Model, load_model\n",
    "from tensorflow.keras.optimizers import Adam\n",
    "from keras.layers import Dense, Conv1D, MaxPooling1D, GlobalMaxPool1D, BatchNormalization, Dropout, Activation\n",
    "from keras.layers import GlobalAveragePooling1D, Flatten, SeparableConv1D, LeakyReLU\n",
    "from keras.callbacks import ModelCheckpoint, EarlyStopping\n",
    "from sklearn.metrics import auc, classification_report, confusion_matrix, accuracy_score, roc_curve, roc_auc_score, f1_score, precision_recall_curve\n",
    "import tensorflow as tf\n",
    "import os, pickle\n",
    "from keras import backend as K\n",
    "from keras import regularizers\n",
    "from keras.initializers import he_normal, GlorotNormal\n",
    "\n",
    "\n",
    "# hyperparamters\n",
    "num_nodes = [64, 64, 128] #, 64, 64, 64]\n",
    "kernel_size = 3\n",
    "pool_size = 2\n",
    "BATCH_SIZE = 512\n",
    "dense_node = 64\n",
    "#dropout_rate = 0.3\n",
    "dropout_cnn = 0.3\n",
    "dropout_fc = 0.3\n",
    "learning_rate = 0.002\n",
    "\n",
    "\n",
    "# initializer & regularizer\n",
    "k_init = he_normal(seed=None)\n",
    "#k_init = GlorotNormal(seed=None) # Xavier normal initializer\n",
    "#k_init = None\n",
    "b_init = None\n",
    "k_l2 = 0\n",
    "#k_reg = regularizers.l2(l2=k_l2)\n",
    "k_reg = None\n",
    "b_reg = None\n",
    "\n",
    "\n",
    "testname = '-'.join([str(num_node) for num_node in num_nodes])\n",
    "print(testname)\n",
    "\n",
    "\n",
    "# 출력 폴더를 생성\n",
    "model_name = 'EEG+PPG_reg_'\n",
    "for num_node in num_nodes:\n",
    "    model_name += 'conv{}_'.format(num_node)\n",
    "model_name += 'filter{}x2_tanh_bn_maxpool{}_globalmaxpool_dropout{}_dense{}_dropout{}_batch{}_lr_{}_kinit_kreg{}'.format(kernel_size, pool_size, dropout_cnn, dense_node, dropout_fc, BATCH_SIZE, learning_rate, k_l2)\n",
    "\n",
    "#model_name = 'model_reg_{}_{}_{}_size{}_relu_bn_maxpool{}_globalmaxpool_dense32_dropout{}_batch{}_learning_rate{}'.format(num_nodes[0], num_nodes[1], num_nodes[2], kernel_size, pool_size, dropout_rate, BATCH_SIZE, learning_rate)\n",
    "root_path = f\"output/CNN_{mode}_ne{LEN_PER_PRE}s-e{LEN_PER_POST}s-len{LEN_INPUT}-{OVERLAP}\"\n",
    "save_path = f\"{root_path}/{model_name}\"\n",
    "\n",
    "if not os.path.exists(save_path):\n",
    "    os.mkdir(save_path)\n",
    "weight_path = save_path + \"/weights.hdf5\"\n",
    "\n",
    "\n",
    "# GPU 설정\n",
    "#strategy = tf.distribute.MirroredStrategy(devices=[\"/gpu:1\"])\n",
    "#with strategy.scope():\n",
    "with tf.device('/gpu:1'):\n",
    "    \n",
    "    # build a model\n",
    "    model = Sequential()\n",
    "    for num_node in num_nodes:\n",
    "        model.add(Conv1D(filters=num_node, kernel_size=kernel_size, padding='same', kernel_initializer=k_init,bias_initializer =b_init , kernel_regularizer=k_reg, bias_regularizer=b_reg))\n",
    "        model.add(Conv1D(filters=num_node, kernel_size=kernel_size, padding='same', kernel_initializer=k_init,bias_initializer =b_init , kernel_regularizer=k_reg, bias_regularizer=b_reg))\n",
    "        #model.add(LeakyReLU(alpha=0.1))\n",
    "        model.add(Activation('relu'))\n",
    "        model.add(BatchNormalization())\n",
    "        model.add(MaxPooling1D(pool_size=pool_size))\n",
    "        \n",
    "    #model.add(BatchNormalization())    \n",
    "    model.add(GlobalMaxPool1D())\n",
    "    model.add(Dropout(dropout_cnn))\n",
    "\n",
    "    if dense_node != 0:\n",
    "        model.add(Dense(dense_node, activation='tanh')) #, kernel_initializer=k_init, kernel_regularizer=k_reg))\n",
    "        model.add(Dropout(dropout_fc))\n",
    "    model.add(Dense(1)) #kernel_initializer=k_init, kernel_regularizer=k_reg, activation='relu'))\n",
    "\n",
    "    \n",
    "    # model 학습 설정\n",
    "    model.compile(loss='mse', optimizer=Adam(lr=learning_rate), metrics=[\"mean_absolute_error\"])\n",
    "    hist = model.fit(x_train, y_train, validation_data=(x_val, y_val), epochs=100, batch_size=BATCH_SIZE, #class_weight={0:1, 1:3}, \n",
    "                            callbacks=[ModelCheckpoint(monitor='val_loss', filepath=weight_path, verbose=1, save_best_only=True),\n",
    "                                        EarlyStopping(monitor='val_loss', patience=5, verbose=0, mode='auto')])\n",
    "\n",
    "    tf.keras.backend.clear_session()\n",
    "\n",
    "model.load_weights(weight_path)\n",
    "\n",
    "# 모델의 아키텍처 및 구조 저장\n",
    "open(save_path + \"/model.json\", \"wt\").write(model.to_json())\n",
    "\n",
    "# 전체 test 샘플을 한번에 예측\n",
    "y_pred = model.predict(x_test) # binary는 flatten\n",
    "\n",
    "# RMSE 계산\n",
    "model_err = metrics.RootMeanSquaredError()\n",
    "model_err.update_state(y_test, y_pred)\n",
    "rmse_val = model_err.result().numpy()\n",
    "\n",
    "# MAE 계산\n",
    "model_err = metrics.MeanAbsoluteError()\n",
    "model_err.update_state(y_test, y_pred)\n",
    "mae_val = model_err.result().numpy()\n",
    "\n",
    "print(f'test set RMSE: {rmse_val:.3f}, MAE: {mae_val:.3f}')\n",
    "\n",
    "# 모델의 history log 저장 - binary classification\n",
    "history_list = []\n",
    "for key in hist.history.keys():\n",
    "    history_list.append({key:hist.history[key]})\n",
    "\n",
    "# 모델의 history log 저장 - regression\n",
    "pickle.dump(history_list, open(save_path+'/history','wb'))\n",
    "#pickle.dump((hist.history['loss'], hist.history['val_loss'], hist.history['mean_absolute_error'], hist.history['val_mean_absolute_error']), open(save_path+'/history', 'wb'))\n",
    "\n",
    "os.rename(save_path, f'{root_path}/rmse{rmse_val:.3f}_mae{mae_val:.3f}_{model_name}')"
   ]
  },
  {
   "cell_type": "code",
   "execution_count": 7,
   "id": "44df19ae-2a1d-4dbd-b014-438ca7b5f748",
   "metadata": {
    "execution": {
     "iopub.execute_input": "2022-01-17T02:40:16.860631Z",
     "iopub.status.busy": "2022-01-17T02:40:16.860142Z",
     "iopub.status.idle": "2022-01-17T02:40:16.879842Z",
     "shell.execute_reply": "2022-01-17T02:40:16.879205Z",
     "shell.execute_reply.started": "2022-01-17T02:40:16.860583Z"
    },
    "tags": []
   },
   "outputs": [
    {
     "name": "stdout",
     "output_type": "stream",
     "text": [
      "Model: \"sequential\"\n",
      "_________________________________________________________________\n",
      " Layer (type)                Output Shape              Param #   \n",
      "=================================================================\n",
      " conv1d (Conv1D)             (None, 2000, 64)          448       \n",
      "                                                                 \n",
      " conv1d_1 (Conv1D)           (None, 2000, 64)          12352     \n",
      "                                                                 \n",
      " activation (Activation)     (None, 2000, 64)          0         \n",
      "                                                                 \n",
      " batch_normalization (BatchN  (None, 2000, 64)         256       \n",
      " ormalization)                                                   \n",
      "                                                                 \n",
      " max_pooling1d (MaxPooling1D  (None, 1000, 64)         0         \n",
      " )                                                               \n",
      "                                                                 \n",
      " conv1d_2 (Conv1D)           (None, 1000, 64)          12352     \n",
      "                                                                 \n",
      " conv1d_3 (Conv1D)           (None, 1000, 64)          12352     \n",
      "                                                                 \n",
      " activation_1 (Activation)   (None, 1000, 64)          0         \n",
      "                                                                 \n",
      " batch_normalization_1 (Batc  (None, 1000, 64)         256       \n",
      " hNormalization)                                                 \n",
      "                                                                 \n",
      " max_pooling1d_1 (MaxPooling  (None, 500, 64)          0         \n",
      " 1D)                                                             \n",
      "                                                                 \n",
      " conv1d_4 (Conv1D)           (None, 500, 128)          24704     \n",
      "                                                                 \n",
      " conv1d_5 (Conv1D)           (None, 500, 128)          49280     \n",
      "                                                                 \n",
      " activation_2 (Activation)   (None, 500, 128)          0         \n",
      "                                                                 \n",
      " batch_normalization_2 (Batc  (None, 500, 128)         512       \n",
      " hNormalization)                                                 \n",
      "                                                                 \n",
      " max_pooling1d_2 (MaxPooling  (None, 250, 128)         0         \n",
      " 1D)                                                             \n",
      "                                                                 \n",
      " global_max_pooling1d (Globa  (None, 128)              0         \n",
      " lMaxPooling1D)                                                  \n",
      "                                                                 \n",
      " dropout (Dropout)           (None, 128)               0         \n",
      "                                                                 \n",
      " dense (Dense)               (None, 64)                8256      \n",
      "                                                                 \n",
      " dropout_1 (Dropout)         (None, 64)                0         \n",
      "                                                                 \n",
      " dense_1 (Dense)             (None, 1)                 65        \n",
      "                                                                 \n",
      "=================================================================\n",
      "Total params: 120,833\n",
      "Trainable params: 120,321\n",
      "Non-trainable params: 512\n",
      "_________________________________________________________________\n"
     ]
    }
   ],
   "source": [
    "model.summary()"
   ]
  },
  {
   "cell_type": "code",
   "execution_count": 22,
   "id": "f2efee45-7add-4ae8-9eef-aafc81ae6895",
   "metadata": {
    "execution": {
     "iopub.execute_input": "2022-01-16T07:04:16.466512Z",
     "iopub.status.busy": "2022-01-16T07:04:16.466014Z",
     "iopub.status.idle": "2022-01-16T07:04:16.473426Z",
     "shell.execute_reply": "2022-01-16T07:04:16.472527Z",
     "shell.execute_reply.started": "2022-01-16T07:04:16.466463Z"
    },
    "tags": []
   },
   "outputs": [
    {
     "data": {
      "text/plain": [
       "dict_keys(['loss', 'mean_absolute_error', 'val_loss', 'val_mean_absolute_error'])"
      ]
     },
     "execution_count": 22,
     "metadata": {},
     "output_type": "execute_result"
    }
   ],
   "source": [
    "hist.history.keys()"
   ]
  },
  {
   "cell_type": "markdown",
   "id": "7515613d-ceec-4326-b4d4-a3b9467be3bf",
   "metadata": {},
   "source": [
    "### regression"
   ]
  },
  {
   "cell_type": "code",
   "execution_count": null,
   "id": "07e5f96f-ada1-4471-81f2-1bf2f49f5d35",
   "metadata": {},
   "outputs": [],
   "source": [
    "        model.compile(loss='mse', optimizer=Adam(lr=learning_rate), metrics=[\"mean_absolute_error\", tf.keras.metrics.AUC()])\n",
    "        hist = model.fit(x_train, y_train, validation_data=(x_val, y_val), epochs=100, batch_size=batch_size, #class_weight={0:1, 1:3}, \n",
    "                                callbacks=[ModelCheckpoint(monitor='val_loss', filepath=weightcache, verbose=1, save_best_only=True),\n",
    "                                            EarlyStopping(monitor='val_loss', patience=5, verbose=0, mode='auto')])"
   ]
  },
  {
   "cell_type": "markdown",
   "id": "a4b4999f-93cb-4bc2-b5b4-89bed3b9f0a2",
   "metadata": {},
   "source": [
    "### binary classification"
   ]
  },
  {
   "cell_type": "code",
   "execution_count": null,
   "id": "a9e46940-4be0-42d7-b55a-504f2c4911e5",
   "metadata": {},
   "outputs": [],
   "source": [
    "    model.compile(loss='categorical_crossentropy', optimizer=Adam(lr=learning_rate), metrics=[\"acc\", tf.keras.metrics.AUC()])\n",
    "    hist = model.fit(x_train, y_train_class, sample_weight = train_w_samp, validation_data = (x_val, y_val_class, val_w_samp), epochs=100, batch_size=BATCH_SIZE, #class_weight={0:1, 1:3}, \n",
    "                            callbacks=[ModelCheckpoint(monitor='val_loss', filepath=weight_path, verbose=1, save_best_only=True),\n",
    "                                        EarlyStopping(monitor='val_loss', patience=5, verbose=0, mode='auto')])"
   ]
  },
  {
   "cell_type": "code",
   "execution_count": null,
   "id": "4c1cda28-d305-42d3-a22c-15fcf31b28c6",
   "metadata": {},
   "outputs": [],
   "source": []
  },
  {
   "cell_type": "markdown",
   "id": "107e9932-d304-486a-a6b0-129ab43e65c5",
   "metadata": {},
   "source": [
    "## Model history plot"
   ]
  },
  {
   "cell_type": "code",
   "execution_count": 6,
   "id": "152d640e-825a-4ca9-b330-a7cc98b3b297",
   "metadata": {
    "execution": {
     "iopub.execute_input": "2022-01-17T02:40:14.465206Z",
     "iopub.status.busy": "2022-01-17T02:40:14.464717Z",
     "iopub.status.idle": "2022-01-17T02:40:15.598034Z",
     "shell.execute_reply": "2022-01-17T02:40:15.597518Z",
     "shell.execute_reply.started": "2022-01-17T02:40:14.465157Z"
    },
    "tags": []
   },
   "outputs": [
    {
     "data": {
      "image/png": "[encoded data removed]",
      "text/plain": [
       "<Figure size 1440x720 with 2 Axes>"
      ]
     },
     "metadata": {
      "needs_background": "light"
     },
     "output_type": "display_data"
    }
   ],
   "source": [
    "# model auroc 0.719짜리\n",
    "%matplotlib inline\n",
    "import matplotlib.pyplot as plt\n",
    "\n",
    "fig, loss_ax = plt.subplots(figsize=(20,10))\n",
    "\n",
    "#x-axis는 공유하지만 y-axis는 공유x\n",
    "acc_ax = loss_ax.twinx()\n",
    "\n",
    "loss_ax.plot(hist.history['loss'], 'y', linestyle='dashed', label='train loss')\n",
    "loss_ax.plot(hist.history['val_loss'], 'r', label='val loss')\n",
    "\n",
    "acc_ax.plot(hist.history['mean_absolute_error'], 'b', linestyle='dashed',label='train mae')\n",
    "acc_ax.plot(hist.history['val_mean_absolute_error'], 'g', label='val mae')\n",
    "#acc_ax.plot(hist.history['acc'], 'b', linestyle='dashed',label='train acc')\n",
    "#acc_ax.plot(hist.history['val_acc'], 'g', label='val acc')\n",
    "\n",
    "loss_ax.set_xlabel('epoch')\n",
    "loss_ax.set_ylabel('loss')\n",
    "#acc_ax.set_ylim(0.2,1.0)\n",
    "acc_ax.set_ylabel('accuray')\n",
    "\n",
    "loss_ax.legend(loc='upper left')\n",
    "acc_ax.legend(loc='lower left')\n",
    "\n",
    "plt.show()"
   ]
  }
 ],
 "metadata": {
  "kernelspec": {
   "display_name": "keras",
   "language": "python",
   "name": "painstudy_keras"
  },
  "language_info": {
   "codemirror_mode": {
    "name": "ipython",
    "version": 3
   },
   "file_extension": ".py",
   "mimetype": "text/x-python",
   "name": "python",
   "nbconvert_exporter": "python",
   "pygments_lexer": "ipython3",
   "version": "3.8.12"
  }
 },
 "nbformat": 4,
 "nbformat_minor": 5
}
