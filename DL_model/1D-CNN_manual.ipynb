{
 "cells": [
  {
   "cell_type": "code",
   "execution_count": 1,
   "id": "9b9674e9-4cbc-4add-8c5d-4fe80090ff02",
   "metadata": {
    "execution": {
     "iopub.execute_input": "2022-01-15T13:21:38.772620Z",
     "iopub.status.busy": "2022-01-15T13:21:38.772053Z",
     "iopub.status.idle": "2022-01-15T13:21:41.033142Z",
     "shell.execute_reply": "2022-01-15T13:21:41.032556Z",
     "shell.execute_reply.started": "2022-01-15T13:21:38.772494Z"
    },
    "tags": []
   },
   "outputs": [],
   "source": [
    "from keras import losses, metrics\n",
    "from keras.models import Sequential\n",
    "from keras.models import Model, load_model\n",
    "#from keras.optimizers import Adam\n",
    "from keras.layers import Dense, Conv1D, MaxPooling1D, GlobalMaxPool1D, BatchNormalization, Dropout, Activation\n",
    "from keras.layers import GlobalAveragePooling1D, Flatten, SeparableConv1D\n",
    "from keras.callbacks import ModelCheckpoint, EarlyStopping\n",
    "from sklearn.metrics import auc, classification_report, confusion_matrix, accuracy_score, roc_curve, roc_auc_score, f1_score, precision_recall_curve\n",
    "import tensorflow as tf\n",
    "import os, sys, pickle\n",
    "import pandas as pd\n",
    "import random"
   ]
  },
  {
   "cell_type": "markdown",
   "id": "95c1648c-889e-4e8e-994a-4f94004cd3e6",
   "metadata": {},
   "source": [
    "# 0. GPU setting"
   ]
  },
  {
   "cell_type": "code",
   "execution_count": null,
   "id": "a4b165bb-ad7b-4e19-840e-f314458556b8",
   "metadata": {},
   "outputs": [],
   "source": [
    "import tensorflow as tf\n",
    "\n",
    "gpus = tf.config.experimental.list_physical_devices('GPU')\n",
    "if gpus:\n",
    "    try:\n",
    "        # Currently, memory growth needs to be the same across GPUs\n",
    "        for gpu in gpus:\n",
    "            tf.config.experimental.set_memory_growth(gpu, True)\n",
    "        logical_gpus = tf.config.experimental.list_logical_devices('GPU')\n",
    "        print(len(gpus), \"Physical GPUs,\", len(logical_gpus), \"Logical GPUs\")\n",
    "    except RuntimeError as e:\n",
    "        # Memory growth must be set before GPUs have been initialized\n",
    "        print(e)"
   ]
  },
  {
   "cell_type": "markdown",
   "id": "e9993ca4-5802-4326-88d6-12c593658b90",
   "metadata": {},
   "source": [
    "# 1. Input loading"
   ]
  },
  {
   "cell_type": "code",
   "execution_count": 2,
   "id": "a2cfae2e-f0f2-43b8-987c-ed4b40a81440",
   "metadata": {
    "execution": {
     "iopub.execute_input": "2022-01-15T13:21:46.396410Z",
     "iopub.status.busy": "2022-01-15T13:21:46.395912Z",
     "iopub.status.idle": "2022-01-15T13:21:48.446210Z",
     "shell.execute_reply": "2022-01-15T13:21:48.445679Z",
     "shell.execute_reply.started": "2022-01-15T13:21:46.396362Z"
    },
    "tags": []
   },
   "outputs": [
    {
     "name": "stdout",
     "output_type": "stream",
     "text": [
      "loading train...done\n",
      "x_train shape: (14182, 2000, 2)\n",
      "x_test.shape: (1791, 2000, 2)\n",
      "x_val.shape: (1571, 2000, 2)\n"
     ]
    }
   ],
   "source": [
    "import pandas as pd\n",
    "import numpy as np\n",
    "\n",
    "BATCH_SIZE = 1024\n",
    "MAX_CASES = 2000\n",
    "SEGLEN_IN_SEC = 20\n",
    "SRATE = 100\n",
    "LEN_INPUT = 20\n",
    "OVERLAP = 10\n",
    "LEN_PER_PRE = 60\n",
    "LEN_PER_POST = 120\n",
    "\n",
    "\n",
    "print('loading train...', flush=True, end='')\n",
    "\n",
    "# x를 loading해서 (batch_size, step, channel)\n",
    "input_path = f\"../DL_model/dataset/ne{LEN_PER_PRE}s-e{LEN_PER_POST}s-len{LEN_INPUT}-{OVERLAP}/\"\n",
    "x_train = np.load(input_path+'x_train.npz', allow_pickle=True)['arr_0']\n",
    "x_test = np.load(input_path+'x_test.npz', allow_pickle=True)['arr_0']\n",
    "x_val = np.load(input_path+'x_val.npz', allow_pickle=True)['arr_0']\n",
    "\n",
    "tss_train = np.load(input_path+'tss_train.npz')['arr_0']\n",
    "tss_test = np.load(input_path+'tss_test.npz')['arr_0']\n",
    "tss_val = np.load(input_path+'tss_val.npz')['arr_0']\n",
    "cisa_train = np.load(input_path+'cisa_train.npz')['arr_0']\n",
    "cisa_test = np.load(input_path+'cisa_test.npz')['arr_0']\n",
    "cisa_val = np.load(input_path+'cisa_val.npz')['arr_0']\n",
    "\n",
    "gender_train = np.load(input_path+'gender_train.npz', allow_pickle=True)['arr_0']\n",
    "gender_test = np.load(input_path+'gender_test.npz', allow_pickle=True)['arr_0']\n",
    "gender_val = np.load(input_path+'gender_val.npz', allow_pickle=True)['arr_0']\n",
    "\n",
    "age_train = np.load(input_path+'age_train.npz', allow_pickle=True)['arr_0']\n",
    "age_test = np.load(input_path+'age_test.npz', allow_pickle=True)['arr_0']\n",
    "age_val = np.load(input_path+'age_val.npz', allow_pickle=True)['arr_0']\n",
    "\n",
    "\n",
    "print('done', flush=True)\n",
    "\n",
    "\n",
    "print('x_train shape:', x_train.shape)\n",
    "print('x_test.shape:', x_test.shape)\n",
    "print('x_val.shape:', x_val.shape)"
   ]
  },
  {
   "cell_type": "code",
   "execution_count": 3,
   "id": "dc3cb425-206a-4431-aef6-0022dade48ae",
   "metadata": {
    "execution": {
     "iopub.execute_input": "2022-01-15T13:22:08.876195Z",
     "iopub.status.busy": "2022-01-15T13:22:08.875690Z",
     "iopub.status.idle": "2022-01-15T13:22:09.637715Z",
     "shell.execute_reply": "2022-01-15T13:22:09.637196Z",
     "shell.execute_reply.started": "2022-01-15T13:22:08.876147Z"
    },
    "tags": []
   },
   "outputs": [
    {
     "name": "stdout",
     "output_type": "stream",
     "text": [
      "0.10152053 1.57 0.0\n"
     ]
    },
    {
     "data": {
      "text/plain": [
       "(4.1433883, 7.0, 0.0)"
      ]
     },
     "execution_count": 3,
     "metadata": {},
     "output_type": "execute_result"
    }
   ],
   "source": [
    "import matplotlib.pyplot as plt\n",
    "\n",
    "#plt.plot(tss_train)\n",
    "print(np.mean(tss_train), np.max(tss_train), np.min(tss_train))\n",
    "np.mean(cisa_train), np.max(cisa_train), np.min(cisa_train)"
   ]
  },
  {
   "cell_type": "code",
   "execution_count": 9,
   "id": "f50a3fcc-61cb-445a-87a3-257b0794cfe3",
   "metadata": {
    "execution": {
     "iopub.execute_input": "2022-01-15T13:54:24.811903Z",
     "iopub.status.busy": "2022-01-15T13:54:24.810946Z",
     "iopub.status.idle": "2022-01-15T13:54:25.133346Z",
     "shell.execute_reply": "2022-01-15T13:54:25.132497Z",
     "shell.execute_reply.started": "2022-01-15T13:54:24.811854Z"
    },
    "tags": []
   },
   "outputs": [
    {
     "ename": "AttributeError",
     "evalue": "module 'matplotlib.pyplot' has no attribute 'histogram'",
     "output_type": "error",
     "traceback": [
      "\u001b[0;31m---------------------------------------------------------------------------\u001b[0m",
      "\u001b[0;31mAttributeError\u001b[0m                            Traceback (most recent call last)",
      "\u001b[0;32m/tmp/ipykernel_2582824/389266677.py\u001b[0m in \u001b[0;36m<module>\u001b[0;34m\u001b[0m\n\u001b[0;32m----> 1\u001b[0;31m \u001b[0mplt\u001b[0m\u001b[0;34m.\u001b[0m\u001b[0mhistogram\u001b[0m\u001b[0;34m(\u001b[0m\u001b[0mtss_train\u001b[0m\u001b[0;34m)\u001b[0m\u001b[0;34m\u001b[0m\u001b[0;34m\u001b[0m\u001b[0m\n\u001b[0m",
      "\u001b[0;31mAttributeError\u001b[0m: module 'matplotlib.pyplot' has no attribute 'histogram'"
     ]
    }
   ],
   "source": [
    "plt.histogram(tss_train)"
   ]
  }
 ],
 "metadata": {
  "kernelspec": {
   "display_name": "keras",
   "language": "python",
   "name": "painstudy_keras"
  },
  "language_info": {
   "codemirror_mode": {
    "name": "ipython",
    "version": 3
   },
   "file_extension": ".py",
   "mimetype": "text/x-python",
   "name": "python",
   "nbconvert_exporter": "python",
   "pygments_lexer": "ipython3",
   "version": "3.8.12"
  }
 },
 "nbformat": 4,
 "nbformat_minor": 5
}
