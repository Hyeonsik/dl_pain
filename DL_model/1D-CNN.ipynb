{
 "cells": [
  {
   "cell_type": "markdown",
   "id": "99afdbb9-8128-4e8f-8dcc-55e5bd2184fe",
   "metadata": {},
   "source": [
    "# GPU setting"
   ]
  },
  {
   "cell_type": "code",
   "execution_count": null,
   "id": "70812fe3-9e51-451c-8075-9f0e8f7f0b10",
   "metadata": {},
   "outputs": [],
   "source": [
    "import tensorflow as tf\n",
    "\n",
    "gpus = tf.config.experimental.list_physical_devices('GPU')\n",
    "if gpus:\n",
    "    try:\n",
    "        # Currently, memory growth needs to be the same across GPUs\n",
    "        for gpu in gpus:\n",
    "            tf.config.experimental.set_memory_growth(gpu, True)\n",
    "        logical_gpus = tf.config.experimental.list_logical_devices('GPU')\n",
    "        print(len(gpus), \"Physical GPUs,\", len(logical_gpus), \"Logical GPUs\")\n",
    "    except RuntimeError as e:\n",
    "        # Memory growth must be set before GPUs have been initialized\n",
    "        print(e)"
   ]
  },
  {
   "cell_type": "markdown",
   "id": "ac1741e5-8d15-439f-8c98-e5584d241cd3",
   "metadata": {},
   "source": [
    "# 1. Loading input"
   ]
  },
  {
   "cell_type": "code",
   "execution_count": 3,
   "id": "6c0b0c42-49c7-400b-a249-cd30cb4e90a5",
   "metadata": {
    "execution": {
     "iopub.execute_input": "2022-01-14T03:43:17.055325Z",
     "iopub.status.busy": "2022-01-14T03:43:17.054991Z",
     "iopub.status.idle": "2022-01-14T03:43:18.449524Z",
     "shell.execute_reply": "2022-01-14T03:43:18.449030Z",
     "shell.execute_reply.started": "2022-01-14T03:43:17.055294Z"
    },
    "tags": []
   },
   "outputs": [
    {
     "name": "stdout",
     "output_type": "stream",
     "text": [
      "loading train...done\n",
      "x_train shape: (9301, 2000, 2)\n",
      "x_test.shape: (1106, 2000, 2)\n",
      "x_val.shape: (1040, 2000, 2)\n"
     ]
    }
   ],
   "source": [
    "import pandas as pd\n",
    "import numpy as np\n",
    "\n",
    "print('loading train...', flush=True, end='')\n",
    "\n",
    "# x를 loading해서 (batch_size, step, channel)\n",
    "input_path = '../DL_model/dataset/60s-len20s-10s/'\n",
    "x_train = np.load(input_path+'x_train.npz', allow_pickle=True)['arr_0']\n",
    "x_test = np.load(input_path+'x_test.npz', allow_pickle=True)['arr_0']\n",
    "x_val = np.load(input_path+'x_val.npz', allow_pickle=True)['arr_0']\n",
    "\n",
    "tss_train = np.load(input_path+'tss_train.npz')['arr_0']\n",
    "tss_test = np.load(input_path+'tss_test.npz')['arr_0']\n",
    "tss_val = np.load(input_path+'tss_val.npz')['arr_0']\n",
    "cisa_train = np.load(input_path+'cisa_train.npz')['arr_0']\n",
    "cisa_test = np.load(input_path+'cisa_test.npz')['arr_0']\n",
    "cisa_val = np.load(input_path+'cisa_val.npz')['arr_0']\n",
    "\n",
    "gender_train = np.load(input_path+'gender_train.npz', allow_pickle=True)['arr_0']\n",
    "gender_test = np.load(input_path+'gender_test.npz', allow_pickle=True)['arr_0']\n",
    "gender_val = np.load(input_path+'gender_val.npz', allow_pickle=True)['arr_0']\n",
    "\n",
    "age_train = np.load(input_path+'age_train.npz', allow_pickle=True)['arr_0']\n",
    "age_test = np.load(input_path+'age_test.npz', allow_pickle=True)['arr_0']\n",
    "age_val = np.load(input_path+'age_val.npz', allow_pickle=True)['arr_0']\n",
    "\n",
    "\n",
    "print('done', flush=True)\n",
    "\n",
    "\n",
    "print('x_train shape:', x_train.shape)\n",
    "print('x_test.shape:', x_test.shape)\n",
    "print('x_val.shape:', x_val.shape)"
   ]
  },
  {
   "cell_type": "code",
   "execution_count": 6,
   "id": "8b61f671-b490-4f3c-8f7d-01096a09990a",
   "metadata": {
    "execution": {
     "iopub.execute_input": "2022-01-14T03:45:53.132043Z",
     "iopub.status.busy": "2022-01-14T03:45:53.131537Z",
     "iopub.status.idle": "2022-01-14T03:45:53.140243Z",
     "shell.execute_reply": "2022-01-14T03:45:53.139332Z",
     "shell.execute_reply.started": "2022-01-14T03:45:53.131994Z"
    },
    "tags": []
   },
   "outputs": [
    {
     "data": {
      "text/plain": [
       "(0.064015135, 1.57, 0.0)"
      ]
     },
     "execution_count": 6,
     "metadata": {},
     "output_type": "execute_result"
    }
   ],
   "source": [
    "import matplotlib.pyplot as plt\n",
    "\n",
    "#plt.plot(tss_train)\n",
    "np.mean(tss_train), np.max(tss_train), np.min(tss_train)"
   ]
  },
  {
   "cell_type": "code",
   "execution_count": 7,
   "id": "22efb33b-5aab-4351-a169-adcf6a1eee6a",
   "metadata": {
    "execution": {
     "iopub.execute_input": "2022-01-14T03:46:05.772710Z",
     "iopub.status.busy": "2022-01-14T03:46:05.772356Z",
     "iopub.status.idle": "2022-01-14T03:46:05.778539Z",
     "shell.execute_reply": "2022-01-14T03:46:05.777924Z",
     "shell.execute_reply.started": "2022-01-14T03:46:05.772680Z"
    },
    "tags": []
   },
   "outputs": [
    {
     "data": {
      "text/plain": [
       "(2.9357631, 7.0, 0.0)"
      ]
     },
     "execution_count": 7,
     "metadata": {},
     "output_type": "execute_result"
    }
   ],
   "source": [
    "np.mean(cisa_train), np.max(cisa_train), np.min(cisa_train)"
   ]
  }
 ],
 "metadata": {
  "kernelspec": {
   "display_name": "keras",
   "language": "python",
   "name": "painstudy_keras"
  },
  "language_info": {
   "codemirror_mode": {
    "name": "ipython",
    "version": 3
   },
   "file_extension": ".py",
   "mimetype": "text/x-python",
   "name": "python",
   "nbconvert_exporter": "python",
   "pygments_lexer": "ipython3",
   "version": "3.8.12"
  }
 },
 "nbformat": 4,
 "nbformat_minor": 5
}
